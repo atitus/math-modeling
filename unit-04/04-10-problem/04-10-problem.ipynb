{
 "cells": [
  {
   "cell_type": "markdown",
   "metadata": {},
   "source": [
    "# Unit 4 Assessment - Monte Carlo Simulations\n",
    "\n",
    "In this assessment, you are going to investigate models that use random numbers. \n",
    "\n",
    "Scores are determined by:\n",
    "\n",
    "- Successfully starting the C Level = 50 pts\n",
    "- Perfectly completing the C Level = 75 pts\n",
    "- Perfectly completing the B and C Levels = 85 pts\n",
    "- Perfectly completing the A, B, and C Levels = 100 pts\n",
    "\n",
    "You may use your Colab notebooks, our textbook, my notebook solutions, and any links to web sites I provide. (You may not use any other person or web site or book or resource, in general.) \n",
    "\n",
    "You may ask me for help **once**; however, you may ask for clarification as often as needed.\n",
    "\n",
    "Add additional cells for both code and markdown as needed. Write answers to questions in narrative form in markdown. You may print values you need in your code, and then use these values in a written response.\n",
    "\n",
    "All graphs should have correct titles and axis labels (with units)."
   ]
  },
  {
   "cell_type": "markdown",
   "metadata": {},
   "source": [
    "## Level C\n",
    "\n",
    "### Exercise 0\n",
    "\n",
    "Please type your name, and then run the following cells to import packages"
   ]
  },
  {
   "cell_type": "code",
   "execution_count": 1,
   "metadata": {},
   "outputs": [],
   "source": [
    "import numpy as np\n",
    "import matplotlib.pyplot as plt\n",
    "import random as rand"
   ]
  },
  {
   "cell_type": "markdown",
   "metadata": {},
   "source": [
    "### Exercise 1\n",
    "\n",
    "Print a random number in the interval $[0,1)$."
   ]
  },
  {
   "cell_type": "code",
   "execution_count": null,
   "metadata": {},
   "outputs": [],
   "source": []
  },
  {
   "cell_type": "markdown",
   "metadata": {},
   "source": [
    "### Exercise 2\n",
    "\n",
    "Print a random integer in the interval $[1,6]$. This is the equivalent of rolling a 6-sided di."
   ]
  },
  {
   "cell_type": "code",
   "execution_count": null,
   "metadata": {},
   "outputs": [],
   "source": []
  },
  {
   "cell_type": "markdown",
   "metadata": {},
   "source": [
    "### Exercise 3\n",
    "\n",
    "Print a random number from a gaussian distribution with a mean of 100 and standard deviation 10."
   ]
  },
  {
   "cell_type": "code",
   "execution_count": null,
   "metadata": {},
   "outputs": [],
   "source": []
  },
  {
   "cell_type": "markdown",
   "metadata": {},
   "source": [
    "### Exercise 4\n",
    "\n",
    "There is a philosophy in business called [six sigma](https://en.wikipedia.org/wiki/Six_Sigma). According to Wikipedia, six sigma \"is a set of techniques and tools for process improvement. It was introduced by American engineer Bill Smith while working at Motorola in 1986. Jack Welch made it central to his business strategy at General Electric in 1995. A six sigma process is one in which 99.99966% of all opportunities to produce some feature of a part are statistically expected to be free of defects.\"\n",
    "\n",
    "Re-read that last sentence, \"A six sigma process is one in which 99.99966% of all opportunities to produce some feature of a part are statistically expected to be free of defects.\" That means that a defect will only occur in 34 out of 10 million parts! Where does this number come from? Let's simulate it. **At first, we will only use one sigma. Then we will increase it later.** \n",
    "\n",
    "(a) Write a loop that selects a random number from a gaussian distribution with a mean of 100 and standard deviation of 10. If a random number is greater than the mean minus sigma OR if the random number is less than the mean plus sigma, count the occurrence of this number.\n",
    "\n",
    "Run your loop 100,000 times. What percentage of random numbers fall within the range of mean $\\pm$ sigma?\n"
   ]
  },
  {
   "cell_type": "code",
   "execution_count": null,
   "metadata": {},
   "outputs": [],
   "source": []
  },
  {
   "cell_type": "markdown",
   "metadata": {},
   "source": [
    "(b) Theoretically, we expect 68.3% of the data to fall within one standard deviation of the mean. How does your result from the Monte Carlo simulation compare to theory?"
   ]
  },
  {
   "cell_type": "code",
   "execution_count": null,
   "metadata": {},
   "outputs": [],
   "source": []
  },
  {
   "cell_type": "markdown",
   "metadata": {},
   "source": [
    "(c) Theoretically, we expect 95.5% percent of the data to fall within two standard deviations and 99.7% within three standard deviations from the mean. ([68–95–99.7 rule](https://en.wikipedia.org/wiki/68%E2%80%9395%E2%80%9399.7_rule)) Using your model, compute the percentage of random numbers that fall within 2 sigma of the mean and 3 sigma of the mean. Compare your results to theory. You can increase the number of iterations in your loop in order to get more accurate results from your model. However, Python loops are notoriously slow. For 1 million or 10 million loops, you may have to wait 30 seconds or longer."
   ]
  },
  {
   "cell_type": "code",
   "execution_count": null,
   "metadata": {},
   "outputs": [],
   "source": []
  },
  {
   "cell_type": "markdown",
   "metadata": {},
   "source": [
    "### Exercise 5\n",
    "\n",
    "In general what does one have to change so that the result of a Monte Carlo simulation is similar to what one expects using an analytic solution from calculus or probability theory?"
   ]
  },
  {
   "cell_type": "code",
   "execution_count": null,
   "metadata": {},
   "outputs": [],
   "source": []
  },
  {
   "cell_type": "markdown",
   "metadata": {},
   "source": [
    "## Level B\n",
    "\n",
    "### Exercise 1\n",
    "\n",
    "Suppose you have a four-sided di with the numbers 1, 2, 3, and 4. How would a four-sided die (with equal probability of each side) be shaped? You can just describe it. You don't have to know the formal name."
   ]
  },
  {
   "cell_type": "code",
   "execution_count": null,
   "metadata": {},
   "outputs": [],
   "source": []
  },
  {
   "cell_type": "markdown",
   "metadata": {},
   "source": [
    "### Exercise 2\n",
    "\n",
    "\n",
    "Write a program to roll the di 100 times and count the number of times you get a 3. Calculate and print the percentage of rolls that is a 3. Compare the result to what you expect from probability theory."
   ]
  },
  {
   "cell_type": "code",
   "execution_count": null,
   "metadata": {},
   "outputs": [],
   "source": []
  },
  {
   "cell_type": "markdown",
   "metadata": {},
   "source": [
    "### Exercise 3\n",
    "\n",
    "Write a program to roll the di 100 times, and store the result of each roll in a list. Calculate the print the percentage of rolls that produces each outcome. Comment on whether the percentages are similar to what you expect."
   ]
  },
  {
   "cell_type": "code",
   "execution_count": null,
   "metadata": {},
   "outputs": [],
   "source": []
  },
  {
   "cell_type": "markdown",
   "metadata": {},
   "source": [
    "### Exercise 4\n",
    "\n",
    "For your simulation to give nearly the same results as what you expect from theory, how should you change your program? Make that change and include the new program below."
   ]
  },
  {
   "cell_type": "code",
   "execution_count": null,
   "metadata": {},
   "outputs": [],
   "source": []
  },
  {
   "cell_type": "markdown",
   "metadata": {},
   "source": [
    "### Exercise 5\n",
    "\n",
    "Suppose you roll two four-sided dice and record the sum (total) of the two dice. How many unique combinations of the dice are there and how many unique outcomes (for the sum) exist for the total of two four-sided dice?\n",
    "\n",
    "I find it helpful to make a table like this:\n",
    "\n",
    "di A | di B | total\n",
    "--- | --- | ---\n",
    "1 | 4 | 5\n",
    "\n",
    "You can edit this cell and add more rows in order to list all possible outcomes of the dice. Then you can examine the total and find the number of unique combinations and unique totals (outcomes) of the dice."
   ]
  },
  {
   "cell_type": "code",
   "execution_count": null,
   "metadata": {},
   "outputs": [],
   "source": []
  },
  {
   "cell_type": "markdown",
   "metadata": {},
   "source": [
    "### Exercise 6\n",
    "\n",
    "Write a new program to roll the two four-sided dice 1000 times. Calculate and print the percentage of rolls that produces each outcome (i.e. total). What is the most probable outcome and how does this compare to what you expect based on the number of ways each outcome can be obtained? (See your table in Exercise 5.)"
   ]
  },
  {
   "cell_type": "code",
   "execution_count": null,
   "metadata": {},
   "outputs": [],
   "source": []
  },
  {
   "cell_type": "markdown",
   "metadata": {},
   "source": [
    "## Exercise A\n",
    "\n",
    "In the notebook `03-06-compounding-interest` Exercise 1, you solved the following problem:\n",
    "\n",
    "    College Student A invests  $1,000  on her 20th birthday, and the investment earns 7% for the rest of her life. On her 65th birthday, what is her investment worth? (Assume the investment is compounded daily.)\n",
    "\n",
    "In that exercise we found that after 45 years, her investment was worth $23329.02.\n",
    "\n",
    "Over the past 20 years, the stock market grew at an average of 7%. But we know it goes up and down. Take this same exercise and add randomness to the interest rate on her investment in the following way:\n",
    "\n",
    "- Inside the loop, assign the interest rate to a random number with a gaussian distribution of mean 7% and standard deviation 4%. (Note: this means the interest can be negative since the tail of this distribution will cross zero.)\n",
    "- Print the result.\n",
    "\n",
    "Run your simulation a few different times and comment on the results. Does she sometimes earn more than $\\$23329.02$? Does she sometimes earn less?"
   ]
  },
  {
   "cell_type": "code",
   "execution_count": null,
   "metadata": {},
   "outputs": [],
   "source": []
  }
 ],
 "metadata": {
  "kernelspec": {
   "display_name": "Python 3",
   "language": "python",
   "name": "python3"
  },
  "language_info": {
   "codemirror_mode": {
    "name": "ipython",
    "version": 3
   },
   "file_extension": ".py",
   "mimetype": "text/x-python",
   "name": "python",
   "nbconvert_exporter": "python",
   "pygments_lexer": "ipython3",
   "version": "3.8.3"
  }
 },
 "nbformat": 4,
 "nbformat_minor": 4
}
