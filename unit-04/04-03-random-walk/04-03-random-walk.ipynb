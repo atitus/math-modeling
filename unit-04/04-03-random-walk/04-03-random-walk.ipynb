{
 "cells": [
  {
   "cell_type": "markdown",
   "metadata": {},
   "source": [
    "Run the cell below if you need to install the `mplEasyAnimate` package. The [mplEasyAnimate](https://github.com/tboudreaux/mpl_animate) package was created by HPU alumnus Thomas Boudreaux."
   ]
  },
  {
   "cell_type": "code",
   "execution_count": null,
   "metadata": {},
   "outputs": [],
   "source": [
    "!pip install mplEasyAnimate"
   ]
  },
  {
   "cell_type": "markdown",
   "metadata": {},
   "source": [
    "# Random Walk\n",
    "\n",
    "See Module 9.5 in *Introduction to Computational Science* by Shiflet and Shiflet.\n",
    "\n",
    "Many physical processes are a result of an object traveling in a medium through random collisions with molecules or atoms in the medium. Examples include a pollen particle in a fluid, calcium traveling through a bone, or a photon generated in the interior of the sun traveling to the surface. One way to simulate this process is a *random walk*.\n",
    "\n",
    "In this notebook, you will:\n",
    "\n",
    "1. create a 3D visualization of a grid and object using the package `vpython`.\n",
    "2. randomly select steps for the object.\n",
    "3. visualize the path of the object.\n",
    "4. calculate the distance traveled from its starting location.\n",
    "\n",
    "## Introduction\n",
    "\n",
    "A simulation composed of a grid with cells (or sites) where each cell has a state and follows rules is called a *cellular automaton*. (The plural describing multiple such simulations is *cellular automata*.)\n",
    "\n",
    "In a random walk, the object in one time step randomly moves diagonally one cell in one of the following directions:\n",
    "\n",
    "- NE\n",
    "- NW\n",
    "- SW\n",
    "- SE\n",
    "\n",
    "(This is for a two-dimensional grid.) \n",
    "\n",
    "Let's define a Cartesian coordinate system with $+x$ to the right and $+y$. An object can only be at a location on the grid given by integers $(x,y)$. Each location will be called a *cell*. In other words, the location of the object given by the coordinate pair could be something like $(0,1)$ or $(-10,15)$ but not $(3.5,1)$.  A movement from cell to another is called a *displacement*.\n",
    "\n",
    "- A step to the right is $\\Delta x = +1$.\n",
    "- A step to the left is $\\Delta x = -1$.\n",
    "- A step upward is $\\Delta y = +1$.\n",
    "- A step downward is $\\Delta y = -1$.\n",
    "\n",
    "In a single step, the object can only have a displacement diagonally. In two dimensions, the possible displacements are:\n",
    "\n",
    "- NE: $<1,1,0>$\n",
    "- NW: $<-1,1,0>$\n",
    "- SE: $<1,-1,0>$\n",
    "- SW: $<-1,-1,0>$\n",
    "\n",
    "In the rest of the notebook, we will create a grid, move an object randomly along one of these four directions, and examine its motion\n"
   ]
  },
  {
   "cell_type": "code",
   "execution_count": 1,
   "metadata": {},
   "outputs": [],
   "source": [
    "import numpy as np\n",
    "import matplotlib.pyplot as plt\n",
    "import random as rand\n",
    "\n",
    "## the packages below are used to create an animation as a mp4 file and display it in the notebook\n",
    "from IPython.display import HTML\n",
    "from mplEasyAnimate import animation\n",
    "from tqdm import tqdm\n",
    "from base64 import b64encode"
   ]
  },
  {
   "cell_type": "markdown",
   "metadata": {},
   "source": [
    "## Random Walk\n",
    "\n",
    "A particle starts at $(0,0)$. It randomly travels diagonally NE, SE, NW, or SW. \n",
    "\n",
    "- Randomly pick 0 or 1 and use this to step right or left.\n",
    "- Randomly pick 0 or 1 and use this to step right or left. \n",
    "- Record the x position and y position after each step."
   ]
  },
  {
   "cell_type": "code",
   "execution_count": 14,
   "metadata": {},
   "outputs": [
    {
     "data": {
      "image/png": "[encoded data removed]",
      "text/plain": [
       "<Figure size 720x720 with 1 Axes>"
      ]
     },
     "metadata": {
      "needs_background": "light"
     },
     "output_type": "display_data"
    }
   ],
   "source": [
    "N = 20 #total number of steps\n",
    "\n",
    "xpos = []\n",
    "ypos = []\n",
    "\n",
    "#starting position\n",
    "x = 0\n",
    "y = 0\n",
    "xpos.append(x)\n",
    "ypos.append(y)\n",
    "\n",
    "for i in range(N):\n",
    "    \n",
    "    #step right or left\n",
    "    r = rand.randint(0,1)\n",
    "    if r == 0:\n",
    "        x = x + 1 #step right\n",
    "    else:\n",
    "        x = x - 1 #step left\n",
    "    \n",
    "    #step up or down\n",
    "    r = rand.randint(0,1)\n",
    "    if r == 0:\n",
    "        y = y + 1 #step up\n",
    "    else:\n",
    "        y = y - 1 #step down\n",
    "\n",
    "    #store values of x and y\n",
    "    xpos.append(x)\n",
    "    ypos.append(y)\n",
    "\n",
    "# plot path\n",
    "gridsize = 10\n",
    "fig = plt.figure(figsize=(10,10))\n",
    "ax = fig.gca()\n",
    "ax.set_aspect('equal')\n",
    "ax.set_xticks(np.arange(-gridsize, gridsize+1, 1))\n",
    "ax.set_yticks(np.arange(-gridsize, gridsize+1, 1))\n",
    "plt.axis('square')\n",
    "plt.xlim(-gridsize,gridsize)\n",
    "plt.ylim(-gridsize,gridsize)\n",
    "plt.grid()\n",
    "plt.plot(xpos,ypos,'k.-')\n",
    "plt.plot(0,0,'bo') #blue at starting position\n",
    "plt.plot(x,y,'ro') #red at last position\n",
    "plt.show()"
   ]
  },
  {
   "cell_type": "markdown",
   "metadata": {},
   "source": [
    "## Create an Animation"
   ]
  },
  {
   "cell_type": "code",
   "execution_count": 15,
   "metadata": {},
   "outputs": [
    {
     "name": "stderr",
     "output_type": "stream",
     "text": [
      "100%|██████████| 20/20 [00:04<00:00,  4.83it/s]\n"
     ]
    }
   ],
   "source": [
    "filename='walk.mp4'\n",
    "with animation(filename, dpi=30) as anim:\n",
    "    t_offsets = np.arange(N)\n",
    "    i=0\n",
    "    for offset in tqdm(t_offsets):\n",
    "\n",
    "        fig = plt.figure(figsize=(10,10))\n",
    "        ax = fig.gca()\n",
    "        ax.set_aspect('equal')\n",
    "        ax.set_xticks(np.arange(-10, 11, 1))\n",
    "        ax.set_yticks(np.arange(-10, 11, 1))\n",
    "        plt.axis('square')\n",
    "        plt.xlim(-10,10)\n",
    "        plt.ylim(-10,10)\n",
    "        plt.grid()\n",
    "        plt.plot(xpos[:i],ypos[:i],'k.-')\n",
    "        plt.plot(0,0,'bo')\n",
    "        if i>0:\n",
    "            plt.plot(xpos[i-1],ypos[i-1],'ro')\n",
    "        anim.add_frame(fig)\n",
    "        plt.close(fig)\n",
    "        i=i+1"
   ]
  },
  {
   "cell_type": "code",
   "execution_count": 16,
   "metadata": {},
   "outputs": [
    {
     "data": {
      "text/html": [
       "\n",
       "<video width=400 controls>\n",
       "      <source src=\"data:video/mp4;base64,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\" type=\"video/mp4\">\n",
       "</video>\n"
      ],
      "text/plain": [
       "<IPython.core.display.HTML object>"
      ]
     },
     "execution_count": 16,
     "metadata": {},
     "output_type": "execute_result"
    }
   ],
   "source": [
    "mp4 = open(filename,'rb').read()\n",
    "data_url = \"data:video/mp4;base64,\" + b64encode(mp4).decode()\n",
    "HTML(\"\"\"\n",
    "<video width=400 controls>\n",
    "      <source src=\"%s\" type=\"video/mp4\">\n",
    "</video>\n",
    "\"\"\" % data_url)"
   ]
  },
  {
   "cell_type": "markdown",
   "metadata": {},
   "source": [
    "## Calculate Distance\n",
    "\n",
    "Use the Pythagorean theorem to calculate the distance of the final position from the starting position.\n",
    "\n",
    "$$d = \\sqrt{x^2+y^2}$$\n",
    "\n"
   ]
  },
  {
   "cell_type": "code",
   "execution_count": 19,
   "metadata": {},
   "outputs": [
    {
     "name": "stdout",
     "output_type": "stream",
     "text": [
      "Distance from starting position = 8.94 grid units.\n"
     ]
    }
   ],
   "source": [
    "d = np.sqrt(xpos[-1]**2+ypos[-1]**2)\n",
    "print(\"Distance from starting position = {:.2f} grid units.\".format(d))"
   ]
  },
  {
   "cell_type": "markdown",
   "metadata": {},
   "source": [
    "## Using Python Functions\n",
    "\n",
    "Use Python functions to:\n",
    "\n",
    "1. do a random walk and return the x and y positions of the walk\n",
    "2. repeat the random walk and calculate (and return) the average distance\n",
    "\n",
    "Then, graph the average distance as a function of the number of steps."
   ]
  },
  {
   "cell_type": "code",
   "execution_count": 27,
   "metadata": {},
   "outputs": [
    {
     "name": "stdout",
     "output_type": "stream",
     "text": [
      "[0, -1, 0] [0, 1, 2]\n"
     ]
    }
   ],
   "source": [
    "def randomwalk(N): #N is number of steps; returns final position\n",
    "    xpos = []\n",
    "    ypos = []\n",
    "\n",
    "    #starting position\n",
    "    x = 0\n",
    "    y = 0\n",
    "    xpos.append(x)\n",
    "    ypos.append(y)\n",
    "\n",
    "    for i in range(N):\n",
    "\n",
    "        #step right or left\n",
    "        r = rand.randint(0,1)\n",
    "        if r == 0:\n",
    "            x = x + 1 #step right\n",
    "        else:\n",
    "            x = x - 1 #step left\n",
    "\n",
    "        #step up or down\n",
    "        r = rand.randint(0,1)\n",
    "        if r == 0:\n",
    "            y = y + 1 #step up\n",
    "        else:\n",
    "            y = y - 1 #step down\n",
    "\n",
    "        #store values of x and y\n",
    "        xpos.append(x)\n",
    "        ypos.append(y)\n",
    "    \n",
    "    return (xpos,ypos)\n",
    "\n",
    "def Nrandomwalks(Nwalks, Nsteps): #Nwalks of Nsteps are repeated; returns average distance\n",
    "    \n",
    "    darray = np.zeros(Nwalks)\n",
    "    for i in range(Nwalks):\n",
    "        (xpos,ypos) = randomwalk(Nsteps)\n",
    "        d = np.sqrt(xpos[-1]**2+ypos[-1]**2)\n",
    "        darray[i]=d\n",
    "    \n",
    "    dave = np.average(darray)\n",
    "    return dave\n",
    "\n"
   ]
  },
  {
   "cell_type": "code",
   "execution_count": 69,
   "metadata": {},
   "outputs": [
    {
     "data": {
      "image/png": "[encoded data removed]",
      "text/plain": [
       "<Figure size 720x576 with 1 Axes>"
      ]
     },
     "metadata": {
      "needs_background": "light"
     },
     "output_type": "display_data"
    }
   ],
   "source": [
    "Nmodel = range(1,50) #number of steps in each experiment\n",
    "dmodel = [] #store average distance\n",
    "for n in Nmodel:\n",
    "    d = Nrandomwalks(1000, n)\n",
    "    dmodel.append(d)\n",
    "\n",
    "plt.figure(figsize=(10,8))\n",
    "plt.title(\"Average distance from starting position\")\n",
    "plt.xlabel(\"N steps\")\n",
    "plt.ylabel(\"d (grid units)\")\n",
    "plt.plot(Nmodel,dmodel,'bo')\n",
    "plt.grid()\n",
    "plt.show()"
   ]
  },
  {
   "cell_type": "markdown",
   "metadata": {},
   "source": [
    "## Exercise 1\n",
    "\n",
    "Do a curve fit to the arrays of data for `Nmodel` and `dmodel`. Find an emperical model for $d(N)$."
   ]
  },
  {
   "cell_type": "code",
   "execution_count": null,
   "metadata": {},
   "outputs": [],
   "source": []
  }
 ],
 "metadata": {
  "kernelspec": {
   "display_name": "Python 3",
   "language": "python",
   "name": "python3"
  },
  "language_info": {
   "codemirror_mode": {
    "name": "ipython",
    "version": 3
   },
   "file_extension": ".py",
   "mimetype": "text/x-python",
   "name": "python",
   "nbconvert_exporter": "python",
   "pygments_lexer": "ipython3",
   "version": "3.8.3"
  }
 },
 "nbformat": 4,
 "nbformat_minor": 4
}
