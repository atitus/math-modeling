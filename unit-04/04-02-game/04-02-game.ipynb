{
 "cells": [
  {
   "cell_type": "code",
   "execution_count": 1,
   "metadata": {},
   "outputs": [],
   "source": [
    "import random as rand #for random numbers\n",
    "import numpy as np\n",
    "import matplotlib.pyplot as plt"
   ]
  },
  {
   "cell_type": "markdown",
   "metadata": {},
   "source": [
    "# Modeling a Game\n",
    "\n",
    "You are creating a fundraiser for your favorite HPU student organization. You will create a dart board that is a square of length 45 cm.\n",
    "\n",
    "![](dartboard.png)\n",
    "\n",
    "Inside the square, there are three circles. The purple circle has a diameter 45 cm (radius 22.5 cm). The blue circle has a diameter 27 cm (radius 13.5 cm). The red circle has a diameter 9 cm (radius 4.5 cm).\n",
    "\n",
    "## The Rules of the Game\n",
    "\n",
    "A dart inside the red circle wins $\\$10$.\n",
    "A dart inside the blue circle (but not in the red circle) wins $\\$5$.\n",
    "A dart inside the purple circle (but not in the red nor blue circles) wins $\\$1$.\n",
    "\n",
    "For the fundraiser, you will sell \"throws\" for a certain price $P$. What should be the minimum price of a throw so that you will not lose money on your fundraiser? To answer this question with a Monte Carlo simulation, you should answer these questions:\n",
    "\n",
    "1. What assumptions will you make for your model?\n",
    "2. What will you randomize?\n",
    "3. How will you know what circle a dart lands within?\n"
   ]
  },
  {
   "cell_type": "code",
   "execution_count": null,
   "metadata": {},
   "outputs": [],
   "source": []
  },
  {
   "cell_type": "markdown",
   "metadata": {},
   "source": [
    "# Exercise 1: Extending your Game\n",
    "\n",
    "1. What analytical questions can you ask about this fundraiser and how would you go about answering them?\n",
    "\n",
    "2. How can you change your game?"
   ]
  },
  {
   "cell_type": "code",
   "execution_count": null,
   "metadata": {},
   "outputs": [],
   "source": []
  },
  {
   "cell_type": "markdown",
   "metadata": {},
   "source": [
    "## Gaussian Distribution\n",
    "\n",
    "In the previous model of the dart board fundraiser, we assumed that every location on the board had an equal probability of a dart landing. Thus, we are assuming a person is blindfolded or is not trying to hit the bullseye. It's as if the dartboard is blank and they think the bullseye could be anywhere on the blank page. In reality, maybe more darts land near the blue circle than the red or purple circle. How can we modify our model to take this into account?\n",
    "\n",
    "A normal distribution is one where the number of occurrences of a particular event in each bin follows a function\n",
    "\n",
    "$$\\frac{1}{\\sqrt{2\\pi \\sigma}}e^{-(x-\\mu)^2/(2\\sigma)}$$\n",
    "\n",
    "where $\\mu$ is called the *mean* and $\\sigma$ is the standard deviation.\n",
    "\n",
    "The `random` package can return a random number that is generated from a normal distribution. Use the function\n",
    "\n",
    "```\n",
    "random.gauss(mu, sigma)\n",
    "```"
   ]
  },
  {
   "cell_type": "code",
   "execution_count": 79,
   "metadata": {},
   "outputs": [
    {
     "data": {
      "image/png": "[encoded data removed]",
      "text/plain": [
       "<Figure size 432x288 with 1 Axes>"
      ]
     },
     "metadata": {
      "needs_background": "light"
     },
     "output_type": "display_data"
    }
   ],
   "source": [
    "N=100000 #number of random numbers\n",
    "\n",
    "mu=0 #mean\n",
    "sigma=0.1 #standard deviation\n",
    "\n",
    "r_numbers=[] #list to store random numbers\n",
    "\n",
    "i=0\n",
    "while i<N:\n",
    "    r=rand.gauss(mu,sigma)\n",
    "    r_numbers.append(r)\n",
    "    i = i +1\n",
    "    \n",
    "totalbins = 100 # number of bins used for counting random numbers in that bin\n",
    "\n",
    "histogram = plt.hist(r_numbers, bins=totalbins, facecolor='red', edgecolor='black', linewidth=1)\n",
    "plt.title(\"Normal Distribution\")\n",
    "plt.xlabel(\"interval\")\n",
    "plt.ylabel(\"counts\")\n",
    "plt.show()"
   ]
  },
  {
   "cell_type": "markdown",
   "metadata": {},
   "source": [
    "## Exercise 2: Using a Gaussian Distribution for the Fundraiser Dart Board\n",
    "\n",
    "Where do you think most darts land on a dart board if people are aiming for the bullseye and if people are inexperienced at throwing darts?\n",
    "\n",
    "How can we change our model to reflect that the mean x position at which darts land on the board is not zero (which is the bullseye)?"
   ]
  },
  {
   "cell_type": "code",
   "execution_count": null,
   "metadata": {},
   "outputs": [],
   "source": []
  }
 ],
 "metadata": {
  "kernelspec": {
   "display_name": "Python 3",
   "language": "python",
   "name": "python3"
  },
  "language_info": {
   "codemirror_mode": {
    "name": "ipython",
    "version": 3
   },
   "file_extension": ".py",
   "mimetype": "text/x-python",
   "name": "python",
   "nbconvert_exporter": "python",
   "pygments_lexer": "ipython3",
   "version": "3.8.3"
  }
 },
 "nbformat": 4,
 "nbformat_minor": 4
}
