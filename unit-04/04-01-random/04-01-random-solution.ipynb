{
 "cells": [
  {
   "cell_type": "code",
   "execution_count": 2,
   "metadata": {},
   "outputs": [],
   "source": [
    "import random as rand #for random numbers\n",
    "import numpy as np\n",
    "import matplotlib.pyplot as plt"
   ]
  },
  {
   "cell_type": "markdown",
   "metadata": {},
   "source": [
    "# Random Numbers"
   ]
  },
  {
   "cell_type": "markdown",
   "metadata": {},
   "source": [
    "This is the first notebook on Unit 04 - Monte Carlo simulations. This is Chapter 9 in *Introduction to Computational Science*.\n",
    "\n",
    "In this notebook, you will learn how to create a random number using an algorithm. You will use a conditional statement to determine the roll of a di or flip of a coin using a random number. You will use your random number generator to find the area under a graph."
   ]
  },
  {
   "cell_type": "markdown",
   "metadata": {},
   "source": [
    "## Python's random number generator"
   ]
  },
  {
   "cell_type": "markdown",
   "metadata": {},
   "source": [
    "You can [read more about the functions](https://docs.python.org/3.7/library/random.html) available in Python for generating a random number. These include:\n",
    "\n",
    "- `random.randint(a, b)`\n",
    "\n",
    "   Return a random integer $N$ such that $a <= N <= b$. Alias for `randrange(a, b+1)`.\n",
    "   \n",
    "- `random.random()`\n",
    "\n",
    "   Return the next random floating point number in the range $[0.0, 1.0)$.\n",
    "   \n",
    "- `random.uniform(a, b)`\n",
    "\n",
    "   Return a random floating point number $N$ such that:\n",
    "   \n",
    "   - $a <= N <= b$ for $a <= b$\n",
    "   - $b <= N <= a$ for $b < a$.\n",
    "\n",
    "   The end-point value b may or may not be included in the range depending on floating-point rounding in the equation `a + (b-a) * random()`.\n",
    "   \n",
    "If you import all of the package `random` with an alias, then you can use an alias to call the functions. For example, you can use:\n",
    "\n",
    "```\n",
    "import random as rand\n",
    "```"
   ]
  },
  {
   "cell_type": "markdown",
   "metadata": {},
   "source": [
    "## Random float between 0 and 1, including 0 but not 1\n",
    "\n",
    "To get a random number between 0 and 1 use `rand.random()`."
   ]
  },
  {
   "cell_type": "code",
   "execution_count": 2,
   "metadata": {},
   "outputs": [
    {
     "name": "stdout",
     "output_type": "stream",
     "text": [
      "0.6023062877016261\n"
     ]
    }
   ],
   "source": [
    "print(rand.random())"
   ]
  },
  {
   "cell_type": "markdown",
   "metadata": {},
   "source": [
    "Re-run the cell or print multiple times to check that it returns different numbers."
   ]
  },
  {
   "cell_type": "code",
   "execution_count": 3,
   "metadata": {},
   "outputs": [
    {
     "name": "stdout",
     "output_type": "stream",
     "text": [
      "0.4562518517531624\n",
      "0.39408816323021023\n",
      "0.8675611451103316\n",
      "0.01851730773750071\n",
      "0.7040313495648542\n"
     ]
    }
   ],
   "source": [
    "print(rand.random())\n",
    "print(rand.random())\n",
    "print(rand.random())\n",
    "print(rand.random())\n",
    "print(rand.random())"
   ]
  },
  {
   "cell_type": "markdown",
   "metadata": {},
   "source": [
    "## Random integer\n",
    "\n",
    "Here's a random integer between 1 and 100, including both 1 and 100."
   ]
  },
  {
   "cell_type": "code",
   "execution_count": 4,
   "metadata": {},
   "outputs": [
    {
     "name": "stdout",
     "output_type": "stream",
     "text": [
      "35\n"
     ]
    }
   ],
   "source": [
    "print(rand.randint(1,100))"
   ]
  },
  {
   "cell_type": "markdown",
   "metadata": {},
   "source": [
    "Re-run the cell to see other outcomes."
   ]
  },
  {
   "cell_type": "markdown",
   "metadata": {},
   "source": [
    "## Random float from a uniform distribution\n",
    "\n",
    "Here's a random float between 1 and 100."
   ]
  },
  {
   "cell_type": "code",
   "execution_count": 5,
   "metadata": {},
   "outputs": [
    {
     "name": "stdout",
     "output_type": "stream",
     "text": [
      "11.057399078915266\n"
     ]
    }
   ],
   "source": [
    "print(rand.uniform(1, 100))"
   ]
  },
  {
   "cell_type": "markdown",
   "metadata": {},
   "source": [
    "## Exercise 1"
   ]
  },
  {
   "cell_type": "markdown",
   "metadata": {},
   "source": [
    "Write a loop that runs 20 times and selects a random integer between 1 and 6 and prints the integer.\n",
    "\n",
    "By just viewing the printed integers, what was the most common integer that came up? (Note: this is like rolling a di.)\n",
    "\n",
    "Run your program a second time. Is a different integer the most common?"
   ]
  },
  {
   "cell_type": "code",
   "execution_count": null,
   "metadata": {
    "nbgrader": {
     "grade": true,
     "grade_id": "cell-0e1ba11632da7c46",
     "locked": false,
     "points": 0,
     "schema_version": 3,
     "solution": true,
     "task": false
    }
   },
   "outputs": [],
   "source": []
  },
  {
   "cell_type": "markdown",
   "metadata": {
    "collapsed": true
   },
   "source": [
    "## Conditional Statements"
   ]
  },
  {
   "cell_type": "markdown",
   "metadata": {},
   "source": [
    "A conditional statement defines code to execute if a condition is true and the code to execute of a condition is false. It has the format:\n",
    "\n",
    "```\n",
    "if (condition):\n",
    "    #code block to execute if condition is TRUE\n",
    "\n",
    "else:\n",
    "    #code block to execute if condition is FALSE\n",
    "```"
   ]
  },
  {
   "cell_type": "markdown",
   "metadata": {},
   "source": [
    "Let's use a conditional statement to toss a coin $N$ times and count the number of times it is heads and the number of times it is tails. We will use a Python random number generator. If a random number is between 0 and 0.5, we will call it a \"heads.\" If a random number is between 0.5 and 1, we will call it \"tails.\"\n",
    "\n",
    "Run the program multiple times. Does the percentage of heads for 10 flips of a coin change?"
   ]
  },
  {
   "cell_type": "code",
   "execution_count": 5,
   "metadata": {},
   "outputs": [
    {
     "name": "stdout",
     "output_type": "stream",
     "text": [
      "Nheads = 3, percent = 30.0\n",
      "Ntails = 7, percent = 70.0\n"
     ]
    }
   ],
   "source": [
    "N = 10 # number of times we toss a coin\n",
    "\n",
    "Nheads = 0 # this is an integer that counts each head\n",
    "Ntails = 0 # this is an integer that counts each tail\n",
    "\n",
    "for i in range(1,N+1):\n",
    "    num = rand.random()\n",
    "    if num < 0.5:\n",
    "        Nheads = Nheads + 1\n",
    "    else:\n",
    "        Ntails = Ntails + 1\n",
    "    \n",
    "print(\"Nheads = %d, percent = %.1f\" % (Nheads, Nheads/N*100))\n",
    "print(\"Ntails = %d, percent = %.1f\" % (Ntails, Ntails/N*100))\n"
   ]
  },
  {
   "cell_type": "markdown",
   "metadata": {},
   "source": [
    "## Exercise 2"
   ]
  },
  {
   "cell_type": "markdown",
   "metadata": {},
   "source": [
    "Inside the loop, after each toss, compute the percentage of tosses that are heads and store this number in an array. After the loop, plot the percentage of tosses that are heads as a function of toss number. Here are two graphs for 100 tosses, showing one case where the first toss was heads and a second case where the first toss was tails.\n",
    "\n",
    "![](https://raw.githubusercontent.com/atitus/math-modeling/master/unit-04/04-01-random/heads-100-tosses-1.png) ![](https://raw.githubusercontent.com/atitus/math-modeling/master/unit-04/04-01-random/heads-100-tosses-2.png)"
   ]
  },
  {
   "cell_type": "code",
   "execution_count": null,
   "metadata": {
    "nbgrader": {
     "grade": true,
     "grade_id": "Ex_6",
     "locked": false,
     "points": 1,
     "schema_version": 3,
     "solution": true,
     "task": false
    }
   },
   "outputs": [],
   "source": []
  },
  {
   "cell_type": "markdown",
   "metadata": {},
   "source": [
    "Run your program for 10000 tosses. Discuss the long-term behavior of the plot. For large $N$, what is the expected percentage of heads? What about small $N$?"
   ]
  },
  {
   "cell_type": "markdown",
   "metadata": {},
   "source": [
    "## Exercise 3\n",
    "\n",
    "Suppose you have a six-sided di. Roll the di 100 times. Calculate the percentage of times the outcome is 3, and plot this percentage as a function of the roll number."
   ]
  },
  {
   "cell_type": "code",
   "execution_count": null,
   "metadata": {},
   "outputs": [],
   "source": []
  },
  {
   "cell_type": "markdown",
   "metadata": {},
   "source": [
    "## Exercise 4\n",
    "\n",
    "If you haven't done so already, read p. 377-379 on computing the area under a function using a Monte Carlo simulation. Then, answer all parts of the Quick Review Question 1 on Page 379-380.\n",
    "\n",
    "Here is a program that plots the given linear function. You can use this code to both visualize and calculate your answers to the questions."
   ]
  },
  {
   "cell_type": "code",
   "execution_count": 14,
   "metadata": {},
   "outputs": [
    {
     "data": {
      "image/png": "[encoded data removed]",
      "text/plain": [
       "<Figure size 432x288 with 1 Axes>"
      ]
     },
     "metadata": {
      "needs_background": "light"
     },
     "output_type": "display_data"
    }
   ],
   "source": [
    "#x = 1 to 5\n",
    "#g(x) = 3x+1 is from g(1)=4 to g(5)=16\n",
    "\n",
    "x1 = 1\n",
    "x2 = 5\n",
    "y1 = 3*xi+1\n",
    "y2 = 3*xf+1\n",
    "area = (x2-x1)*(y2-y1) #width * height\n",
    "\n",
    "\n",
    "#plot function\n",
    "x = np.linspace(x1,x2,100)\n",
    "g = 3*x+1\n",
    "\n",
    "fig = plt.figure()\n",
    "plt.title('Dartboard')\n",
    "plt.xlabel('x')\n",
    "plt.ylabel('g(x)')\n",
    "plt.plot(x,g,'b-')\n",
    "plt.xlim(x1,x2)\n",
    "plt.ylim(y1,y2)\n",
    "plt.show()\n",
    "\n"
   ]
  },
  {
   "cell_type": "code",
   "execution_count": 4,
   "metadata": {},
   "outputs": [
    {
     "name": "stdout",
     "output_type": "stream",
     "text": [
      "The height is 16-4=12.\n",
      "(3,11) is above the curve.\n"
     ]
    },
    {
     "data": {
      "image/png": "[encoded data removed]",
      "text/plain": [
       "<Figure size 432x288 with 1 Axes>"
      ]
     },
     "metadata": {
      "needs_background": "light"
     },
     "output_type": "display_data"
    },
    {
     "name": "stdout",
     "output_type": "stream",
     "text": [
      "\n",
      "The area of the rectangle = 48\n",
      "The area under the function = 24.0\n",
      "The probability of a random dart landing under the function is  0.5\n",
      "For a million darts, the most likely of the given options is 48%.\n",
      "If 600,000 darts are below the function, the area of the rectangle must be  40.0 square units.\n"
     ]
    }
   ],
   "source": [
    "### BEGIN SOLUTION\n",
    "\n",
    "#x = 1 to 5\n",
    "#g(x) = 3x+1 is from g(1)=4 to g(5)=16\n",
    "\n",
    "print(\"The height is 16-4=12.\")\n",
    "\n",
    "print(\"(3,11) is above the curve.\")\n",
    "\n",
    "xi = 1\n",
    "xf = 5\n",
    "yi = 3*xi+1\n",
    "yf = 3*xf+1\n",
    "area = (xf-xi)*(yf-yi) #width * height\n",
    "\n",
    "\n",
    "#plot function\n",
    "x = np.linspace(xi,xf,100)\n",
    "g = 3*x+1\n",
    "\n",
    "fig = plt.figure()\n",
    "plt.title('Dartboard')\n",
    "plt.xlabel('x')\n",
    "plt.ylabel('g(x)')\n",
    "plt.plot(x,g,'b-')\n",
    "plt.ylim(yi,yf)\n",
    "plt.show()\n",
    "\n",
    "#the function is a triangle, so area under the triangle is\n",
    "area_under = 1/2*(xf-xi)*(yf-yi)\n",
    "\n",
    "print()\n",
    "print(\"The area of the rectangle =\", area)\n",
    "print(\"The area under the function =\", area_under)\n",
    "\n",
    "prob_under = area_under/area\n",
    "print(\"The probability of a random dart landing under the function is \", prob_under)\n",
    "\n",
    "print(\"For a million darts, the most likely of the given options is 48%.\")\n",
    "\n",
    "print(\"If 600,000 darts are below the function, the area of the rectangle must be \", area_under/0.6, \"square units.\")\n",
    "\n",
    "### END SOLUTION"
   ]
  },
  {
   "cell_type": "markdown",
   "metadata": {},
   "source": [
    "Here's the same program with area calculated using random numbers (like darts)."
   ]
  },
  {
   "cell_type": "code",
   "execution_count": 26,
   "metadata": {},
   "outputs": [
    {
     "data": {
      "image/png": "[encoded data removed]",
      "text/plain": [
       "<Figure size 432x288 with 1 Axes>"
      ]
     },
     "metadata": {
      "needs_background": "light"
     },
     "output_type": "display_data"
    },
    {
     "name": "stdout",
     "output_type": "stream",
     "text": [
      "N darts under the curve =  50\n",
      "Percent of darts under the curve = 50.00%\n",
      "Area under the curve = 24.00\n"
     ]
    }
   ],
   "source": [
    "#x = 1 to 5\n",
    "#g(x) = 3x+1 is from g(1)=4 to g(5)=16\n",
    "\n",
    "#define boundaries for rectangle\n",
    "x1 = 1\n",
    "x2 = 5\n",
    "y1 = 3*xi+1\n",
    "y2 = 3*xf+1\n",
    "area = (x2-x1)*(y2-y1) #width * height\n",
    "\n",
    "\n",
    "#plot function\n",
    "xfunc = np.linspace(x1,x2,100) #used for the graph\n",
    "gfunc = 3*xfunc+1 #used for the graph\n",
    "\n",
    "#randnom numbers\n",
    "\n",
    "N = 100\n",
    "\n",
    "Nunder = 0\n",
    "\n",
    "xdarts = []\n",
    "ydarts = []\n",
    "\n",
    "for i in range(1,N+1):\n",
    "    x = rand.uniform(x1,x2)\n",
    "    y = rand.uniform(y1,y2)\n",
    "    \n",
    "    g = 3*x+1\n",
    "    \n",
    "    if y<g:\n",
    "        Nunder = Nunder + 1\n",
    "        \n",
    "    xdarts.append(x)\n",
    "    ydarts.append(y)\n",
    "\n",
    "#plot graph\n",
    "fig = plt.figure()\n",
    "plt.title('Dartboard')\n",
    "plt.xlabel('x')\n",
    "plt.ylabel('g(x)')\n",
    "plt.plot(xfunc,gfunc,'b-')\n",
    "plt.plot(xdarts,ydarts, 'r.')\n",
    "plt.xlim(x1,x2)\n",
    "plt.ylim(y1,y2)\n",
    "plt.show()\n",
    "\n",
    "\n",
    "#print results\n",
    "ratiounder = Nunder/N\n",
    "\n",
    "print(\"N darts under the curve = \", Nunder)\n",
    "print(\"Percent of darts under the curve = {:.2f}%\".format(ratiounder*100))\n",
    "print(\"Area under the curve = {:.2f}\".format(ratiounder*area))"
   ]
  },
  {
   "cell_type": "markdown",
   "metadata": {},
   "source": [
    "## Exercise 5\n",
    "\n",
    "1. Plot the function\n",
    "\n",
    "  $$f(x)=\\sqrt{\\cos^2(x)+1}$$\n",
    "\n",
    "1. Write a loop that creates a random number for x between 0 and 2.0 and a random number for y between 0 and 1.5. Check if $y$ is less than $f(x)$ (under the curve) or greater than $f(x)$ (over the curve). If it's under the curve, increment a variable to count the data point. Run the loop 1000 times. Compute the ratio of the number of points under the curve to the total number of points. Use this method to estimate the area under the curve.\n",
    "\n",
    "1. Store the random data points in a list and plot the points on the same graph as the function. Your picture should look similar to Figure 9.2.2, but with a different function plotted."
   ]
  },
  {
   "cell_type": "code",
   "execution_count": 23,
   "metadata": {},
   "outputs": [
    {
     "data": {
      "image/png": "[encoded data removed]",
      "text/plain": [
       "<Figure size 432x288 with 1 Axes>"
      ]
     },
     "metadata": {
      "needs_background": "light"
     },
     "output_type": "display_data"
    },
    {
     "name": "stdout",
     "output_type": "stream",
     "text": [
      "The number of darts below the function is  779\n",
      "The ratio of darts below the function is  0.779\n",
      "The percentage of darts below the function is  77.9\n",
      "The area of the rectangle is  3.0\n",
      "The estimated area below the curve is  2.337\n"
     ]
    },
    {
     "data": {
      "image/png": "[encoded data removed]",
      "text/plain": [
       "<Figure size 432x288 with 1 Axes>"
      ]
     },
     "metadata": {
      "needs_background": "light"
     },
     "output_type": "display_data"
    }
   ],
   "source": [
    "\n",
    "# create data points for the function\n",
    "xfunc = np.linspace(0,2,100)\n",
    "yfunc = np.sqrt((np.cos(xfunc))**2+1)\n",
    "\n",
    "# plot the function\n",
    "fit = plt.figure()\n",
    "plt.title('Dartboard')\n",
    "plt.xlabel('x')\n",
    "plt.ylabel('y')\n",
    "plt.plot(xfunc,yfunc,'b-')\n",
    "plt.ylim(0,1.5)\n",
    "plt.show()\n",
    "\n",
    "\n",
    "# dart simulation\n",
    "N = 1000 #number of times to throw a dart\n",
    "\n",
    "x_darts = [] #list to store x values for darts\n",
    "y_darts = [] #list to store y values for darts\n",
    "\n",
    "hits = 0 #a counter to count the number of times a dart is below the function\n",
    "\n",
    "for i in range(N):\n",
    "    x = 2*rand.random()\n",
    "    y = 1.5*rand.random()\n",
    "    \n",
    "    x_darts.append(x)\n",
    "    y_darts.append(y)\n",
    "    \n",
    "    ycurve = np.sqrt((np.cos(x))**2+1)\n",
    "    \n",
    "    if y<ycurve:\n",
    "        hits = hits + 1\n",
    "\n",
    "ratio = hits/N\n",
    "ratio_percent = hits/N*100\n",
    "\n",
    "A_rect = 1.5*2\n",
    "A = ratio*A_rect\n",
    "        \n",
    "print(\"The number of darts below the function is \", hits)\n",
    "\n",
    "print(\"The ratio of darts below the function is \", ratio)\n",
    "\n",
    "print(\"The percentage of darts below the function is \", ratio_percent)\n",
    "\n",
    "print(\"The area of the rectangle is \", A_rect)\n",
    "\n",
    "print(\"The estimated area below the curve is \", A)\n",
    "\n",
    "plt.title('Dartboard')\n",
    "plt.xlabel('x')\n",
    "plt.ylabel('y')\n",
    "plt.plot(xfunc,yfunc,'b-')\n",
    "plt.plot(x_darts,y_darts,'r.')\n",
    "plt.ylim(0,1.5)\n",
    "plt.show()\n"
   ]
  },
  {
   "cell_type": "code",
   "execution_count": null,
   "metadata": {},
   "outputs": [],
   "source": []
  }
 ],
 "metadata": {
  "celltoolbar": "Create Assignment",
  "kernelspec": {
   "display_name": "Python 3",
   "language": "python",
   "name": "python3"
  },
  "language_info": {
   "codemirror_mode": {
    "name": "ipython",
    "version": 3
   },
   "file_extension": ".py",
   "mimetype": "text/x-python",
   "name": "python",
   "nbconvert_exporter": "python",
   "pygments_lexer": "ipython3",
   "version": "3.8.3"
  }
 },
 "nbformat": 4,
 "nbformat_minor": 2
}
