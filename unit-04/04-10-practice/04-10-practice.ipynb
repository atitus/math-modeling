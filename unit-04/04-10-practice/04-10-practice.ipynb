{
 "cells": [
  {
   "cell_type": "code",
   "execution_count": null,
   "metadata": {},
   "outputs": [],
   "source": [
    "import matplotlib.pyplot as plt\n",
    "import random as rand\n",
    "import numpy as np"
   ]
  },
  {
   "cell_type": "markdown",
   "metadata": {},
   "source": [
    "# Unit 04 Practice Problem(s)\n",
    "\n",
    "\n",
    "Here are some sample exercises you can use to practice.\n",
    "\n",
    "## Rolling Dice\n",
    "\n",
    "1. Write a simulation of rolling two six-sided dice once. (A loop is not neccessary for this question.) Print the value of each die after the roll, and print the total."
   ]
  },
  {
   "cell_type": "code",
   "execution_count": null,
   "metadata": {
    "nbgrader": {
     "grade": true,
     "grade_id": "Ex_C1",
     "locked": false,
     "points": 1,
     "schema_version": 3,
     "solution": true,
     "task": false
    }
   },
   "outputs": [],
   "source": []
  },
  {
   "cell_type": "markdown",
   "metadata": {},
   "source": [
    "2. Roll the die 100 times. Calculate and the print the percentage of rolls that resulted in each possible outcome: 1, 2, 3, ..., 12."
   ]
  },
  {
   "cell_type": "code",
   "execution_count": null,
   "metadata": {
    "nbgrader": {
     "grade": true,
     "grade_id": "Ex_C2",
     "locked": false,
     "points": 1,
     "schema_version": 3,
     "solution": true,
     "task": false
    }
   },
   "outputs": [],
   "source": []
  },
  {
   "cell_type": "markdown",
   "metadata": {},
   "source": [
    "3. Based on viewing the percentages, what value of the dice has the greatest probability of occurring?"
   ]
  },
  {
   "cell_type": "markdown",
   "metadata": {},
   "source": [
    "4. What percentage of the rolls gave you 2 (snake eyes)? How does this compare to the theoretical probability of 1/36?"
   ]
  },
  {
   "cell_type": "markdown",
   "metadata": {},
   "source": [
    "5. If you want your simulation to give percentages of outcomes that are closer to what you expect based on probability theory, what should you change? Describe your answer in words. Then write a new program with this change made, and demonstrate that your prediction is true. Note that the probability of rolling a \"7\" is 6/36 or 1/6, for example."
   ]
  },
  {
   "cell_type": "code",
   "execution_count": null,
   "metadata": {
    "nbgrader": {
     "grade": true,
     "grade_id": "Ex_C5",
     "locked": false,
     "points": 1,
     "schema_version": 3,
     "solution": true,
     "task": false
    }
   },
   "outputs": [],
   "source": []
  },
  {
   "cell_type": "markdown",
   "metadata": {},
   "source": [
    "## Random Walk\n",
    "\n",
    "We are going to make a Galton Board simulation. Here is [a short video](http://galtonboard.com/Content/Videos/galton-board-large_1_mobile.mp4). Here is [a long video](https://www.youtube.com/watch?v=6YDHBFVIvIs). Here is a [Wikipedia description](https://en.wikipedia.org/wiki/Bean_machine).\n",
    "\n",
    "Our model of a Galton will work in the following way. A random walker starts at $x=0$ and only walks right or left along a number line. She starts at $x=0$ and flips a coin. Heads, she turns right, and tails, she turns left. There's a 0.5 probability she turns to the right and a 0.5 probability she turns to the left. She then takes one step.\n",
    "\n",
    "- If she turns right, her new position is `x = x + 1`.\n",
    "- If she turns left, her new position is `x = x - 1`.\n",
    "\n",
    "She then repeats the coin flip and takes a step again, repeating the process with each step. (This is called a one-dimensional random walk.) Suppose she takes 50 steps. What is her final position?\n",
    "\n",
    "This is the equivalent question of dropping a ball on a Galton Board that has 50 rows of pegs. Define $x=0$ to be the center and each final position of the ball to be $x=\\pm 1, x=\\pm 2, \\dots$ with $+$ being to the right and $-$ being to the left of zero.\n"
   ]
  },
  {
   "cell_type": "markdown",
   "metadata": {},
   "source": [
    "1. Write a simulation of this random walker that only walks right and left, and compute her final position after 50 steps. You do not have to visualize it, but you should record and print her final position."
   ]
  },
  {
   "cell_type": "code",
   "execution_count": null,
   "metadata": {
    "nbgrader": {
     "grade": true,
     "grade_id": "Ex_B1",
     "locked": false,
     "points": 1,
     "schema_version": 3,
     "solution": true,
     "task": false
    }
   },
   "outputs": [],
   "source": []
  },
  {
   "cell_type": "markdown",
   "metadata": {},
   "source": [
    "## Conway's Game of Life\n",
    "\n",
    "Simulate an oscillator with a period 4 or greater or a spaceship or the R-pentomino or a glider gun or any class of objects that were not simulated previously in class."
   ]
  },
  {
   "cell_type": "code",
   "execution_count": null,
   "metadata": {},
   "outputs": [],
   "source": []
  }
 ],
 "metadata": {
  "celltoolbar": "Create Assignment",
  "kernelspec": {
   "display_name": "Python 3",
   "language": "python",
   "name": "python3"
  },
  "language_info": {
   "codemirror_mode": {
    "name": "ipython",
    "version": 3
   },
   "file_extension": ".py",
   "mimetype": "text/x-python",
   "name": "python",
   "nbconvert_exporter": "python",
   "pygments_lexer": "ipython3",
   "version": "3.8.3"
  }
 },
 "nbformat": 4,
 "nbformat_minor": 4
}
