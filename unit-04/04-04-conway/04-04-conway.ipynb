{
 "cells": [
  {
   "cell_type": "markdown",
   "metadata": {},
   "source": [
    "Run the cell below if you need to install the `mplEasyAnimate` package. The [mplEasyAnimate](https://github.com/tboudreaux/mpl_animate) package was created by HPU alumnus Thomas Boudreaux."
   ]
  },
  {
   "cell_type": "code",
   "execution_count": null,
   "metadata": {},
   "outputs": [],
   "source": [
    "!pip install mplEasyAnimate"
   ]
  },
  {
   "cell_type": "markdown",
   "metadata": {},
   "source": [
    "# Conway's Game of Life\n",
    "\n",
    "## Resources\n",
    "\n",
    "- [Wikipedia](https://en.wikipedia.org/wiki/Conway%27s_Game_of_Life)\n",
    "- [Seeds](http://www.eng.utoledo.edu/~scline/life/life.html)\n",
    "- [Python tutorial](https://reasonabledeviations.com/2017/06/10/conway-python/)\n",
    "\n",
    "## Rules\n",
    "\n",
    "(Quoted from Wikipedia)\n",
    "\n",
    "The universe of the Game of Life is an infinite, two-dimensional orthogonal grid of square cells, each of which is in one of two possible states, live or dead, (or populated and unpopulated, respectively). Every cell interacts with its eight neighbours, which are the cells that are horizontally, vertically, or diagonally adjacent. At each step in time, the following transitions occur:\n",
    "\n",
    "- Any live cell with fewer than two live neighbours dies, as if by underpopulation.\n",
    "- Any live cell with two or three live neighbours lives on to the next generation.\n",
    "- Any live cell with more than three live neighbours dies, as if by overpopulation.\n",
    "- Any dead cell with exactly three live neighbours becomes a live cell, as if by reproduction.\n",
    "\n",
    "These rules, which compare the behavior of the automaton to real life, can be condensed into the following:\n",
    "\n",
    "- Any live cell with two or three live neighbours survives.\n",
    "- Any dead cell with three live neighbours becomes a live cell.\n",
    "- All other live cells die in the next generation. Similarly, all other dead cells stay dead.\n",
    "\n",
    "The initial pattern constitutes the seed of the system. The first generation is created by applying the above rules simultaneously to every cell in the seed; births and deaths occur simultaneously, and the discrete moment at which this happens is sometimes called a tick. Each generation is a pure function of the preceding one. The rules continue to be applied repeatedly to create further generations.\n",
    "\n",
    "## Program\n",
    "\n",
    "The following program is inspired by [Robert Andrew Martin's blog post at reasonabledeviations.com](https://reasonabledeviations.com/2017/06/10/conway-python/)."
   ]
  },
  {
   "cell_type": "code",
   "execution_count": 1,
   "metadata": {},
   "outputs": [],
   "source": [
    "import numpy as np\n",
    "import matplotlib.pyplot as plt\n",
    "from matplotlib import colors\n",
    "import random as rand\n",
    "\n",
    "## the packages below are used to create an animation as a mp4 file and display it in the notebook\n",
    "from IPython.display import HTML\n",
    "from mplEasyAnimate import animation\n",
    "from tqdm import tqdm\n",
    "from base64 import b64encode"
   ]
  },
  {
   "cell_type": "markdown",
   "metadata": {},
   "source": [
    "# Create Grid and Seed"
   ]
  },
  {
   "cell_type": "code",
   "execution_count": 2,
   "metadata": {},
   "outputs": [
    {
     "name": "stdout",
     "output_type": "stream",
     "text": [
      "[[0 0 0 0 0 0]\n",
      " [0 1 1 0 0 0]\n",
      " [0 1 1 0 0 0]\n",
      " [0 0 0 1 1 0]\n",
      " [0 0 0 1 1 0]\n",
      " [0 0 0 0 0 0]]\n"
     ]
    }
   ],
   "source": [
    "# create cellular automata\n",
    "# 2D array; columns represent the cells; each row is an iteration\n",
    "n = 6 #number of cells in a row\n",
    "automata = np.zeros((n, n), dtype=int)\n",
    "\n",
    "seed = [[1,1,0,0],\n",
    "          [1,1,0,0],\n",
    "          [0,0,1,1],\n",
    "          [0,0,1,1]]\n",
    "\n",
    "automata[1:5,1:5] = seed\n",
    "\n",
    "print(automata)"
   ]
  },
  {
   "cell_type": "markdown",
   "metadata": {},
   "source": [
    "## Visualize Grid"
   ]
  },
  {
   "cell_type": "code",
   "execution_count": 3,
   "metadata": {},
   "outputs": [
    {
     "data": {
      "text/plain": [
       "<matplotlib.image.AxesImage at 0x7f9967093d30>"
      ]
     },
     "execution_count": 3,
     "metadata": {},
     "output_type": "execute_result"
    },
    {
     "data": {
      "image/png": "[encoded data removed]",
      "text/plain": [
       "<Figure size 720x720 with 1 Axes>"
      ]
     },
     "metadata": {
      "needs_background": "light"
     },
     "output_type": "display_data"
    }
   ],
   "source": [
    "cmap = colors.ListedColormap(['white', 'blue'])\n",
    "bounds = [0, 1, 1]\n",
    "norm = colors.BoundaryNorm(bounds, cmap.N)\n",
    "\n",
    "fig = plt.figure(figsize=(10,10))\n",
    "\n",
    "frame = plt.gca()\n",
    "frame.axes.set_xticks(np.arange(-0.5, n+0.5, 1))\n",
    "frame.axes.set_yticks(np.arange(-0.5, n+0.5, 1))\n",
    "frame.set_yticklabels([])\n",
    "frame.set_xticklabels([])\n",
    "frame.axes.grid(True, which='major', axis='both', color='k', linestyle='-', linewidth=2)\n",
    "\n",
    "plt.imshow(automata, interpolation='nearest', cmap=cmap, norm=norm, aspect='equal')\n"
   ]
  },
  {
   "cell_type": "markdown",
   "metadata": {},
   "source": [
    "## Determine Cell Survival"
   ]
  },
  {
   "cell_type": "code",
   "execution_count": 4,
   "metadata": {},
   "outputs": [],
   "source": [
    "# Create an identical copy of the universe, which will be the next generation.\n",
    "future_automata = np.copy(automata)\n",
    "\n",
    "def applyrules(x, y): #x and y are the column and row\n",
    "    \n",
    "    # Find the number of living neighbors by taking\n",
    "    # the sum of the 8 surrounding grid squares; but don't count this cell\n",
    "    num_living = np.sum(automata[x - 1:x + 2, y - 1:y + 2]) - automata[x, y]\n",
    "\n",
    "    # If the cell is alive\n",
    "    if automata[x, y] == 1:\n",
    "        if num_living < 2 or num_living > 3:\n",
    "            future_automata[x, y] = 0 #cell dies\n",
    "\n",
    "    # If the cell is dead\n",
    "    elif automata[x, y] == 0:\n",
    "        if num_living == 3:\n",
    "            future_automata[x, y] = 1 #cell is born\n"
   ]
  },
  {
   "cell_type": "markdown",
   "metadata": {},
   "source": [
    "## Iterate"
   ]
  },
  {
   "cell_type": "code",
   "execution_count": 5,
   "metadata": {},
   "outputs": [
    {
     "name": "stdout",
     "output_type": "stream",
     "text": [
      "[[0 0 0 0 0 0]\n",
      " [0 1 1 0 0 0]\n",
      " [0 1 0 0 0 0]\n",
      " [0 0 0 0 1 0]\n",
      " [0 0 0 1 1 0]\n",
      " [0 0 0 0 0 0]]\n"
     ]
    }
   ],
   "source": [
    "def evolve():\n",
    "    global automata\n",
    "\n",
    "    # apply rules to each cell\n",
    "    for i in range(automata.shape[0]):\n",
    "        for j in range(automata.shape[1]):\n",
    "            applyrules(i, j)\n",
    "\n",
    "    # Set universe to be equal to new_universe.\n",
    "    automata = np.copy(future_automata)\n",
    "    \n",
    "evolve()\n",
    "print(automata)"
   ]
  },
  {
   "cell_type": "code",
   "execution_count": 6,
   "metadata": {},
   "outputs": [
    {
     "data": {
      "text/plain": [
       "<matplotlib.image.AxesImage at 0x7f996765fb80>"
      ]
     },
     "execution_count": 6,
     "metadata": {},
     "output_type": "execute_result"
    },
    {
     "data": {
      "image/png": "[encoded data removed]",
      "text/plain": [
       "<Figure size 720x720 with 1 Axes>"
      ]
     },
     "metadata": {
      "needs_background": "light"
     },
     "output_type": "display_data"
    }
   ],
   "source": [
    "fig = plt.figure(figsize=(10,10))\n",
    "\n",
    "frame = plt.gca()\n",
    "frame.axes.set_xticks(np.arange(-0.5, n+0.5, 1))\n",
    "frame.axes.set_yticks(np.arange(-0.5, n+0.5, 1))\n",
    "frame.set_yticklabels([])\n",
    "frame.set_xticklabels([])\n",
    "frame.axes.grid(True, which='major', axis='both', color='k', linestyle='-', linewidth=2)\n",
    "\n",
    "plt.imshow(automata, interpolation='nearest', cmap=cmap, norm=norm, aspect='equal')"
   ]
  },
  {
   "cell_type": "markdown",
   "metadata": {},
   "source": [
    "## Put it all together\n",
    "\n",
    "Here are all the functions we will need.\n"
   ]
  },
  {
   "cell_type": "code",
   "execution_count": 7,
   "metadata": {},
   "outputs": [],
   "source": [
    "# Apply rules to one cell\n",
    "def applyrules(x, y): #x and y are the column and row\n",
    "    \n",
    "    global future_automata\n",
    "    \n",
    "    # Find the number of living neighbors by taking\n",
    "    # the sum of the 8 surrounding grid squares; but don't count this cell\n",
    "    num_living = np.sum(automata[x - 1:x + 2, y - 1:y + 2]) - automata[x, y]\n",
    "\n",
    "    # If the cell is alive\n",
    "    if automata[x, y] == 1:\n",
    "        if num_living < 2 or num_living > 3:\n",
    "            future_automata[x, y] = 0 #cell dies\n",
    "\n",
    "    # If the cell is dead\n",
    "    elif automata[x, y] == 0:\n",
    "        if num_living == 3:\n",
    "            future_automata[x, y] = 1 #cell is born\n",
    "\n",
    "# Iterate over all cells and update the automata\n",
    "def iterate():\n",
    "    global automata\n",
    "\n",
    "    # apply rules to each cell\n",
    "    for i in range(automata.shape[0]):\n",
    "        for j in range(automata.shape[1]):\n",
    "            applyrules(i, j)\n",
    "\n",
    "    # Set universe to be equal to new_universe.\n",
    "    automata = np.copy(future_automata)\n",
    "\n",
    "# Display grid    \n",
    "def showAutomata():\n",
    "    cmap = colors.ListedColormap(['white', 'blue'])\n",
    "    bounds = [0, 1, 1]\n",
    "    norm = colors.BoundaryNorm(bounds, cmap.N)\n",
    "    fig = plt.figure(figsize=(10,10))\n",
    "    ax = plt.gca()\n",
    "    ax.set_xticks(np.arange(-0.5, n+0.5, 1))\n",
    "    ax.set_yticks(np.arange(-0.5, n+0.5, 1))\n",
    "    ax.set_yticklabels([])\n",
    "    ax.set_xticklabels([])\n",
    "    ax.grid(True, which='major', axis='both', color='k', linestyle='-', linewidth=2)\n",
    "\n",
    "    plt.imshow(automata, interpolation='nearest', cmap=cmap, norm=norm, aspect='equal')\n",
    "\n",
    "# Create an animation\n",
    "def animAutomata(filename, N):\n",
    "    global automata\n",
    "    cmap = colors.ListedColormap(['white', 'blue'])\n",
    "    bounds = [0, 1, 1]\n",
    "    norm = colors.BoundaryNorm(bounds, cmap.N)\n",
    "\n",
    "    with animation(filename, dpi=30) as anim:\n",
    "        t_offsets = np.arange(Niterations+1)\n",
    "        i=0\n",
    "        for offset in tqdm(t_offsets):\n",
    "\n",
    "            #iterate the automata\n",
    "            if i>0:\n",
    "                iterate()\n",
    "\n",
    "            fig = plt.figure(figsize=(10,10))\n",
    "            ax = fig.gca()\n",
    "            ax.set_xticks(np.arange(-0.5, n+0.5, 1))\n",
    "            ax.set_yticks(np.arange(-0.5, n+0.5, 1))\n",
    "            ax.set_yticklabels([])\n",
    "            ax.set_xticklabels([])\n",
    "            ax.grid(True, which='major', axis='both', color='k', linestyle='-', linewidth=2)\n",
    "            plt.imshow(automata, interpolation='nearest', cmap=cmap, norm=norm, aspect='equal')\n",
    "            anim.add_frame(fig)\n",
    "            plt.close(fig)\n",
    "            i=i+1"
   ]
  },
  {
   "cell_type": "markdown",
   "metadata": {},
   "source": [
    "The program below will use the functions iterate the automata. You should specify:\n",
    "\n",
    "- the number of cells in a row\n",
    "- the seed\n",
    "- the number of iterations"
   ]
  },
  {
   "cell_type": "markdown",
   "metadata": {},
   "source": [
    "## The Beacon\n",
    "\n",
    "This program shows each iteration."
   ]
  },
  {
   "cell_type": "code",
   "execution_count": 8,
   "metadata": {},
   "outputs": [
    {
     "data": {
      "image/png": "[encoded data removed]",
      "text/plain": [
       "<Figure size 720x720 with 1 Axes>"
      ]
     },
     "metadata": {
      "needs_background": "light"
     },
     "output_type": "display_data"
    },
    {
     "data": {
      "image/png": "[encoded data removed]",
      "text/plain": [
       "<Figure size 720x720 with 1 Axes>"
      ]
     },
     "metadata": {
      "needs_background": "light"
     },
     "output_type": "display_data"
    },
    {
     "data": {
      "image/png": "[encoded data removed]",
      "text/plain": [
       "<Figure size 720x720 with 1 Axes>"
      ]
     },
     "metadata": {
      "needs_background": "light"
     },
     "output_type": "display_data"
    },
    {
     "data": {
      "image/png": "[encoded data removed]",
      "text/plain": [
       "<Figure size 720x720 with 1 Axes>"
      ]
     },
     "metadata": {
      "needs_background": "light"
     },
     "output_type": "display_data"
    },
    {
     "data": {
      "image/png": "[encoded data removed]",
      "text/plain": [
       "<Figure size 720x720 with 1 Axes>"
      ]
     },
     "metadata": {
      "needs_background": "light"
     },
     "output_type": "display_data"
    }
   ],
   "source": [
    "#number of cells in a row\n",
    "n = 6 \n",
    "\n",
    "#seed\n",
    "seed = [[1,1,0,0],\n",
    "          [1,1,0,0],\n",
    "          [0,0,1,1],\n",
    "          [0,0,1,1]]\n",
    "\n",
    "# Number of iterations of evolution\n",
    "Niterations = 4\n",
    "\n",
    "\n",
    "#create automata\n",
    "automata = np.zeros((n, n), dtype=int)\n",
    "automata[1:np.shape(seed)[0]+1,1:np.shape(seed)[1]+1] = seed\n",
    "\n",
    "# Create an identical copy of the automata, which will be the next iteration of the automata after one time step.\n",
    "future_automata = np.copy(automata)\n",
    "\n",
    "# Show iterations of automata\n",
    "showAutomata()\n",
    "for i in range(Niterations):\n",
    "    iterate()\n",
    "    showAutomata()\n"
   ]
  },
  {
   "cell_type": "markdown",
   "metadata": {},
   "source": [
    "This program creates an animation."
   ]
  },
  {
   "cell_type": "code",
   "execution_count": 9,
   "metadata": {},
   "outputs": [
    {
     "name": "stderr",
     "output_type": "stream",
     "text": [
      "100%|██████████| 11/11 [00:02<00:00,  5.49it/s]\n"
     ]
    },
    {
     "data": {
      "text/html": [
       "\n",
       "<video width=400 controls>\n",
       "      <source src=\"data:video/mp4;base64,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\" type=\"video/mp4\">\n",
       "</video>\n"
      ],
      "text/plain": [
       "<IPython.core.display.HTML object>"
      ]
     },
     "execution_count": 9,
     "metadata": {},
     "output_type": "execute_result"
    }
   ],
   "source": [
    "#number of cells in a row\n",
    "n = 6 \n",
    "\n",
    "#seed\n",
    "seed = [[1,1,0,0],\n",
    "          [1,1,0,0],\n",
    "          [0,0,1,1],\n",
    "          [0,0,1,1]]\n",
    "\n",
    "# Number of iterations of evolution\n",
    "Niterations = 10\n",
    "\n",
    "\n",
    "#create automata\n",
    "automata = np.zeros((n, n), dtype=int)\n",
    "automata[1:np.shape(seed)[0]+1,1:np.shape(seed)[1]+1] = seed\n",
    "\n",
    "# Create an identical copy of the automata, which will be the next iteration of the automata after one time step.\n",
    "future_automata = np.copy(automata)\n",
    "\n",
    "# Show iterations of automata\n",
    "# showAutomata()\n",
    "# for i in range(Niterations):\n",
    "#     iterate()\n",
    "#     showAutomata()\n",
    "\n",
    "#create animation\n",
    "filename = 'beacon.mp4'\n",
    "animAutomata(filename, Niterations)\n",
    "\n",
    "#display animation\n",
    "mp4 = open(filename,'rb').read()\n",
    "data_url = \"data:video/mp4;base64,\" + b64encode(mp4).decode()\n",
    "HTML(\"\"\"\n",
    "<video width=400 controls>\n",
    "      <source src=\"%s\" type=\"video/mp4\">\n",
    "</video>\n",
    "\"\"\" % data_url)\n"
   ]
  },
  {
   "cell_type": "markdown",
   "metadata": {},
   "source": [
    "## The Glider"
   ]
  },
  {
   "cell_type": "code",
   "execution_count": 10,
   "metadata": {},
   "outputs": [
    {
     "name": "stderr",
     "output_type": "stream",
     "text": [
      "100%|██████████| 21/21 [00:04<00:00,  4.97it/s]\n"
     ]
    },
    {
     "data": {
      "text/html": [
       "\n",
       "<video width=400 controls>\n",
       "      <source src=\"data:video/mp4;base64,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\" type=\"video/mp4\">\n",
       "</video>\n"
      ],
      "text/plain": [
       "<IPython.core.display.HTML object>"
      ]
     },
     "execution_count": 10,
     "metadata": {},
     "output_type": "execute_result"
    }
   ],
   "source": [
    "#number of cells in a row\n",
    "n = 20\n",
    "\n",
    "#seed\n",
    "seed = [[1,0,0,1,0],\n",
    "          [0,0,0,0,1],\n",
    "          [1,0,0,0,1],\n",
    "          [0,1,1,1,1]]\n",
    "\n",
    "# Number of iterations of evolution\n",
    "Niterations = 20\n",
    "\n",
    "\n",
    "#create automata\n",
    "automata = np.zeros((n, n), dtype=int)\n",
    "automata[1:np.shape(seed)[0]+1,1:np.shape(seed)[1]+1] = seed\n",
    "\n",
    "# Create an identical copy of the automata, which will be the next iteration of the automata after one time step.\n",
    "future_automata = np.copy(automata)\n",
    "\n",
    "# Show iterations of automata\n",
    "# showAutomata()\n",
    "# for i in range(Niterations):\n",
    "#     iterate()\n",
    "#     showAutomata()\n",
    "\n",
    "#create animation\n",
    "filename = 'glider.mp4'\n",
    "animAutomata(filename, Niterations)\n",
    "\n",
    "#display animation\n",
    "mp4 = open(filename,'rb').read()\n",
    "data_url = \"data:video/mp4;base64,\" + b64encode(mp4).decode()\n",
    "HTML(\"\"\"\n",
    "<video width=400 controls>\n",
    "      <source src=\"%s\" type=\"video/mp4\">\n",
    "</video>\n",
    "\"\"\" % data_url)\n"
   ]
  },
  {
   "cell_type": "code",
   "execution_count": null,
   "metadata": {},
   "outputs": [],
   "source": []
  }
 ],
 "metadata": {
  "kernelspec": {
   "display_name": "Python 3",
   "language": "python",
   "name": "python3"
  },
  "language_info": {
   "codemirror_mode": {
    "name": "ipython",
    "version": 3
   },
   "file_extension": ".py",
   "mimetype": "text/x-python",
   "name": "python",
   "nbconvert_exporter": "python",
   "pygments_lexer": "ipython3",
   "version": "3.8.3"
  }
 },
 "nbformat": 4,
 "nbformat_minor": 4
}
