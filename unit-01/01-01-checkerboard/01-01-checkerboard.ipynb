{
 "cells": [
  {
   "cell_type": "markdown",
   "metadata": {},
   "source": [
    "# Checkerboard Universe Summary"
   ]
  },
  {
   "cell_type": "markdown",
   "metadata": {},
   "source": [
    "In class, we did an exercise titled Checkerboard Universe where you investigated \"rules\" of a universe by placing a checker on the board. Your lab partner confirmed whether a checker is allowed or not, and you removed the checker if it was not allowed. By placing checkers and observing the pattern, you guessed at the rule.\n",
    "\n",
    "In this follow-up to the activity, we will look more deeply into the reasoning we used and compare it to reasoning used in science. We'll also use this opportunity to learn about **Google Colab** and how to edit a **Jupyter notebook** document in Colab."
   ]
  },
  {
   "cell_type": "markdown",
   "metadata": {},
   "source": [
    "## Introduction"
   ]
  },
  {
   "cell_type": "markdown",
   "metadata": {},
   "source": [
    "Suppose that you observe the board with two checkers arranged in the configuration shown below. Note the definitions of rows and columns.\n",
    "\n",
    "<img src=\"01.png\" width=400>\n",
    "\n",
    "If you are a chess player, note that we are using a different convention for labeling the rows and columns than is generaly used in chess. \n",
    "\n",
    "The checkerboard grid can be thought of mathematically as an array. Each square is described by a location $[row,column]$ where the row numbers are horizontal and the column numbers are vertical. The red checker is at $[7,2]$ and the black checker is at $[7,3]$.\n",
    "\n",
    "Naming the squares like this allows us to more clearly describe the location of a checker."
   ]
  },
  {
   "cell_type": "markdown",
   "metadata": {},
   "source": [
    "### Exercise 1 -- Observations"
   ]
  },
  {
   "cell_type": "markdown",
   "metadata": {
    "nbgrader": {
     "grade": false,
     "grade_id": "Ex_1_task",
     "locked": true,
     "points": 1,
     "schema_version": 3,
     "solution": false,
     "task": true
    }
   },
   "source": [
    "Make a list of 6 observations for the given arrangement of checkers on the board. The first observation in the list is given as an example. In Colab, double-click this cell and it is now in *edit* mode. After editing the text, simultaneously type `shift-enter` on your keyboard to render the text.\n",
    "\n",
    " 1. Both checkers are in row 7.\n",
    " 2. ..."
   ]
  },
  {
   "cell_type": "markdown",
   "metadata": {},
   "source": [
    "### Exercise 2 -- Hypotheses"
   ]
  },
  {
   "cell_type": "markdown",
   "metadata": {
    "nbgrader": {
     "grade": false,
     "grade_id": "Ex_2_task",
     "locked": true,
     "points": 1,
     "schema_version": 3,
     "solution": false,
     "task": true
    }
   },
   "source": [
    "Here are three hypotheses that are consistent with the observation. Add three more hypotheses that are consistent with the observation.\n",
    "\n",
    "1. Black checkers must be on white squares and red checkers must be on black squares.\n",
    "1. Checkers must be on odd numbered rows.\n",
    "1. Checkers are in pairs, with 1 black checker adjacent to 1 red checker. (They cannot touch other pairs.)"
   ]
  },
  {
   "cell_type": "markdown",
   "metadata": {},
   "source": [
    "## Deductive and Inductive Reasoning"
   ]
  },
  {
   "cell_type": "markdown",
   "metadata": {},
   "source": [
    "Reasoning can be characterized as **deductive** or **inductive**.\n",
    "\n",
    "Using inductive reasoning, observations lead to possible hypotheses. You used inductive reasoning in the previous exercise.\n",
    "\n",
    "Using deductive reasoning, a person uses a hypothesis to make predictions and then uses observations (or experiments) to test those predictions and possibly falsify the hypothesis."
   ]
  },
  {
   "cell_type": "markdown",
   "metadata": {},
   "source": [
    "### Exercise 3 -- Deductive Reasoning"
   ]
  },
  {
   "cell_type": "markdown",
   "metadata": {
    "nbgrader": {
     "grade": false,
     "grade_id": "Ex_3_task",
     "locked": true,
     "points": 1,
     "schema_version": 3,
     "solution": false,
     "task": true
    }
   },
   "source": [
    "For one of the hypotheses that you created above, describe how you would place a checker to test consistency with (i.e. confirm) the hypothesis and describe how you would place a checker to falsify the hypothesis. Here is an example of what you should write.\n",
    "\n",
    "**Hypothesis: Black checkers must be on white squares and red checkers must be on black squares**.\n",
    "\n",
    "To confirm, place a black checker on $[7,0]$ and a red checker on $[7,1]$ and see if it's allowed. To falsify, place a black checker on $[7,1]$ and a red checker on $[7,0]$ and see if it's NOT allowed.\n"
   ]
  },
  {
   "cell_type": "markdown",
   "metadata": {},
   "source": [
    "## Falsifying Hypotheses"
   ]
  },
  {
   "cell_type": "markdown",
   "metadata": {},
   "source": [
    "### Exercise 4"
   ]
  },
  {
   "cell_type": "markdown",
   "metadata": {
    "nbgrader": {
     "grade": false,
     "grade_id": "Ex_4_task",
     "locked": true,
     "points": 1,
     "schema_version": 3,
     "solution": false,
     "task": true
    }
   },
   "source": [
    "You take a new observation of the board and find that the following arrangement is also allowed.\n",
    "\n",
    "<img src=\"02.png\" width=400>\n",
    "\n",
    "Which of the following hypotheses are falsified by the two new checkers (at $[4,0]$ and $[5,0]$) that were added to the board? For the list, indicate which hypotheses are falsified by this new observation by striking through the text. To strike through text using markdown, use a double tilda like this: ``~~text~~`` to produce this: ~~text~~.\n",
    "\n",
    "1. Black checkers must be on white squares and red checkers must be on black squares.\n",
    "1. Checkers must be on odd numbered rows.\n",
    "1. Checkers are in pairs, with 1 black checker and 1 red checker.\n",
    "1. Checkers must be on the left half of the board (columns 0-3).\n",
    "1. Checkers must be on the bottom half of the board (rows 4-7).\n",
    "1. Checkers must be on the perimeter of the board (in row 0 or in column 0 or in row 7 or in column 7).\n",
    "1. Checkers must be adjacent to at least one other checker."
   ]
  },
  {
   "cell_type": "markdown",
   "metadata": {},
   "source": [
    "### More Data"
   ]
  },
  {
   "cell_type": "markdown",
   "metadata": {
    "nbgrader": {
     "grade": false,
     "grade_id": "Ex_5_task",
     "locked": true,
     "points": 1,
     "schema_version": 3,
     "solution": false,
     "task": true
    }
   },
   "source": [
    "Here is a new set of observations.\n",
    "\n",
    "<img src=\"03.png\" width=400>\n",
    "\n",
    "Which hypotheses can you now falsify?  Copy and paste your previous list of hypotheses and strike through the new falsified hypotheses."
   ]
  },
  {
   "cell_type": "markdown",
   "metadata": {},
   "source": [
    "### More Data"
   ]
  },
  {
   "cell_type": "markdown",
   "metadata": {
    "nbgrader": {
     "grade": false,
     "grade_id": "Ex_6_task",
     "locked": true,
     "points": 1,
     "schema_version": 3,
     "solution": false,
     "task": true
    }
   },
   "source": [
    "Here is a new set of observations.\n",
    "\n",
    "<img src='04.png' width=400>\n",
    "\n",
    "Which hypotheses can you now falsify?  Copy and paste your previous list of hypotheses and strike through the new falsified hypotheses."
   ]
  },
  {
   "cell_type": "markdown",
   "metadata": {},
   "source": [
    "### More Data"
   ]
  },
  {
   "cell_type": "markdown",
   "metadata": {
    "nbgrader": {
     "grade": false,
     "grade_id": "Ex_7_task",
     "locked": true,
     "points": 1,
     "schema_version": 3,
     "solution": false,
     "task": true
    }
   },
   "source": [
    "Here is a new set of observations.\n",
    "\n",
    "<img src='05.png' width=400>\n",
    "\n",
    "Which hypotheses can you now falsify?  Copy and paste your previous list of hypotheses and strike through the new falsified hypotheses."
   ]
  },
  {
   "cell_type": "markdown",
   "metadata": {},
   "source": [
    "### Even More Data"
   ]
  },
  {
   "cell_type": "markdown",
   "metadata": {
    "nbgrader": {
     "grade": false,
     "grade_id": "Ex_8_task",
     "locked": true,
     "points": 1,
     "schema_version": 3,
     "solution": false,
     "task": true
    }
   },
   "source": [
    "Here is a new set of observations.\n",
    "\n",
    "<img src=\"06.png\" width=400>\n",
    "\n",
    "1. Are any of our previous hypotheses plausible? If so, list them.\n",
    "1. Can you write a new hypothesis that is consistent with this observation (and by necessity all previous observations)?\n",
    "1. If a prediction (and subsequent observation or measurement) is consistent with a hypothesis, does it make the hypothesis true. (By \"true\" we mean that the hypothesis is plausible for most or all future predictions.)\n",
    "1. Can experiments (or observations) prove a hypothesis?\n",
    "1. Can experiments (or observations) falsify a hypothesis?"
   ]
  },
  {
   "cell_type": "markdown",
   "metadata": {},
   "source": [
    "# Drawing a checkerboard and checkers"
   ]
  },
  {
   "cell_type": "markdown",
   "metadata": {},
   "source": [
    "In a previous notebook, you learned how to create and use functions. Functions allow you to reuse code in an efficient way (intead of copying and pasting the same code block every time you need it). In this activity, you will use functions to draw a checkerboard and checkers."
   ]
  },
  {
   "cell_type": "markdown",
   "metadata": {},
   "source": [
    "## Importing packages"
   ]
  },
  {
   "cell_type": "markdown",
   "metadata": {},
   "source": [
    "Packages provide functionality not already available in Python. When you installed Anaconda, it included many common packages used in science. The following `import` statements import a package `matplotlib` for graphing and a package `numpy` for defining and using arrays."
   ]
  },
  {
   "cell_type": "code",
   "execution_count": 1,
   "metadata": {},
   "outputs": [],
   "source": [
    "import matplotlib.pyplot as plt\n",
    "import numpy as np"
   ]
  },
  {
   "cell_type": "markdown",
   "metadata": {},
   "source": [
    "## Creating functions"
   ]
  },
  {
   "cell_type": "markdown",
   "metadata": {},
   "source": [
    "When we want to run the same code more than once, we put it into a function and then call the function when we need it. In this case, we need three functions:\n",
    "\n",
    "1. a function to create a checkerboard\n",
    "2. a function to create a red checker at the location where we want it\n",
    "3. a function to create a black checker at the location where we want it\n",
    "\n",
    "Run the following cell to create these functions."
   ]
  },
  {
   "cell_type": "code",
   "execution_count": 2,
   "metadata": {},
   "outputs": [],
   "source": [
    "redCheckers = [] # global list of coordinates of red checkers\n",
    "blackCheckers = [] # global list of coordinates of red checkers\n",
    "\n",
    "def drawCheckerboard():\n",
    "    # Make a 8x8 grid with default 0\n",
    "    nrows, ncols = 8,8\n",
    "    image = np.zeros(nrows*ncols)\n",
    "    image = image.reshape((nrows, ncols))\n",
    "\n",
    "    # Set every other cell in a row to 1; alternate starting cell color in a row\n",
    "    c=0\n",
    "\n",
    "    cmaptype = 'binary'\n",
    "    darkcolor = 0.5\n",
    "    lightcolor = 0\n",
    "    dark = darkcolor\n",
    "    light = lightcolor\n",
    "    for i in range(nrows):\n",
    "        for j in range(ncols):\n",
    "            if c % 2 == 0:\n",
    "                image[i,j] = dark\n",
    "            else:\n",
    "                image[i,j] = light\n",
    "            c = c + 1\n",
    "        if dark==darkcolor:\n",
    "            dark = lightcolor\n",
    "            light = darkcolor\n",
    "        else:\n",
    "            dark = darkcolor\n",
    "            light = lightcolor\n",
    "\n",
    "    # produce checkerboard\n",
    "    fig, ax = plt.subplots(figsize=(8,8))\n",
    "    ax.matshow(image, cmap=cmaptype, aspect='equal', vmin=0, vmax=1)\n",
    "    \n",
    "    # draw red checkers\n",
    "    for c in redCheckers:\n",
    "        R = 0.25\n",
    "        colorstr='r'\n",
    "        checker = plt.Circle((c[1],c[0]), R, color=colorstr)\n",
    "        ax.add_artist(checker)\n",
    "\n",
    "    # draw black checkers\n",
    "    for c in blackCheckers:\n",
    "        R = 0.25\n",
    "        colorstr='k'\n",
    "        checker = plt.Circle((c[1],c[0]), R, color=colorstr)\n",
    "        ax.add_artist(checker)\n",
    "    \n",
    "def addRedChecker(coord=[0,0]):\n",
    "    global redCheckers\n",
    "    redCheckers.append(coord)\n",
    "    \n",
    "def addBlackChecker(coord=[0,0]):\n",
    "    global blackCheckers\n",
    "    blackCheckers.append(coord)\n",
    "\n",
    "def eraseCheckers():\n",
    "    global redCheckers\n",
    "    global blackCheckers\n",
    "    redCheckers = []\n",
    "    blackCheckers = []\n"
   ]
  },
  {
   "cell_type": "code",
   "execution_count": 3,
   "metadata": {},
   "outputs": [
    {
     "data": {
      "image/png": "[encoded data removed]",
      "text/plain": [
       "<Figure size 576x576 with 1 Axes>"
      ]
     },
     "metadata": {
      "needs_background": "light"
     },
     "output_type": "display_data"
    }
   ],
   "source": [
    "drawCheckerboard()"
   ]
  },
  {
   "cell_type": "markdown",
   "metadata": {},
   "source": [
    "Call `addRedChecker()` or `addBlackChecker` to add checkers to the board. Specifiy the coordinates of the checker as a list, $[row,column]$.\n",
    "\n",
    "Here is an example that produces the image shown earlier."
   ]
  },
  {
   "cell_type": "code",
   "execution_count": 8,
   "metadata": {},
   "outputs": [
    {
     "data": {
      "image/png": "[encoded data removed]",
      "text/plain": [
       "<Figure size 576x576 with 1 Axes>"
      ]
     },
     "metadata": {
      "needs_background": "light"
     },
     "output_type": "display_data"
    }
   ],
   "source": [
    "addRedChecker([6,2])\n",
    "addBlackChecker([6,3])\n",
    "drawCheckerboard()"
   ]
  },
  {
   "cell_type": "markdown",
   "metadata": {},
   "source": [
    "Try adding more red and black checkers to the board."
   ]
  },
  {
   "cell_type": "markdown",
   "metadata": {},
   "source": [
    "## Example"
   ]
  },
  {
   "cell_type": "markdown",
   "metadata": {},
   "source": [
    "Let's create a new checkerboard that looks like the image below.\n",
    "\n",
    "<img src='02.png' width=400>\n",
    "\n",
    "The steps are:\n",
    "\n",
    "1. Call `createCheckerboard()` to create the checkerboard.\n",
    "2. Call `addRedChecker(figure, axes, [row,col])` or `addBlackChecker(figure, axes, [row,col])` to create checkers."
   ]
  },
  {
   "cell_type": "code",
   "execution_count": 7,
   "metadata": {},
   "outputs": [
    {
     "data": {
      "image/png": "[encoded data removed]",
      "text/plain": [
       "<Figure size 576x576 with 1 Axes>"
      ]
     },
     "metadata": {
      "needs_background": "light"
     },
     "output_type": "display_data"
    }
   ],
   "source": [
    "eraseCheckers()\n",
    "addRedChecker([7,2])\n",
    "addRedChecker([4,0])\n",
    "addBlackChecker([7,3])\n",
    "addBlackChecker([5,0])\n",
    "drawCheckerboard()"
   ]
  },
  {
   "cell_type": "markdown",
   "metadata": {},
   "source": [
    "## Exercise 5"
   ]
  },
  {
   "cell_type": "markdown",
   "metadata": {
    "nbgrader": {
     "grade": false,
     "grade_id": "Ex_2-5_task",
     "locked": true,
     "points": 1,
     "schema_version": 3,
     "solution": false,
     "task": true
    }
   },
   "source": [
    "Write a \"rule\" for a Checkerboard Universe and use code, like in the previous example, to create an interesting checkerboard pattern that fits the rule. Create more than ten checkers."
   ]
  },
  {
   "cell_type": "code",
   "execution_count": null,
   "metadata": {},
   "outputs": [],
   "source": []
  }
 ],
 "metadata": {
  "celltoolbar": "Create Assignment",
  "kernelspec": {
   "display_name": "Python 3",
   "language": "python",
   "name": "python3"
  },
  "language_info": {
   "codemirror_mode": {
    "name": "ipython",
    "version": 3
   },
   "file_extension": ".py",
   "mimetype": "text/x-python",
   "name": "python",
   "nbconvert_exporter": "python",
   "pygments_lexer": "ipython3",
   "version": "3.8.3"
  }
 },
 "nbformat": 4,
 "nbformat_minor": 4
}
