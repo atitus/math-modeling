{
 "cells": [
  {
   "cell_type": "markdown",
   "metadata": {},
   "source": [
    "# Examples of Three Types of Modeling"
   ]
  },
  {
   "cell_type": "markdown",
   "metadata": {},
   "source": [
    "We will categorize mathematical models as three types:\n",
    "\n",
    "1. empirical models\n",
    "2. dynamic models\n",
    "3. Monte Carlo models\n",
    "\n",
    "Let's demonstrate and play with each of these types of models."
   ]
  },
  {
   "cell_type": "code",
   "execution_count": 1,
   "metadata": {},
   "outputs": [],
   "source": [
    "# import packages\n",
    "import random\n",
    "import matplotlib.pyplot as plt\n",
    "import numpy as np"
   ]
  },
  {
   "cell_type": "markdown",
   "metadata": {},
   "source": [
    "## Emperical Model\n",
    "\n",
    "An **emperical model** is a mathematical function obtained by finding the best-fit function that describes data. Here is an example of fitting a curve to recent annual global surface temperature.\n",
    "\n",
    "The annual global surface temperature anomaly using land and sea data as a function of year is plotted below using data from [Berkeley Earth](http://berkeleyearth.lbl.gov/auto/Global/Land_and_Ocean_summary.txt). Temperature anomaly is the difference in the temperature measurement from a standard. In this case, the standard (reference) temperature is the Jan 1951-Dec 1980 average.\n",
    "\n",
    "<img src=\"https://github.com/atitus/math-modeling/blob/master/unit-01/01-02-modeling/global-temp-anomaly.png?raw=true\" width=800>\n",
    "\n",
    "The last part of this graph since around 1960 is approximately quadratic of the form:\n",
    "\n",
    "$$y = A x^2 + Bx + C$$\n",
    "\n",
    "where $y$ is the variable on the vertical axis, $x$ is the variable on the horizontal axis, and $A$, $B$, and $C$ are the **curve fit parameters** that determine the shape of the function. \n",
    "\n",
    "However, in this case the variable plotted on the vertical axis is temperature anomaly, which we we call $T$, and the variable plotted on the horizontal axis is year, which we will call $t$. The best-fit function for years after 1960 is\n",
    "\n",
    "$$T = \\left(2.0223\\times 10^{-4}\\ \\frac{^\\circ\\mathrm{C}}{y^2}\\right)t^2 + \\left(-0.78878\\ \\frac{^\\circ\\mathrm{C}}{y}\\right)t + 769.06\\ ^\\circ\\mathrm{C}$$\n",
    "\n",
    "where $T$ is the global temperature anomaly in degrees Celsius, and $t$ is the year number."
   ]
  },
  {
   "cell_type": "markdown",
   "metadata": {},
   "source": [
    "### Example\n",
    "\n",
    "This mathematical function is called the **emperical model**, and it can be used to calculate the temperature in any year from 1960 to 2019. Define the values of the fit parameters `A`, `B`, and `C` and the year `t`. Then calculate the temperature anomaly for that year using:\n",
    "\n",
    "```python\n",
    "T = A*t**2 + B*t + C\n",
    "```\n",
    "\n",
    "Note that in Python, the operator `**` is used to raise a quantity to a power. Let's calculate the temperature anomaly in 1980."
   ]
  },
  {
   "cell_type": "code",
   "execution_count": 2,
   "metadata": {},
   "outputs": [
    {
     "name": "stdout",
     "output_type": "stream",
     "text": [
      "The temperature in 1980 is 0.10 degrees Celsius.\n"
     ]
    }
   ],
   "source": [
    "A = 2.0223e-4\n",
    "B = -0.78878\n",
    "C = 769.06\n",
    "\n",
    "t = 1980\n",
    "\n",
    "T = A*t**2 + B*t + C\n",
    "\n",
    "print(\"The temperature in {:.0f} is {:.2f} degrees Celsius.\".format(t, T))"
   ]
  },
  {
   "cell_type": "markdown",
   "metadata": {},
   "source": [
    "I am going to define this in a Python function that you can call in order to print the temperature for any year."
   ]
  },
  {
   "cell_type": "code",
   "execution_count": 3,
   "metadata": {},
   "outputs": [],
   "source": [
    "def temp(t=1980):\n",
    "    A = 2.0223e-4\n",
    "    B = -0.78878\n",
    "    C = 769.06\n",
    "\n",
    "    T = A*t**2 + B*t + C\n",
    "\n",
    "    return T"
   ]
  },
  {
   "cell_type": "markdown",
   "metadata": {},
   "source": [
    "Now you can call this function with the year as the argument. Here is the temperature anomaly in 1980."
   ]
  },
  {
   "cell_type": "code",
   "execution_count": 4,
   "metadata": {},
   "outputs": [
    {
     "data": {
      "text/plain": [
       "0.09809199999995144"
      ]
     },
     "execution_count": 4,
     "metadata": {},
     "output_type": "execute_result"
    }
   ],
   "source": [
    "temp(1980)"
   ]
  },
  {
   "cell_type": "markdown",
   "metadata": {},
   "source": [
    "It is best to present your results in written form in a markdown cell. For instance, you can write: \"Our emperical model predicts the annual global surface temperature anomaly in 1980 to be 0.098 degrees Celsius.\""
   ]
  },
  {
   "cell_type": "markdown",
   "metadata": {},
   "source": [
    "### Exercise 1\n",
    "\n",
    "Compare your prediction to the measured temperature anomaly in 1980. What is the difference in the prediction and the measured temperature anomaly?"
   ]
  },
  {
   "cell_type": "markdown",
   "metadata": {},
   "source": [
    "### Exercise 2\n",
    "\n",
    "In the cell below, run the command `temp(1980)` again, but change the year to 1940."
   ]
  },
  {
   "cell_type": "code",
   "execution_count": null,
   "metadata": {},
   "outputs": [],
   "source": []
  },
  {
   "cell_type": "markdown",
   "metadata": {},
   "source": [
    "What temperature anomaly does the model predict in 1940?\n",
    "\n",
    "Compare the predicted temperature anomaly to the measured temperature anomaly. Why is the prediction so far off?"
   ]
  },
  {
   "cell_type": "markdown",
   "metadata": {},
   "source": [
    "### Exercise 3\n",
    "\n",
    "If this trend continues, what will be the temperature anomaly in 2050?\n",
    "\n",
    "Is your prediction valid?"
   ]
  },
  {
   "cell_type": "code",
   "execution_count": null,
   "metadata": {},
   "outputs": [],
   "source": []
  },
  {
   "cell_type": "markdown",
   "metadata": {},
   "source": [
    "### Exercise 4\n",
    "\n",
    "Under what circumstances can an emperical model be used?\n",
    "\n",
    "What are the ethical considerations in using an emperical model to make predictions?"
   ]
  },
  {
   "cell_type": "markdown",
   "metadata": {},
   "source": [
    "## Dynamic Model\n",
    "\n",
    "A dynamic model is a set of mathematical equations based on theoretical relationships that describe how a system **evolves** over time. We will study dynamic models in biology, finance, and physics.\n",
    "\n",
    "In this example, we calculate the trajectory of a baseball after the collision with a bat. First, run the cell below which defines the model. (It produces no output until it's called in a later cell.)"
   ]
  },
  {
   "cell_type": "code",
   "execution_count": 10,
   "metadata": {},
   "outputs": [],
   "source": [
    "def baseball(v_mph=100, theta_deg=30):\n",
    "\n",
    "    ## define constants\n",
    "    m = 0.15 # kg\n",
    "    g = 9.8 # N/kg\n",
    "    dt = 0.01 # s\n",
    "\n",
    "    rho=1.225 #kg/m^3\n",
    "    Cd=0.3 #drag coeff\n",
    "    R=0.074/2 #radius in m\n",
    "    A = np.pi*R**2 #cross-sectional area of the ball\n",
    "\n",
    "    # define variables and their initial values\n",
    "    v = v_mph/2.23694 # m/s\n",
    "    theta = theta_deg #deg\n",
    "    vx = v*np.cos(theta*np.pi/180)\n",
    "    vy = v*np.cos(np.pi/2-theta*np.pi/180)\n",
    "    x = 0 # m\n",
    "    y = 1 # m\n",
    "    t = 0 # s\n",
    "\n",
    "    # create empty lists for storing data\n",
    "    tdata = []\n",
    "    xdata = []\n",
    "    ydata = []\n",
    "    vxdata = []\n",
    "    vydata = []\n",
    "\n",
    "    # append initial values of t and P to our lists\n",
    "    tdata.append(t)\n",
    "    xdata.append(x)\n",
    "    ydata.append(y)\n",
    "    vydata.append(vy)\n",
    "    vxdata.append(vx)\n",
    "\n",
    "    # loop\n",
    "    while y>=0:\n",
    "        Fnet_x = - 1/2*rho*A*Cd*v*vx\n",
    "        Fnet_y = -m*g - 1/2*rho*A*Cd*v*vy\n",
    "        vx = vx + (Fnet_x/m)*dt\n",
    "        vy = vy + (Fnet_y/m)*dt\n",
    "        v = np.sqrt(vx**2 + vy**2)\n",
    "        x = x + vx*dt\n",
    "        y = y + vy*dt\n",
    "        t = t + dt\n",
    "\n",
    "        vxdata.append(vx)\n",
    "        vydata.append(vy)\n",
    "        xdata.append(x)\n",
    "        ydata.append(y)\n",
    "        tdata.append(t)\n",
    "\n",
    "    # plot the calculated data\n",
    "    plt.figure()\n",
    "    plt.title('Path of a baseball')\n",
    "    plt.xlabel('x (m)')\n",
    "    plt.ylabel('y (m)')\n",
    "    plt.grid(which='both', axis='both')\n",
    "    plt.plot(xdata,ydata,'b-')\n",
    "    plt.show()\n",
    "    \n",
    "    # print the final x\n",
    "    print(\"At t = {:.3f} s, x = {:.1f} m = {:.1f} ft.\".format(t, x, x*3.2808))\n"
   ]
  },
  {
   "cell_type": "markdown",
   "metadata": {},
   "source": [
    "The two variables we will vary in our model are:\n",
    "\n",
    "- the launch speed of the baseball in miles per hour (mph) (i.e. the baseball's speed just after it leaves the bat)\n",
    "- the launch angle of the baseball in degrees (i.e. the angle at which it leaves the bat)\n",
    "\n",
    "The model produces a trajectory (y position vs. x position) showing the path of the ball. The time and the horizontal distance at which the ball lands is shown. The ball is assumed to leave the bat at a height of 1 m from the ground. Our model includes the forces of gravity and air resistance. It does **not** include the effect of air due to the spin of the ball. In other words, in our model, a baseball hit with back spin and a baseball hit with top spin would travel the same distance, if all other variables are the same.\n",
    "\n",
    "To run the model and view the output, use the function:\n",
    "\n",
    "```python\n",
    "baseball(speed, angle)\n",
    "```\n",
    "\n",
    "where `speed` represents the launch speed of the ball in mph and `angle` represents the launch angle in degrees. For example, `baseball(100,45)` will show you the trajectory for a baseball launched with a speed of 100 mph at an of angle 45 degrees. Run the cell below to see the result."
   ]
  },
  {
   "cell_type": "code",
   "execution_count": 11,
   "metadata": {},
   "outputs": [
    {
     "data": {
      "image/png": "[encoded data removed]",
      "text/plain": [
       "<Figure size 432x288 with 1 Axes>"
      ]
     },
     "metadata": {
      "needs_background": "light"
     },
     "output_type": "display_data"
    },
    {
     "name": "stdout",
     "output_type": "stream",
     "text": [
      "At t = 5.470 s, x = 117.1 m = 384.1 ft.\n"
     ]
    }
   ],
   "source": [
    "baseball(100,45)"
   ]
  },
  {
   "cell_type": "markdown",
   "metadata": {},
   "source": [
    "### Exercise 1\n",
    "\n",
    "Copy the code above and paste it into the cell below. Change the angle to 40 degrees, but leave the launch speed at 100 mph. Does the baseball travel farther or less far?"
   ]
  },
  {
   "cell_type": "code",
   "execution_count": null,
   "metadata": {},
   "outputs": [],
   "source": []
  },
  {
   "cell_type": "markdown",
   "metadata": {},
   "source": [
    "### Exercise 2\n",
    "\n",
    "Copy the code above and paste it into the cell below. Using a launch speed of 100 mph, find the angle at which the baseball travels the farthest. (In mathematics, this is called an *optimization* problem.)"
   ]
  },
  {
   "cell_type": "code",
   "execution_count": null,
   "metadata": {},
   "outputs": [],
   "source": []
  },
  {
   "cell_type": "markdown",
   "metadata": {},
   "source": [
    "### Exercise 3\n",
    "\n",
    "Go to [this web site](http://m.mlb.com/statcast/leaderboard#hr-distance) that lists all home runs hit in MLB in 2019. Select one of the home runs, and write below (in this cell), its launch speed, its launch angle, and its distance."
   ]
  },
  {
   "cell_type": "markdown",
   "metadata": {},
   "source": [
    "### Exercise 4\n",
    "\n",
    "Use our model of a baseball to predict the distance of the home run, given the same launch speed and launch angle from the previous exercise. Your code should be in the cell below. Compare your predicted distance to the actual distance. \n",
    "\n",
    "How far off is your prediction?\n",
    "\n",
    "In general, how does one improve a model so the prediction is closer to the value measured?"
   ]
  },
  {
   "cell_type": "code",
   "execution_count": null,
   "metadata": {},
   "outputs": [],
   "source": []
  },
  {
   "cell_type": "markdown",
   "metadata": {},
   "source": [
    "## Monte Carlo Model\n",
    "\n",
    "A Monte Carlo model is a description of a system based on a set of rules and random processes. It is named after the casinos in Monte Carlo.\n",
    "\n",
    "In this example inspired by an article in [Towards AI on medium.com](https://medium.com/towards-artificial-intelligence/monte-carlo-simulation-an-in-depth-tutorial-with-python-bcf6eb7856c8#6185), we will explore the general question: \"How do casinos earn money?\" In this case, we have a simplified casino game where a playeer selects a chip from a bag of chips. The rules are:\n",
    "\n",
    "- There are chips containing numbers ranging from 1–100 in a bag.\n",
    "- Players can bet on even or odd chips. If they win, they double the money waged. If they lose, they lose the money waged.\n",
    "- In this game, 10 and 11 are special numbers. If we bet on evens, then 10 will be counted as an odd number, and if we bet on odds, then 11 will be counted as an even number. Therefore:\n",
    "  - if we bet on even numbers and we get 10 then we lose.\n",
    "  - if we bet on odd numbers and we get 11 then we lose.\n",
    "\n",
    "As a result of these rules, there are 100 possible outcomes when you select a chip from the bag. In 49 of the possible outcomes, you will win. In 51 of the possible outcomes you will lose. Therefore, the house (i.e. casino) always has a higher probability of winning than you do.\n",
    "\n",
    "The probability you will win is $49/100 = 0.49$ or 49%.\n",
    "\n",
    "The probability you will lose is $51/100 = 0.51$ or 51%.\n",
    "\n",
    "The difference in the proabilities (2%) is in favor of the house and is called the **house edge**. Another way to think about it is, for every \\\\$100 you bet, the house earns \\\\$2. Sure the house doesn't win every bet. But on average, for a large amount of money wagered, the house will win 2% of money wagered which is \\\\$2 on every \\\\$100.\n",
    "\n",
    "**Your job as a casino consultant is to simulate a person who starts with \\\\$10,000 and bets \\\\$100 per draw of a chip for a total of 50 bets.**"
   ]
  },
  {
   "cell_type": "markdown",
   "metadata": {},
   "source": [
    "### Exercise 1\n",
    "\n",
    "How much money do you expect the house to earn, on average, for this customer?"
   ]
  },
  {
   "cell_type": "markdown",
   "metadata": {},
   "source": [
    "### Define the Model\n",
    "\n",
    "Run each of the code blocks below which implements the model in Python."
   ]
  },
  {
   "cell_type": "code",
   "execution_count": null,
   "metadata": {},
   "outputs": [],
   "source": [
    "def bet(choice=\"Even\"):\n",
    "\n",
    "    #Get random number between 1-100.\n",
    "    note = random.randint(1,100)\n",
    "\n",
    "    #For even :\n",
    "    if choice==\"Even\":\n",
    "        # 10 is not considered an even number.\n",
    "        if note%2!=0 or note==10:\n",
    "            return False\n",
    "        elif note%2==0:\n",
    "            return True\n",
    "\n",
    "    #For odd :        \n",
    "    elif choice==\"Odd\":\n",
    "        # 11 is not considered an odd number.\n",
    "        if note%2==0 or note==11:\n",
    "            return False\n",
    "        elif note%2==1:\n",
    "            return True  \n",
    "\n",
    "#Main function :\n",
    "def play(bet_money, total_bets, choice=\"Even\"):\n",
    "\n",
    "    total_money = 0\n",
    "    num_of_plays = []\n",
    "    money = []\n",
    "    \n",
    "    #Start with play number 1\n",
    "    play = 1\n",
    "  \n",
    "    for play in range(total_bets):\n",
    "        #Win :\n",
    "        if bet(choice):\n",
    "            #Add money to our funds\n",
    "            total_money = total_money + bet_money\n",
    "            #Append the play number\n",
    "            num_of_plays.append(play)\n",
    "            #Append the new fund amount\n",
    "            money.append(total_money)\n",
    "        \n",
    "        #Lose :\n",
    "        else:\n",
    "            #Subtract money from our funds\n",
    "            total_money = total_money - bet_money \n",
    "            #Append the play number\n",
    "            num_of_plays.append(play)\n",
    "            #Append the new fund amount\n",
    "            money.append(total_money)\n",
    "    \n",
    "    #Plot the data :\n",
    "    plt.figure()\n",
    "    plt.ylabel('Player Money in $')\n",
    "    plt.xlabel('Number of bets')\n",
    "    plt.plot(num_of_plays,money)\n",
    "    plt.show()\n",
    "\n",
    "    return(total_money)"
   ]
  },
  {
   "cell_type": "markdown",
   "metadata": {},
   "source": [
    "### Run the Model\n",
    "\n",
    "Run the Python function `play()` with the following syntax:\n",
    "\n",
    "```\n",
    "play(bet_money, total_bets, choice=\"Even\")\n",
    "```\n",
    "\n",
    "where `bet_money` is the amount of money the person bets each time a chip is drawn, `total_bets` is the total number of times a chip will be drawn and `choice` is \"Even\" for a bet on an even chip and \"Odd\" for a bet on an odd chip.\n",
    "\n",
    "The result is a graph that shows the total money made (positive) or lost (negative) after each bet by the player."
   ]
  },
  {
   "cell_type": "code",
   "execution_count": null,
   "metadata": {},
   "outputs": [],
   "source": [
    "gambler_profit = play(100, 50, \"Even\")\n",
    "print(\"The gambler gains (or loses if negative) ${:.0f}\".format(gambler_profit))"
   ]
  },
  {
   "cell_type": "markdown",
   "metadata": {},
   "source": [
    "### Exercise 2\n",
    "\n",
    "For $100 waged, we expect the player to lose \\\\$2 on each bet, or \\\\$100 on 50 bets. But sometimes the player makes or loses much more than this.\n",
    "\n",
    "**Over the long run, by continuing to place more and more bets, do we expect the player to earn money or lose money?**\n",
    "\n",
    "Investigate this question with your model. Copy the previous cell of code and paste it below. Instead of 50 bets, run it for 100 bets."
   ]
  },
  {
   "cell_type": "code",
   "execution_count": null,
   "metadata": {},
   "outputs": [],
   "source": [
    "gambler_profit = play(100, 100000, \"Even\")\n",
    "print(\"The gambler wins (or loses if negative) ${:.0f}\".format(gambler_profit))"
   ]
  },
  {
   "cell_type": "markdown",
   "metadata": {},
   "source": [
    "Copy the previous cell of code and paste it below. Instead of 100 bets, run it for 500 bets."
   ]
  },
  {
   "cell_type": "code",
   "execution_count": null,
   "metadata": {},
   "outputs": [],
   "source": []
  },
  {
   "cell_type": "markdown",
   "metadata": {},
   "source": [
    "Run it for 1000 bets."
   ]
  },
  {
   "cell_type": "code",
   "execution_count": null,
   "metadata": {},
   "outputs": [],
   "source": []
  },
  {
   "cell_type": "markdown",
   "metadata": {},
   "source": [
    "Run it for 10,000 bets."
   ]
  },
  {
   "cell_type": "code",
   "execution_count": null,
   "metadata": {},
   "outputs": [],
   "source": []
  },
  {
   "cell_type": "markdown",
   "metadata": {},
   "source": [
    "Run it for 100,000 bets."
   ]
  },
  {
   "cell_type": "code",
   "execution_count": null,
   "metadata": {},
   "outputs": [],
   "source": []
  },
  {
   "cell_type": "markdown",
   "metadata": {},
   "source": [
    "If you are a gambler, should you bet fewer times or more times?"
   ]
  },
  {
   "cell_type": "markdown",
   "metadata": {},
   "source": [
    "If waging \\\\$100 per bet, we expect the player to lose \\\\$2 per bet. How much did this gambler lose per bet for 100,000 bets the last time you ran your model?"
   ]
  },
  {
   "cell_type": "markdown",
   "metadata": {},
   "source": [
    "What do you expect the slope of the graph to be?"
   ]
  },
  {
   "cell_type": "markdown",
   "metadata": {},
   "source": [
    "For 50 bets, do you expect the same slope as for 100,000?"
   ]
  },
  {
   "cell_type": "code",
   "execution_count": null,
   "metadata": {},
   "outputs": [],
   "source": []
  }
 ],
 "metadata": {
  "kernelspec": {
   "display_name": "Python 3",
   "language": "python",
   "name": "python3"
  },
  "language_info": {
   "codemirror_mode": {
    "name": "ipython",
    "version": 3
   },
   "file_extension": ".py",
   "mimetype": "text/x-python",
   "name": "python",
   "nbconvert_exporter": "python",
   "pygments_lexer": "ipython3",
   "version": "3.8.3"
  }
 },
 "nbformat": 4,
 "nbformat_minor": 4
}
