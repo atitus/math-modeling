{
 "cells": [
  {
   "cell_type": "markdown",
   "metadata": {},
   "source": [
    "# Lab 07 - Measuring $B(r)$ and Magnetic Dipole Moment\n",
    "\n",
    "The goal of this lab is to:\n",
    "\n",
    "1. determine $(B)$ as a function of distance $(r)$ along the axis of a coil and determine whether the coil can be modeled as a magnetic dipole.\n",
    "2. measure the magnetic dipole moment of a coil.\n",
    "3. determine $(B)$ as a function of distance $(r)$ along the axis of a magnet and determine whether the magnet can be modeled as a magnetic dipole.\n",
    "4. measure the magnetic dipole moment of a magnet.\n",
    "\n",
    "## Introduction\n",
    "\n",
    "A magnetic dipole *by definition* creates a magnetic field on the axis of the dipole that has a magnitude\n",
    "\n",
    "$$B = \\frac{\\mu_0}{4\\pi} \\frac{2\\mu}{r^3}$$\n",
    "\n",
    "where $r$ is the distance from the dipole, and $\\mu$ is the magnetic dipole moment.\n",
    "\n",
    "For a current loop of radius $R$ and area $A=\\pi R^2$, the magnetic field due to the loop at a distance $r$ on the axis is the same as a magnetic dipole if $r>>R$. Then,\n",
    "\n",
    "$$B \\approx \\frac{\\mu_0}{4\\pi} \\frac{2\\mu}{r^3}\\ , \\quad \\mu = IA \\qquad\\ \\mbox{for}\\ r\\gg R$$\n",
    "\n",
    "## Apparatus\n",
    "\n",
    "### Magnetic Field Sensor\n",
    "\n",
    "We will use a magnetic field sensor that measures $B$ along the axis of the sensor (only).\n",
    "\n",
    "Examine the sensor now. Set the sensivity switch on its most sensitive setting (approximately 0.3 mT). The sensor also shows an arrow pointing away from the sensor that shows the default positive direction of the reading. If the magnetic field points *away* from the sensor, the reading is positive. If the magnetic field points *toward* the sensor, the reading is negative.\n",
    "\n",
    "1. Connect the sensor to the LabQuest data acquisition (DAQ) device.\n",
    "2. Open the *Logger Pro* software. By default, it will detect the magnetic field sensor and show its instantaneous reading.\n",
    "\n",
    "### Track and Coil\n",
    "\n",
    "We will use an aluminum track (which does not interact with magnetic fields, unlike iron, nickel, and other materials) to align the magnetic field sensor and coil (or magnet) and precisely measure distance between them.\n",
    "\n",
    "1. Set up the sensor and coil on the track as shown below. The sensor should be aligned with the axis of the coil. It helps to align the platform and coil with the edge of the track. Use a rubber band, if necessary, to hold the sensor on the platform. Otherwise, you will have to hold it as you make measurements.\n",
    "\n",
    "  ![](sensor-coil.png)\n",
    "\n",
    "2. In Logger Pro, go to the menu **Experiment$\\to$Zero** or click the *0* icon in the toolbar to zero the sensor. **Do not move the sensor after it is zeroed.**\n",
    "\n",
    "2. Connect the coil to the power supply. Set the power supply on 5.0 V.\n",
    "\n",
    "3. Use the magnetic field sensor to determine the direction of the magnetic field due to current in the coil. Using the right hand rule (RHR), what is the direction that current flows around the coil? \n",
    "\n",
    "  Now examine the coil. Current flows in the direction of the electric field in the wire, toward lower electric potential. Is current flowing in the direction you predicted?\n",
    "  \n",
    "**Discuss your prediction and observation with the instructor.**\n",
    "\n",
    "4. Now, if necessary, change the connections to the coil such that the magnetic field reading by the sensor is positive."
   ]
  },
  {
   "cell_type": "markdown",
   "metadata": {},
   "source": [
    "## Measure $B_{axis}$ for the coil\n",
    "\n",
    "What is the (average) radius of the coil? (It is best to measure the average diameter by measuring the inner diameter and  outer diameter and calculating the average diameter. Then calculate the average radius.)"
   ]
  },
  {
   "cell_type": "code",
   "execution_count": null,
   "metadata": {},
   "outputs": [],
   "source": []
  },
  {
   "cell_type": "markdown",
   "metadata": {},
   "source": [
    "What is the length of the coil? This will help you later as you determine the location of the coil on the ruler."
   ]
  },
  {
   "cell_type": "code",
   "execution_count": null,
   "metadata": {},
   "outputs": [],
   "source": []
  },
  {
   "cell_type": "markdown",
   "metadata": {},
   "source": [
    "Measure the magnetic field at distances from the coil from approximately $4R$ to $8R$, along the axis of the coil. You should measure at least twenty data points in this range. Record your data for $r$ and $B$ in units of meters and teslas in a spreadsheet. It is easiest to use 1 cm increments or 2 cm increments or something simple that also gives you numerous data points within this range."
   ]
  },
  {
   "cell_type": "markdown",
   "metadata": {},
   "source": [
    "## Data Analysis for Coil"
   ]
  },
  {
   "cell_type": "code",
   "execution_count": null,
   "metadata": {},
   "outputs": [],
   "source": [
    "#import packages used in the lesson\n",
    "import numpy as np\n",
    "import matplotlib.pyplot as plt\n",
    "import pandas as pd\n",
    "from scipy.optimize import curve_fit\n",
    "from io import StringIO #used to convert string to a dataframe"
   ]
  },
  {
   "cell_type": "markdown",
   "metadata": {},
   "source": [
    "Copy and paste your data from your spreadhsheet into the cell below, at line 2 and the following lines before the ending quotes currently in line 8 `###`. Replace the data shown here that is merely an example."
   ]
  },
  {
   "cell_type": "code",
   "execution_count": null,
   "metadata": {},
   "outputs": [],
   "source": [
    "data = StringIO(\"\"\"r (m)\tB (T)\n",
    "0.08\t0.078e-3\n",
    "0.1\t0.045e-3\n",
    "0.12\t0.026e-3\n",
    "0.14\t0.016e-3\n",
    "0.16\t0.013e-3\n",
    "0.18\t0.008e-3\n",
    "\"\"\") "
   ]
  },
  {
   "cell_type": "markdown",
   "metadata": {},
   "source": [
    "Plot B vs. r."
   ]
  },
  {
   "cell_type": "code",
   "execution_count": null,
   "metadata": {},
   "outputs": [],
   "source": [
    "# read the data file\n",
    "df = pd.read_csv(data, sep='\\t')\n",
    "df.head()\n",
    "\n",
    "# assign variable names to the columns of data; these variables are lists\n",
    "r = df['r (m)']\n",
    "B = df['B (T)']\n",
    "\n",
    "# plot data\n",
    "fig = plt.figure(figsize=(8,6))\n",
    "plt.title(\"B(r) on axis of coil\")\n",
    "plt.plot(r, B, 'b.')\n",
    "plt.xlabel('r (m)')\n",
    "plt.ylabel('B (T)')\n",
    "plt.show()\n"
   ]
  },
  {
   "cell_type": "markdown",
   "metadata": {},
   "source": [
    "To determine whether it fits a power law of the form $B=ar^n$, we plot $log(B)$ vs. $log(r)$. This is called a *log-log plot*. If it is linear, then the data fits a power law."
   ]
  },
  {
   "cell_type": "code",
   "execution_count": null,
   "metadata": {},
   "outputs": [],
   "source": [
    "# log-log plot\n",
    "fig = plt.figure(figsize=(8,6))\n",
    "plt.title(\"B(r) on axis of coil\")\n",
    "plt.loglog(r, B, 'b.')\n",
    "plt.xlabel('r (m)')\n",
    "plt.ylabel('B (T)')\n",
    "plt.show()\n"
   ]
  },
  {
   "cell_type": "markdown",
   "metadata": {},
   "source": [
    "Fit a straight line to the data and get the slope and intercept. The exponent $n$ of the power law is the slope on the log-log plot."
   ]
  },
  {
   "cell_type": "code",
   "execution_count": null,
   "metadata": {},
   "outputs": [],
   "source": [
    "linear = lambda x, m, b: m*x+b\n",
    "\n",
    "params, stats = curve_fit(linear, np.log(r), np.log(B))\n",
    "n = params[0]\n",
    "La = params[1]\n",
    "a = np.exp(La)\n",
    "\n",
    "power = lambda x, a, n: a*x**n\n",
    "\n",
    "rmodel = np.linspace(np.min(r), np.max(r), 100)\n",
    "Bmodel = power(rmodel,a,n)\n",
    "\n",
    "fig = plt.figure(figsize=(8,6))\n",
    "plt.title(\"B(r) on axis of coil\")\n",
    "plt.loglog(r, B, 'b.')\n",
    "plt.loglog(rmodel, Bmodel, 'm-', label=\"best-fit line\")\n",
    "plt.xlabel('r (m)')\n",
    "plt.ylabel('B (T)')\n",
    "plt.legend()\n",
    "plt.show()\n",
    "\n",
    "print(\"A linear fit to the log of the data gives: a = {:.3e}, n = {:.2f}\".format(a,n))\n"
   ]
  },
  {
   "cell_type": "markdown",
   "metadata": {},
   "source": [
    "Can the coil be modeled as a dipole?\n",
    "\n",
    "If not, select the points farthest away from the coil, where the graph is closer to a straight line, by deleting the lines of data you will not use and re-running all of the previous code cells."
   ]
  },
  {
   "cell_type": "markdown",
   "metadata": {},
   "source": [
    "To measure the magnetic dipole moment, we will *assume* the data fits $B =\\frac{a}{r^3}$ and calculate the fit constant $a$. From this, we will calculate the magnetic dipole moment."
   ]
  },
  {
   "cell_type": "code",
   "execution_count": null,
   "metadata": {},
   "outputs": [],
   "source": [
    "invcubed = lambda x, a: -3*x + a\n",
    "\n",
    "params, stats = curve_fit(invcubed, np.log(r), np.log(B))\n",
    "La = params[0]\n",
    "a = np.exp(La)\n",
    "\n",
    "rmodel = np.linspace(np.min(r), np.max(r), 100)\n",
    "Bmodel = power(rmodel,a,-3)\n",
    "\n",
    "fig = plt.figure(figsize=(8,6))\n",
    "plt.title(\"B(r) on axis of coil\")\n",
    "plt.loglog(r, B, 'b.')\n",
    "plt.loglog(rmodel, Bmodel, 'm-', label=\"best-fit line for 1/r^3\")\n",
    "plt.xlabel('r (m)')\n",
    "plt.ylabel('B (T)')\n",
    "plt.legend()\n",
    "plt.show()\n",
    "\n",
    "print(\"The fit parameter is a = {:.3e}.\".format(a))\n",
    "moofpi = 1e-7\n",
    "mu = a/moofpi/2\n",
    "print(\"The magnetic dipole moment is {:.3f} A m^2.\".format(mu))\n"
   ]
  },
  {
   "cell_type": "markdown",
   "metadata": {},
   "source": [
    "## Prediction\n",
    "\n",
    "If you *decrease* the potential difference across the coil by a factor 1/2 to 2.5 V, then you will decrease the current through the coil by a factor of 1/2. What do you predict will be the magnetic dipole of the coil?"
   ]
  },
  {
   "cell_type": "code",
   "execution_count": null,
   "metadata": {},
   "outputs": [],
   "source": []
  },
  {
   "cell_type": "markdown",
   "metadata": {},
   "source": [
    "Now, decrease the potential difference to 2.5 V and repeat the experiment and measure the magnetic dipole moment of the coil. Note that you may have to change the sensitivity of the magnetic field sensor to measure smaller magnetic fields precisely.\n",
    "\n",
    "How does your measurement compare to your prediction?\n"
   ]
  },
  {
   "cell_type": "code",
   "execution_count": null,
   "metadata": {},
   "outputs": [],
   "source": []
  },
  {
   "cell_type": "markdown",
   "metadata": {},
   "source": [
    "## Magnet - 4 neodymium magnets\n",
    "\n",
    "Now, set the sensor on the groove of the track and set the magnet (composed of 4 smaller neodymium magnets) on a small platform that will allow you to more precisely measure distance using the ruler on the track, as shown below.\n",
    "\n",
    "![](sensor-magnet.png)"
   ]
  },
  {
   "cell_type": "markdown",
   "metadata": {},
   "source": [
    "Measure the magnetic field due to the magnet for various distances from the magnet. **You must measure distance from the sensor to the center of the magnet.**\n",
    "\n",
    "Choose distances from approximately 2 cm to 16 cm and measure approximately 20 data points in this range. Record your data in a spreadsheet.\n",
    "\n",
    "## Data Analysis\n",
    "\n",
    "Copy and paste your data into the lines below. Replace the data shown here as an example."
   ]
  },
  {
   "cell_type": "code",
   "execution_count": null,
   "metadata": {},
   "outputs": [],
   "source": [
    "data = StringIO(\"\"\"r (m)\tB (T)\n",
    "0.04\t1.062e-3\n",
    "0.045\t0.7376e-3\n",
    "0.05\t0.5405e-3\n",
    "0.055\t0.4431e-3\n",
    "\"\"\") "
   ]
  },
  {
   "cell_type": "markdown",
   "metadata": {},
   "source": [
    "Use the program below to analyze your data and calculate the magnetic dipole moment of the magnet."
   ]
  },
  {
   "cell_type": "code",
   "execution_count": null,
   "metadata": {},
   "outputs": [],
   "source": [
    "# read the data file\n",
    "df = pd.read_csv(data, sep='\\t')\n",
    "df.head()\n",
    "\n",
    "# assign variable names to the columns of data; these variables are lists\n",
    "r = df['r (m)']\n",
    "B = df['B (T)']\n",
    "\n",
    "linear = lambda x, m, b: m*x+b\n",
    "\n",
    "params, stats = curve_fit(linear, np.log(r), np.log(B))\n",
    "n = params[0]\n",
    "La = params[1]\n",
    "a = np.exp(La)\n",
    "\n",
    "power = lambda x, a, n: a*x**n\n",
    "\n",
    "rmodel = np.linspace(np.min(r), np.max(r), 100)\n",
    "Bmodel = power(rmodel,a,n)\n",
    "\n",
    "fig = plt.figure(figsize=(8,6))\n",
    "plt.title(\"B(r) on axis of coil\")\n",
    "plt.loglog(r, B, 'b.')\n",
    "plt.loglog(rmodel, Bmodel, 'm-', label=\"best-fit line\")\n",
    "plt.xlabel('r (m)')\n",
    "plt.ylabel('B (T)')\n",
    "plt.legend()\n",
    "plt.show()\n",
    "\n",
    "print(\"A linear fit to the log of the data gives: a = {:.3e}, n = {:.2f}\".format(a,n))\n"
   ]
  },
  {
   "cell_type": "markdown",
   "metadata": {},
   "source": [
    "Can the magnet be modeled as a dipole? If the plot is linear, only for large $r$, then delete rows of data for small $r$ and redo the analysis, only for large $r$."
   ]
  },
  {
   "cell_type": "code",
   "execution_count": null,
   "metadata": {},
   "outputs": [],
   "source": []
  },
  {
   "cell_type": "markdown",
   "metadata": {},
   "source": [
    "To measure the magnetic dipole moment, we will *assume* the data fits $B =\\frac{a}{r^3}$ and calculate the fit constant $a$. From this, we will calculate the magnetic dipole moment."
   ]
  },
  {
   "cell_type": "code",
   "execution_count": null,
   "metadata": {},
   "outputs": [],
   "source": [
    "invcubed = lambda x, a: -3*x + a\n",
    "\n",
    "params, stats = curve_fit(invcubed, np.log(r), np.log(B))\n",
    "La = params[0]\n",
    "a = np.exp(La)\n",
    "\n",
    "rmodel = np.linspace(np.min(r), np.max(r), 100)\n",
    "Bmodel = power(rmodel,a,-3)\n",
    "\n",
    "fig = plt.figure(figsize=(8,6))\n",
    "plt.title(\"B(r) on axis of coil\")\n",
    "plt.loglog(r, B, 'b.')\n",
    "plt.loglog(rmodel, Bmodel, 'm-', label=\"best-fit line for 1/r^3\")\n",
    "plt.xlabel('r (m)')\n",
    "plt.ylabel('B (T)')\n",
    "plt.legend()\n",
    "plt.show()\n",
    "\n",
    "print(\"The fit parameter is a = {:.3e}.\".format(a))\n",
    "moofpi = 1e-7\n",
    "mu = a/moofpi/2\n",
    "print(\"The magnetic dipole moment is {:.3f} A m^2.\".format(mu))\n"
   ]
  },
  {
   "cell_type": "code",
   "execution_count": null,
   "metadata": {},
   "outputs": [],
   "source": []
  }
 ],
 "metadata": {
  "kernelspec": {
   "display_name": "Python 3",
   "language": "python",
   "name": "python3"
  },
  "language_info": {
   "codemirror_mode": {
    "name": "ipython",
    "version": 3
   },
   "file_extension": ".py",
   "mimetype": "text/x-python",
   "name": "python",
   "nbconvert_exporter": "python",
   "pygments_lexer": "ipython3",
   "version": "3.8.5"
  }
 },
 "nbformat": 4,
 "nbformat_minor": 2
}
