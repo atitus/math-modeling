{
 "cells": [
  {
   "cell_type": "markdown",
   "metadata": {},
   "source": [
    "# Functions"
   ]
  },
  {
   "cell_type": "code",
   "execution_count": 24,
   "metadata": {},
   "outputs": [],
   "source": [
    "import numpy as np\n",
    "import matplotlib.pyplot as plt\n",
    "import pandas as pd"
   ]
  },
  {
   "cell_type": "markdown",
   "metadata": {},
   "source": [
    "Emperical modeling is the fitting of a mathematical function to measured data. The equation of the best-fit curve (or function) is called **the model**.\n",
    "\n",
    "<!--\n",
    "(Here is a [summary of mathematical functions often encountered in science](https://physics.info/curve-fitting/).)\n",
    "-->\n",
    "\n",
    "An emperical model is a mathematical function. For example, for mammals, an empirical model between brain mass and body mass, based on measured data, is\n",
    "\n",
    "$$m = 8.5M^{0.75}$$\n",
    "\n",
    "where $m$ is the brain mass in grams and $M$ is the body mass in kilograms. Using this model, you can predict the brain mass of a mammal if you know its body mass.\n",
    "\n",
    "In mathematics, this is called a function, and in mathematics you write it as $m(M)$, meaning that given a value of $M$, you can calculate a value of $m$. You should specify $M$ as a variable and type the mathematical expression in terms of the variable(s). In this example, $M$ is called the **independent variable** and $m$ is called the **dependent variable**.\n",
    "\n",
    "For example, what is the predicted brain mass of a 1000 kg mammal? (Run the following cell to calculate it.)"
   ]
  },
  {
   "cell_type": "code",
   "execution_count": 25,
   "metadata": {},
   "outputs": [
    {
     "name": "stdout",
     "output_type": "stream",
     "text": [
      "The brain mass is 1511.5374985330843 g.\n"
     ]
    }
   ],
   "source": [
    "M = 1000 # kg\n",
    "m = 8.5*M**0.75 #g\n",
    "print(\"The brain mass is\", m, \"g.\")"
   ]
  },
  {
   "cell_type": "markdown",
   "metadata": {},
   "source": [
    "The value of $m$ is in grams. It's very important to know the units of both the input variable and the output variable. I like to use the comment character `#` to specify the unit after the variable or expression."
   ]
  },
  {
   "cell_type": "markdown",
   "metadata": {},
   "source": [
    "### Exercise\n",
    "\n",
    "What is the mass of a human adult's brain? Assume a typical weight for a human adult in pounds, and then convert it to kg. Print the result in a sentence."
   ]
  },
  {
   "cell_type": "code",
   "execution_count": null,
   "metadata": {},
   "outputs": [],
   "source": []
  },
  {
   "cell_type": "markdown",
   "metadata": {},
   "source": [
    "Choose a mammal and find its typical adult mass. (For example, the elephant shrew, or Somali sengi, was [recently discovered](https://www.bbc.com/news/science-environment-53820395) after being presumed to be extinct for around 50 years.) Predict the mammal's  brain mass using the emperical model."
   ]
  },
  {
   "cell_type": "code",
   "execution_count": null,
   "metadata": {},
   "outputs": [],
   "source": []
  },
  {
   "cell_type": "markdown",
   "metadata": {},
   "source": [
    "## Python Function\n",
    "\n",
    "A mathematical function takes an independent variable $x$ and calculates a dependent variable $y$. The equation\n",
    "\n",
    "$y=mx+b$\n",
    "\n",
    "is an example of a mathematical function.\n",
    "\n",
    "A Python function is a block of code that runs when it is called. It takes an input parameter (or multiple input parameters) and returns a result.\n",
    "\n",
    "Let's create a function called `brain_mass(M)` that takes a mammal's mass `M` in kg and returns the mammal's brain mass in grams."
   ]
  },
  {
   "cell_type": "code",
   "execution_count": 26,
   "metadata": {},
   "outputs": [],
   "source": [
    "def brain_mass(M):\n",
    "    #This function calculates the brain mass of a mammal\n",
    "    #M is a mammal's mass in kg\n",
    "    m = 8.5*M**0.75 #g\n",
    "    \n",
    "    return m"
   ]
  },
  {
   "cell_type": "markdown",
   "metadata": {},
   "source": [
    "Now, call the function `brain_mass(M)` where the parameter `M` is the mammal's body mass in kg."
   ]
  },
  {
   "cell_type": "code",
   "execution_count": 27,
   "metadata": {},
   "outputs": [
    {
     "data": {
      "text/plain": [
       "268.79360111431225"
      ]
     },
     "execution_count": 27,
     "metadata": {},
     "output_type": "execute_result"
    }
   ],
   "source": [
    "brain_mass(100)"
   ]
  },
  {
   "cell_type": "markdown",
   "metadata": {},
   "source": [
    "If you want to print the result in a sentence or assign the result to a variable, you can. Here's an example."
   ]
  },
  {
   "cell_type": "code",
   "execution_count": 28,
   "metadata": {},
   "outputs": [
    {
     "name": "stdout",
     "output_type": "stream",
     "text": [
      "A 100 kg mammal has a brain mass of approximately 268.79360111431225 g according to our model.\n"
     ]
    }
   ],
   "source": [
    "m = brain_mass(100)\n",
    "print(\"A 100 kg mammal has a brain mass of approximately\", m, \"g according to our model.\")"
   ]
  },
  {
   "cell_type": "markdown",
   "metadata": {},
   "source": [
    "That sentence is a little messy because there are so many digits printed for the brain mass `m`. Using the `format()` function, we can specify how many decimal places we want. In this example, the brain mass is printed with two decimal places."
   ]
  },
  {
   "cell_type": "code",
   "execution_count": 29,
   "metadata": {},
   "outputs": [
    {
     "name": "stdout",
     "output_type": "stream",
     "text": [
      "A 100 kg mammal has a brain mass of approximately 268.79 g according to our model.\n"
     ]
    }
   ],
   "source": [
    "m = brain_mass(100)\n",
    "print(\"A 100 kg mammal has a brain mass of approximately {:.2f} g according to our model.\".format(m))"
   ]
  },
  {
   "cell_type": "markdown",
   "metadata": {},
   "source": [
    "Examine the code in the cell above. Inside the sentence, I wrote `{:.2f}` as a place holder for where the variable should be printed in the sentence. The `.2` means two decimal places. The sentence is followed with `.format(m)` which tells the computer to substitute the variable `m` into `{:.2f}`.\n",
    "\n",
    "I can also use `format()` to print a number in scientific notation, if necessary. In the example below, the brain mass is printed in scientific notation with three decimal places."
   ]
  },
  {
   "cell_type": "code",
   "execution_count": 30,
   "metadata": {},
   "outputs": [
    {
     "name": "stdout",
     "output_type": "stream",
     "text": [
      "A 100 kg mammal has a brain mass of approximately 2.688e+02 g according to our model.\n"
     ]
    }
   ],
   "source": [
    "m = brain_mass(100)\n",
    "print(\"A 100 kg mammal has a brain mass of approximately {:.3e} g according to our model.\".format(m))"
   ]
  },
  {
   "cell_type": "markdown",
   "metadata": {},
   "source": [
    "Answer the following question, but use the newly defined function `brain_mass` and a well-formatted sentence to print the result. \n",
    "\n",
    "What is the predicted brain mass of the largest mammal on Earth?"
   ]
  },
  {
   "cell_type": "code",
   "execution_count": null,
   "metadata": {},
   "outputs": [],
   "source": []
  },
  {
   "cell_type": "markdown",
   "metadata": {},
   "source": [
    "### Exercise - Order of Operation"
   ]
  },
  {
   "cell_type": "markdown",
   "metadata": {},
   "source": [
    "As you can see in the previous example, to raise a quantity to a power (i.e. an exponent), use the `**` operator. The traditional operators for arithmetic are `+`, `-`, `*`, and `/` for addition, subtraction, multiplication and division.\n",
    "\n",
    "You're probably familiar with math questions like this that have [appeared on social media](https://knowyourmeme.com/memes/48293).\n",
    "\n",
    "What is 6 ÷ 2(1+2)?\n",
    "\n",
    "Predict the answer. Then, use the cell below and type Python code to evaluate the expression.\n",
    "\n",
    "Based on your familiarity with different interpretations of the correct order of operations, what are the two most common answers people give?"
   ]
  },
  {
   "cell_type": "code",
   "execution_count": null,
   "metadata": {},
   "outputs": [],
   "source": []
  },
  {
   "cell_type": "markdown",
   "metadata": {},
   "source": [
    "## Use numpy for square root, exponential, absolute value, log, and trig functions"
   ]
  },
  {
   "cell_type": "markdown",
   "metadata": {},
   "source": [
    "Sometimes we need other mathematical functions like trig functions. The numpy library has functions for many mathematical operations like square root, exponential, absolute value, log, and trig functions. Here are some examples."
   ]
  },
  {
   "cell_type": "markdown",
   "metadata": {},
   "source": [
    "What is $\\sqrt{2}$?"
   ]
  },
  {
   "cell_type": "code",
   "execution_count": 31,
   "metadata": {},
   "outputs": [
    {
     "data": {
      "text/plain": [
       "1.4142135623730951"
      ]
     },
     "execution_count": 31,
     "metadata": {},
     "output_type": "execute_result"
    }
   ],
   "source": [
    "np.sqrt(2) #square root"
   ]
  },
  {
   "cell_type": "markdown",
   "metadata": {},
   "source": [
    "What is $2\\pi$?"
   ]
  },
  {
   "cell_type": "code",
   "execution_count": 32,
   "metadata": {},
   "outputs": [
    {
     "data": {
      "text/plain": [
       "6.283185307179586"
      ]
     },
     "execution_count": 32,
     "metadata": {},
     "output_type": "execute_result"
    }
   ],
   "source": [
    "2*np.pi #pi"
   ]
  },
  {
   "cell_type": "markdown",
   "metadata": {},
   "source": [
    "What is the natural number, $e$?"
   ]
  },
  {
   "cell_type": "code",
   "execution_count": 33,
   "metadata": {},
   "outputs": [
    {
     "data": {
      "text/plain": [
       "2.718281828459045"
      ]
     },
     "execution_count": 33,
     "metadata": {},
     "output_type": "execute_result"
    }
   ],
   "source": [
    "np.exp(1) #exponential e^n where n is the power of e; Note that e is the natural number in this case"
   ]
  },
  {
   "cell_type": "markdown",
   "metadata": {},
   "source": [
    "What is $\\cos(30^\\circ)$?"
   ]
  },
  {
   "cell_type": "code",
   "execution_count": 34,
   "metadata": {},
   "outputs": [
    {
     "data": {
      "text/plain": [
       "0.8660254037844387"
      ]
     },
     "execution_count": 34,
     "metadata": {},
     "output_type": "execute_result"
    }
   ],
   "source": [
    "np.cos(np.pi/6) #trig function; it requires the angle to be in radians"
   ]
  },
  {
   "cell_type": "code",
   "execution_count": 35,
   "metadata": {},
   "outputs": [
    {
     "data": {
      "text/plain": [
       "0.8660254037844387"
      ]
     },
     "execution_count": 35,
     "metadata": {},
     "output_type": "execute_result"
    }
   ],
   "source": [
    "np.cos(30*np.pi/180) #cos(30 degrees); note that the angle in degrees must be converted to radians"
   ]
  },
  {
   "cell_type": "markdown",
   "metadata": {},
   "source": [
    "## Calculation exercises\n",
    "\n",
    "For each of the math problems below, use code and a `print()` function to calculate and print your results. Add additional code cells as needed.\n",
    "\n",
    "It is best to define a Python function that takes the independent variable as a parameter and returns the dependent variable. See our function `brain_mass(M)` above as an example."
   ]
  },
  {
   "cell_type": "markdown",
   "metadata": {},
   "source": [
    "### Exercise\n",
    "\n",
    "A tank holds 50 gal of water which drains from a leak at the bottom, causing the tank to empty in 20 min. The tank drains faster when it is nearly full because the pressure on the leak is greater. Torricelli's Law gives the volume of water remaining in the tank after $t$ minutes as\n",
    "\n",
    "$$V(t) = 50\\left(1-\\frac{t}{20}\\right)^2\\qquad 0\\le t \\le 20$$\n",
    "\n",
    "1. What is $V(0)$?\n",
    "1. What is $V(20)$?\n",
    "1. Make a table of values of $V(t)$ for $t=0,\\ 5,\\ 10,\\ 15,\\ 20$.\n",
    "1. What is the change in volume as $t$ changes from 0 min to 20 min?"
   ]
  },
  {
   "cell_type": "code",
   "execution_count": null,
   "metadata": {},
   "outputs": [],
   "source": []
  },
  {
   "cell_type": "markdown",
   "metadata": {},
   "source": [
    "The surface area $S$ of a sphere as a function of its radius $r$ is\n",
    "\n",
    "$$S(r) = 4\\pi r^2$$\n",
    "\n",
    "1. What is $S(0.1)$?\n",
    "1. What is $S(1)$?\n",
    "1. What is $S(2)$?\n"
   ]
  },
  {
   "cell_type": "code",
   "execution_count": null,
   "metadata": {},
   "outputs": [],
   "source": []
  },
  {
   "cell_type": "markdown",
   "metadata": {},
   "source": [
    "The energy of a particle with mass $m$ and speed $v$ is\n",
    "\n",
    "$$E=\\gamma mc^2$$\n",
    "\n",
    "where\n",
    "\n",
    "$$\\gamma = \\frac{1}{\\sqrt{1-\\left(\\frac{v}{c}\\right)^2}}$$\n",
    "\n",
    "and $c = 3\\times 10^8$ m/s is the speed of light.\n",
    "\n",
    "1. What is $\\gamma$ for $v=0.1c$?\n",
    "1. What is $\\gamma$ for $v=0.5c$?\n",
    "1. What is $\\gamma$ for $v=0.9c$?\n"
   ]
  },
  {
   "cell_type": "code",
   "execution_count": null,
   "metadata": {},
   "outputs": [],
   "source": []
  },
  {
   "cell_type": "markdown",
   "metadata": {},
   "source": [
    "When the brightness $x$ of a light source is increased, the eye reacts by decreasing the radius $R$ of the pupil. The dependence of $R$ on $x$ is given by the function\n",
    "\n",
    "$$R(x) = \\sqrt{\\frac{13+7x^{0.4}}{1+4x^{0.4}}}$$\n",
    "\n",
    "where $R$ is measured in millimeters and $x$ is measured in appropriate units of brightness.\n",
    "\n",
    "1. What is $R(1)$?\n",
    "1. What is $R(10)$?\n",
    "1. What is $R(100)$?\n",
    "1. What is the change in the radius of the pupil as $x$ changes from 10 to 100?\n"
   ]
  },
  {
   "cell_type": "code",
   "execution_count": null,
   "metadata": {},
   "outputs": [],
   "source": []
  },
  {
   "cell_type": "markdown",
   "metadata": {},
   "source": [
    "In physics lab, an object hangs from a spring and oscillates up and down. It's height $h$ above the table in meters is described by\n",
    "\n",
    "$$h=0.05\\cos(\\pi t + 1.1)+0.1$$\n",
    "\n",
    "where $t$ is in seconds and the angle (the argument of the cosine function) is in radians.\n",
    "\n",
    "1. What is $h(0)$?\n",
    "1. What is $h(1)$?\n",
    "1. By continually adjusting $t$ and examining the value of $h$, find the first time after $t=0$ when the value of $h$ is a minimum. Find the value to three decimal places."
   ]
  },
  {
   "cell_type": "code",
   "execution_count": null,
   "metadata": {},
   "outputs": [],
   "source": []
  },
  {
   "cell_type": "markdown",
   "metadata": {},
   "source": [
    "Manufacturing processes often introduce variation in the product being manufactured. In this case, 79 double-stuffed oreo cookies were pulled apart, and the mass of the creme in the middle was measured. The number of cookies with a mass of creme in a range $m \\pm 0.065$ g of a certain mass $m$ was counted. An emperical model for the data for mass $m$ in grams and number of cookies $N$ was found to be approximately:\n",
    "\n",
    "$$N=ae^{\\left(-\\frac{1}{2}\\left(\\frac{m-b}{c}\\right)^2\\right)}$$\n",
    "\n",
    "where\n",
    "\n",
    "- a = 23\n",
    "- b = 6.15\n",
    "- c = 0.17\n",
    "\n",
    "Create a fuction that takes a parameter `m` for the mass of the creme and returns `N`, the number of cookies. By trying different masses with your function, what was the most common mass of creme found in the batch of cookies?"
   ]
  },
  {
   "cell_type": "code",
   "execution_count": null,
   "metadata": {},
   "outputs": [],
   "source": []
  },
  {
   "cell_type": "markdown",
   "metadata": {},
   "source": [
    "## Calculating many values of a math function\n",
    "\n",
    "So far, you have calculated a single value of a dependent variable $y$ for a single value of an independent variable $x$. However, we can calculate many values by using an array.  Let's go back to our original example of an empircal model for the brain mass of a mammal,\n",
    "\n",
    "$$m = 8.5M^{0.75}$$\n",
    "\n",
    "where $m$ is the brain mass in grams and $M$ is the body mass in kilograms. Using this model, you can predict the brain mass of a mammal if you know its body mass. \n",
    "\n",
    "It would be nice to do this for many masses. An array object in python is a way of storing many values of a variable together. We will define the body mass `M` as an array of values. Then, python will apply the mathematical calculation to every value and store the result `m` as an array of corresponding values."
   ]
  },
  {
   "cell_type": "code",
   "execution_count": 36,
   "metadata": {},
   "outputs": [
    {
     "name": "stdout",
     "output_type": "stream",
     "text": [
      "Body masses in kg:  [   1    5   10  100  500 1000]\n",
      "Brain masses in g:  [   8.5          28.42146296   47.79901264  268.79360111  898.76557392\n",
      " 1511.53749853]\n"
     ]
    }
   ],
   "source": [
    "M = np.array([1, 5, 10, 100, 500, 1000])\n",
    "m = 8.5*M**0.75\n",
    "print(\"Body masses in kg: \", M)\n",
    "print(\"Brain masses in g: \", m)"
   ]
  },
  {
   "cell_type": "markdown",
   "metadata": {},
   "source": [
    "Our `brain_mass(M)` function will still work even if `M` is an array of body masses. Let's try it using the same values as above. This time, instead of calculating `m` with an expression, we will call our `brain_mass` function, pass it the array of values of body masses, and it will return the corresponding array of brain masses."
   ]
  },
  {
   "cell_type": "code",
   "execution_count": 37,
   "metadata": {},
   "outputs": [
    {
     "name": "stdout",
     "output_type": "stream",
     "text": [
      "Body masses in kg:  [   1    5   10  100  500 1000]\n",
      "Brain masses in g:  [   8.5          28.42146296   47.79901264  268.79360111  898.76557392\n",
      " 1511.53749853]\n"
     ]
    }
   ],
   "source": [
    "M = np.array([1, 5, 10, 100, 500, 1000])\n",
    "m = brain_mass(M)\n",
    "print(\"Body masses in kg: \", M)\n",
    "print(\"Brain masses in g: \", m)"
   ]
  },
  {
   "cell_type": "markdown",
   "metadata": {},
   "source": [
    "Yay! It works!"
   ]
  },
  {
   "cell_type": "markdown",
   "metadata": {},
   "source": [
    "### Exercise\n",
    "\n",
    "In physics lab, an object hangs from a spring and oscillates up and down. It's height $h$ above the table in meters is described by\n",
    "\n",
    "$$h=0.05\\cos(\\pi t + 1.1)+0.1$$\n",
    "\n",
    "where $t$ is in seconds and the angle (the argument of the cosine function) is in radians.\n",
    "\n",
    "Create an array of values for time, with $t=0,\\ 0.1,\\ 0.2,\\ 0.3,\\ 0.4,\\ 0.5,\\ 0.6,\\ 0.7,\\ 0.8,\\ 0.9,\\ 1.0$. Use a python function to calculate and return the height of the object. Print both arrays."
   ]
  },
  {
   "cell_type": "code",
   "execution_count": null,
   "metadata": {},
   "outputs": [],
   "source": []
  },
  {
   "cell_type": "markdown",
   "metadata": {},
   "source": [
    "## Plotting a mathematical function\n",
    "\n",
    "A graph is a collection of points that represent the values of the dependent and independent variables. Now that we have arrays for the values of the dependent and independent variables, we can plot them. Once again, we will use the example of brain mass vs. body mass."
   ]
  },
  {
   "cell_type": "code",
   "execution_count": 38,
   "metadata": {},
   "outputs": [
    {
     "name": "stdout",
     "output_type": "stream",
     "text": [
      "Body masses in kg:  [   1    5   10  100  500 1000]\n",
      "Brain masses in g:  [   8.5          28.42146296   47.79901264  268.79360111  898.76557392\n",
      " 1511.53749853]\n"
     ]
    },
    {
     "data": {
      "image/png": "[encoded data removed]",
      "text/plain": [
       "<Figure size 432x288 with 1 Axes>"
      ]
     },
     "metadata": {
      "needs_background": "light"
     },
     "output_type": "display_data"
    }
   ],
   "source": [
    "# calculate\n",
    "M = np.array([1, 5, 10, 100, 500, 1000])\n",
    "m = brain_mass(M)\n",
    "print(\"Body masses in kg: \", M)\n",
    "print(\"Brain masses in g: \", m)\n",
    "\n",
    "# plot\n",
    "fig = plt.figure()\n",
    "plt.title('The Title')\n",
    "plt.xlabel('The x axis label')\n",
    "plt.ylabel('The y axis label')\n",
    "plt.plot(m, M, 'b.') #this specifies the data to plot in the format (horizontal, vertical)\n",
    "plt.show()"
   ]
  },
  {
   "cell_type": "markdown",
   "metadata": {},
   "source": [
    "### Exercise\n",
    "\n",
    "Edit the title and axis labels of the graph above. The axis labels should always include units and the title should always describe, in general, what is plotted."
   ]
  },
  {
   "cell_type": "markdown",
   "metadata": {},
   "source": [
    "### Exercise\n",
    "\n",
    "When the brightness $x$ of a light source is increased, the eye reacts by decreasing the radius $R$ of the pupil. The dependence of $R$ on $x$ is given by the function\n",
    "\n",
    "$$R(x) = \\sqrt{\\frac{13+7x^{0.4}}{1+4x^{0.4}}}$$\n",
    "\n",
    "where $R$ is measured in millimeters and $x$ is measured in appropriate units of brightness.\n",
    "\n",
    "Plot the radius of the pupil as $x$ changes from 10 to 100.\n"
   ]
  },
  {
   "cell_type": "code",
   "execution_count": null,
   "metadata": {},
   "outputs": [],
   "source": []
  },
  {
   "cell_type": "markdown",
   "metadata": {},
   "source": [
    "### Exercise\n",
    "\n",
    "In physics, a particle with mass can never travel faster than the speed of light. Why is this? \n",
    "\n",
    "The energy of a particle with mass $m$ and speed $v$ is\n",
    "\n",
    "$$E=\\gamma mc^2$$\n",
    "\n",
    "where\n",
    "\n",
    "$$\\gamma = \\frac{1}{\\sqrt{1-\\left(\\frac{v}{c}\\right)^2}}$$\n",
    "\n",
    "and $c = 3\\times 10^8$ m/s is the speed of light. Plot $\\gamma$ as a function of the ratio $v/c$ as for $v/c=0.1,\\ 0.2,\\ 0.3,\\ 0.4,\\ 0.5,\\ 0.6,\\ 0.7,\\ 0.8,\\ 0.9,\\ 0.95,\\ 0.99,\\ 0.999,\\ 0.9999,\\ 0.99999$. \n",
    "\n",
    "As the speed of an object gets closer to the speed of light (and $v/c$ gets closer to the value of 1), what does $\\gamma$ approach?"
   ]
  },
  {
   "cell_type": "code",
   "execution_count": null,
   "metadata": {},
   "outputs": [],
   "source": []
  },
  {
   "cell_type": "markdown",
   "metadata": {},
   "source": [
    "## Homework\n",
    "\n",
    "Search for an emperical model of a system in any area. It could be in science, social science, economics, finance, health, etc. The emperical model must be a mathematical function, and the dependent and independent variables must represent measurable quantities. In other words, the model must describe a real system.\n",
    "\n",
    "Describe the model with a brief narrative (like the examples above), and use LaTeX to format the mathematical function. On our web site there are:\n",
    "\n",
    "1. a tutorial with examples for formatting text in markdown.\n",
    "2. examples of LaTeX to format math.\n",
    "\n",
    "Your description and result should\n",
    "\n",
    "1. have links your sources.\n",
    "1. describe the model as a mathematical function, typeset correctly.\n",
    "1. define the dependent and independent variables.\n",
    "1. plot the function for a set of 10 - 20 values of the independent variable.\n",
    "\n"
   ]
  },
  {
   "cell_type": "code",
   "execution_count": null,
   "metadata": {},
   "outputs": [],
   "source": []
  }
 ],
 "metadata": {
  "kernelspec": {
   "display_name": "Python 3",
   "language": "python",
   "name": "python3"
  },
  "language_info": {
   "codemirror_mode": {
    "name": "ipython",
    "version": 3
   },
   "file_extension": ".py",
   "mimetype": "text/x-python",
   "name": "python",
   "nbconvert_exporter": "python",
   "pygments_lexer": "ipython3",
   "version": "3.8.3"
  }
 },
 "nbformat": 4,
 "nbformat_minor": 4
}
