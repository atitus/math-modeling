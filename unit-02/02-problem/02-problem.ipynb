{
 "cells": [
  {
   "cell_type": "code",
   "execution_count": 1,
   "metadata": {},
   "outputs": [],
   "source": [
    "import numpy as np #used for arrays and numerical functions\n",
    "import pandas as pd #used for reading a data file\n",
    "import matplotlib.pyplot as plt #used for graphing\n",
    "from io import StringIO #used to convert string to a dataframe\n",
    "from scipy.optimize import curve_fit #used to find the fit parameters"
   ]
  },
  {
   "cell_type": "markdown",
   "metadata": {},
   "source": [
    "# Emperical Modeling Assessment - Individual Part\n",
    "\n",
    "In this assignment, you will demonstrate the following skills:\n",
    "\n",
    "1. Plot a function and understand the effect of changing constants in the function.\n",
    "2. Do a linear fit to data.\n",
    "3. Choose an emperical model and find the best-fit parameters.\n",
    "4. Use an emperical model to make predictions."
   ]
  },
  {
   "cell_type": "markdown",
   "metadata": {},
   "source": [
    "## Part 1\n",
    "\n",
    "### Introduction (Context)\n",
    "\n",
    "In 2010, HPU alumna and honors student Nikki Sanford (who is now a patent attorney in Seattle, WA) did a project analyzing the motion of a hula hoop rotating around a person's arm. In order to repeat the experiment more systematically, she custom-built an apparatus using a drill and bicycle hub (tied to the ceiling with a flexible string to keep its orientation fixed). The apparatus is shown below.\n",
    "\n",
    "<img src=\"https://raw.githubusercontent.com/atitus/math-modeling/master/unit-02/02-problem/hula-hoop.jpg\" width=600>\n",
    "\n",
    "She got the hula hoop rotating around the hub and analyzed the $x$ position of a sticker on the hula hoop as a function of time. A frame of the video she analyzed is shown below.\n",
    "\n",
    "<img src=\"https://raw.githubusercontent.com/atitus/math-modeling/master/unit-02/02-problem/tracker.png\" width=600>\n",
    "\n",
    "Her graph of x-position vs. time shows a familiar beat pattern.\n",
    "\n",
    "<img src=\"https://raw.githubusercontent.com/atitus/math-modeling/master/unit-02/02-problem/hoop-beat-pattern.png\" width=600>\n",
    "\n",
    "This beat pattern is also encountered in acoustics when sound of two different frequencies interferes, so it gave Nikki a clue about the emperical model that would fit the data. (Later, she derived the model from theory and *explained* the beat pattern. Applying theory to explain the emperical model is always more significant than the emperical model itself.)\n"
   ]
  },
  {
   "cell_type": "markdown",
   "metadata": {},
   "source": [
    "### Part 1 Exercises\n",
    "\n",
    "Nikki's data can be described by this emperical model:\n",
    "\n",
    "$$y = A\\sin(Bx) + A\\sin(Cx)$$\n",
    "\n",
    "where $y$ is the x-position of the sticker and $t$ is time.\n",
    "\n",
    "1. In the cell below, plot the function $y(x)$ for a range of $0 \\le x \\le 20$, and play with the values of the constants $A$, $B$, and $C$ to see different kinds of graphs depending on their values."
   ]
  },
  {
   "cell_type": "code",
   "execution_count": null,
   "metadata": {},
   "outputs": [],
   "source": []
  },
  {
   "cell_type": "markdown",
   "metadata": {},
   "source": [
    "2. Adjust the parameters $A$, $B$, and $C$ until you get a pattern similar to this one. (Note: you do not have to find the parameters precisely. Just produce a pattern with similar features as this one. I'm just going to look at the overall pattern.)\n",
    "\n",
    "<img src=\"https://raw.githubusercontent.com/atitus/math-modeling/master/unit-02/02-problem/beat-function.png\" width=600>\n",
    "\n",
    "\n"
   ]
  },
  {
   "cell_type": "code",
   "execution_count": null,
   "metadata": {},
   "outputs": [],
   "source": []
  },
  {
   "cell_type": "markdown",
   "metadata": {},
   "source": [
    "3. What is the value of the constant $A$ for the graph shown above?"
   ]
  },
  {
   "cell_type": "code",
   "execution_count": null,
   "metadata": {},
   "outputs": [],
   "source": []
  },
  {
   "cell_type": "markdown",
   "metadata": {},
   "source": [
    "## Part 2\n",
    "\n",
    "### Introduction (Context)\n",
    "\n",
    "Older people generally have high blood pressure compared to younger people. In the cell below, there is a dataset for systolic blood pressure (in mm Hg) for people of various ages."
   ]
  },
  {
   "cell_type": "markdown",
   "metadata": {},
   "source": [
    "### Part 2 Exercises\n",
    "\n",
    "1. Do a linear curve fit to the data below and find the best-fit parameters."
   ]
  },
  {
   "cell_type": "code",
   "execution_count": null,
   "metadata": {},
   "outputs": [],
   "source": [
    "#define data\n",
    "#The columns are: Age (yrs)\t Systolic Blood Pressure (mm Hg)\n",
    "data = StringIO(\"\"\"x\ty\n",
    "39\t144\n",
    "45\t138\n",
    "47\t145\n",
    "65\t162\n",
    "46\t142\n",
    "67\t170\n",
    "42\t124\n",
    "67\t158\n",
    "56\t154\n",
    "64\t162\n",
    "56\t150\n",
    "59\t140\n",
    "34\t110\n",
    "42\t128\n",
    "48\t130\n",
    "45\t135\n",
    "17\t114\n",
    "20\t116\n",
    "19\t124\n",
    "36\t136\n",
    "50\t142\n",
    "39\t120\n",
    "21\t120\n",
    "44\t160\n",
    "53\t158\n",
    "63\t144\n",
    "29\t130\n",
    "25\t125\n",
    "69\t175\n",
    "\"\"\")"
   ]
  },
  {
   "cell_type": "markdown",
   "metadata": {},
   "source": [
    "2. Using your curve-fit, predict the blood pressure of a person at 90 years old."
   ]
  },
  {
   "cell_type": "code",
   "execution_count": null,
   "metadata": {},
   "outputs": [],
   "source": []
  },
  {
   "cell_type": "markdown",
   "metadata": {},
   "source": [
    "3. Based on this data set, how much will a person's blood pressure increase between the age of 30 and the age of 50?"
   ]
  },
  {
   "cell_type": "code",
   "execution_count": null,
   "metadata": {},
   "outputs": [],
   "source": []
  },
  {
   "cell_type": "markdown",
   "metadata": {},
   "source": [
    "4. What is a limitation with this dataset and why should we not make any general conclusions (or general health recommendations) based on this dataset? There are many limitations. For the sake of time, describe only one limitation."
   ]
  },
  {
   "cell_type": "code",
   "execution_count": null,
   "metadata": {},
   "outputs": [],
   "source": []
  },
  {
   "cell_type": "markdown",
   "metadata": {},
   "source": [
    "## Part 3\n",
    "\n",
    "### Introduction (Context)\n",
    "\n",
    "In Earth's atmosphere, a horizontal circular \"disk\" of air has to support the weight of the column of air above it. As a result, near Earth's surface the air pressure is greater than the air pressure at higher alitudes because near Earth, it has to support the weight of a much taller column. As a result, air pressure decreases with altitude.\n",
    "\n",
    "For similar reasons, as you go deeper in water, the water pressure increases. But air is also compressible. Thus, near Earth, supporting a tall column of air causes the air to compress and become more dense. At higher altitudes the air pressure is less so the air compresses less and is less dense. This variation in air density also contributes to a decreasing air pressure. As a result, the air pressure decreases non-linearly.\n",
    "\n",
    "HPU alumnus Zach Hutchens (who is currently a PhD student in astrophysics at UNC) built a high-altitude balloon in which he counted muons in the Earth's atmosphere that result from cosmic rays interacting with the atmosphere. Along the way, he measured the air pressure as a function of the altitude of the balloon."
   ]
  },
  {
   "cell_type": "markdown",
   "metadata": {},
   "source": [
    "### Part 3 Exercises\n",
    "\n",
    "In the cell below, I import the data and populate the arrays `xarray` and `yarray` which contain data for altitude (in meters) and air pressure (in pascals), respectively.\n",
    "\n",
    "1. Add code to plot the air pressure as a function of altitude and look at the graph. Based on your experience in our course, what function (emperical model) do you think might fit this data?"
   ]
  },
  {
   "cell_type": "code",
   "execution_count": 1,
   "metadata": {},
   "outputs": [
    {
     "ename": "NameError",
     "evalue": "name 'pd' is not defined",
     "output_type": "error",
     "traceback": [
      "\u001b[0;31m---------------------------------------------------------------------------\u001b[0m",
      "\u001b[0;31mNameError\u001b[0m                                 Traceback (most recent call last)",
      "\u001b[0;32m<ipython-input-1-cbd35eb55a59>\u001b[0m in \u001b[0;36m<module>\u001b[0;34m\u001b[0m\n\u001b[1;32m      1\u001b[0m \u001b[0;31m# Read the data file. The result is a dataframe object, which is named df in this case.\u001b[0m\u001b[0;34m\u001b[0m\u001b[0;34m\u001b[0m\u001b[0;34m\u001b[0m\u001b[0m\n\u001b[0;32m----> 2\u001b[0;31m \u001b[0mdf\u001b[0m \u001b[0;34m=\u001b[0m \u001b[0mpd\u001b[0m\u001b[0;34m.\u001b[0m\u001b[0mread_csv\u001b[0m\u001b[0;34m(\u001b[0m\u001b[0;34m'https://raw.githubusercontent.com/atitus/math-modeling/master/unit-02/02-problem/air-pressure-data.txt'\u001b[0m\u001b[0;34m,\u001b[0m \u001b[0msep\u001b[0m\u001b[0;34m=\u001b[0m\u001b[0;34m'\\t'\u001b[0m\u001b[0;34m)\u001b[0m\u001b[0;34m\u001b[0m\u001b[0;34m\u001b[0m\u001b[0m\n\u001b[0m\u001b[1;32m      3\u001b[0m \u001b[0mprint\u001b[0m\u001b[0;34m(\u001b[0m\u001b[0mdf\u001b[0m\u001b[0;34m.\u001b[0m\u001b[0mhead\u001b[0m\u001b[0;34m(\u001b[0m\u001b[0;34m)\u001b[0m\u001b[0;34m)\u001b[0m\u001b[0;34m\u001b[0m\u001b[0;34m\u001b[0m\u001b[0m\n\u001b[1;32m      4\u001b[0m \u001b[0;34m\u001b[0m\u001b[0m\n\u001b[1;32m      5\u001b[0m \u001b[0;31m#assign variable names to columns\u001b[0m\u001b[0;34m\u001b[0m\u001b[0;34m\u001b[0m\u001b[0;34m\u001b[0m\u001b[0m\n",
      "\u001b[0;31mNameError\u001b[0m: name 'pd' is not defined"
     ]
    }
   ],
   "source": [
    "# Read the data file. The result is a dataframe object, which is named df in this case.\n",
    "df = pd.read_csv('https://raw.githubusercontent.com/atitus/math-modeling/master/unit-02/02-problem/air-pressure-data.txt', sep='\\t')\n",
    "print(df.head())\n",
    "\n",
    "#assign variable names to columns\n",
    "xdata = df['Altitude (m)']\n",
    "ydata = df['Pressure (Pa)']"
   ]
  },
  {
   "cell_type": "markdown",
   "metadata": {},
   "source": [
    "2. Fit your emperical model to the data, and find the best-fit parameters."
   ]
  },
  {
   "cell_type": "code",
   "execution_count": null,
   "metadata": {},
   "outputs": [],
   "source": []
  },
  {
   "cell_type": "markdown",
   "metadata": {},
   "source": [
    "3. What is the air pressure at zero altitude?"
   ]
  },
  {
   "cell_type": "code",
   "execution_count": null,
   "metadata": {},
   "outputs": [],
   "source": []
  },
  {
   "cell_type": "markdown",
   "metadata": {},
   "source": [
    "4. The [Kármán line](https://en.wikipedia.org/wiki/K%C3%A1rm%C3%A1n_line) is the altitude at which the air density is too low to exert lift on an aircraft greater than the aircraft's weight. Thus, at this altitude, an aircraft might be considered a spacecraft in orbit. Theodore von Kármán calculated this altitude to be 84 km and used this as an *operational definition* of where space begins. According to your model, what is the air pressure at the Kármán line?"
   ]
  },
  {
   "cell_type": "code",
   "execution_count": null,
   "metadata": {},
   "outputs": [],
   "source": []
  }
 ],
 "metadata": {
  "kernelspec": {
   "display_name": "Python 3",
   "language": "python",
   "name": "python3"
  },
  "language_info": {
   "codemirror_mode": {
    "name": "ipython",
    "version": 3
   },
   "file_extension": ".py",
   "mimetype": "text/x-python",
   "name": "python",
   "nbconvert_exporter": "python",
   "pygments_lexer": "ipython3",
   "version": "3.8.3"
  }
 },
 "nbformat": 4,
 "nbformat_minor": 4
}
