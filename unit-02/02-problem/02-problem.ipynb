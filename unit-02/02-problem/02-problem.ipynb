{
 "cells": [
  {
   "cell_type": "code",
   "execution_count": 1,
   "metadata": {},
   "outputs": [],
   "source": [
    "import numpy as np #used for arrays and numerical functions\n",
    "import pandas as pd #used for reading a data file\n",
    "import matplotlib.pyplot as plt #used for graphing\n",
    "from io import StringIO #used to convert string to a dataframe\n",
    "from scipy.optimize import curve_fit #used to find the fit parameters"
   ]
  },
  {
   "cell_type": "markdown",
   "metadata": {},
   "source": [
    "# Emperical Modeling Assessment\n",
    "\n",
    "In this assignment, you will demonstrate the following skills:\n",
    "\n",
    "1. Plot a function and understand the effect of changing constants in the function.\n",
    "2. Do a linear fit to data.\n",
    "3. Find the best-fit parameters for an emperical model.\n",
    "4. Use an emperical model to make predictions and solve problems."
   ]
  },
  {
   "cell_type": "markdown",
   "metadata": {},
   "source": [
    "## Part 1\n",
    "\n",
    "## Introduction (Context)\n",
    "\n",
    "In 2010, HPU alumna and honors student Nikki Sanford (who is now a patent attorney in Seattle, WA) did a project analyzing the motion of a hula hoop rotating around a person's arm. To repeat the experiment more carefully, she custom-built an apparatus using a drill and bicycle hub (tied to the ceiling with a flexible string to keep its orientation fixed). The apparatus is shown below.\n",
    "\n",
    "<img src=\"hula-hoop.jpg\" width=600>\n",
    "\n",
    "She got the hula hoop rotating around the hub and analyzed the $x$ position of a sticker on the hula hoop as a function of time. A frame of the video she analyzed is shown below.\n",
    "\n",
    "<img src=\"tracker.png\" width=600>\n",
    "\n",
    "Her graph of x-position vs. time shows a familiar beat pattern.\n",
    "\n",
    "<img src=\"beat-pattern.png\" width=800>\n",
    "\n",
    "This beat pattern is encountered in acoustics when sound of two different frequencies interferes.\n",
    "\n",
    "## Exercise\n",
    "\n",
    "1. \n"
   ]
  },
  {
   "cell_type": "code",
   "execution_count": null,
   "metadata": {},
   "outputs": [],
   "source": []
  }
 ],
 "metadata": {
  "kernelspec": {
   "display_name": "Python 3",
   "language": "python",
   "name": "python3"
  },
  "language_info": {
   "codemirror_mode": {
    "name": "ipython",
    "version": 3
   },
   "file_extension": ".py",
   "mimetype": "text/x-python",
   "name": "python",
   "nbconvert_exporter": "python",
   "pygments_lexer": "ipython3",
   "version": "3.8.3"
  }
 },
 "nbformat": 4,
 "nbformat_minor": 4
}
