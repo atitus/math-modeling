{
 "cells": [
  {
   "cell_type": "markdown",
   "metadata": {},
   "source": [
    "# Emperical Modeling Assessment - Group Part\n",
    "\n",
    "In this assignment, you will demonstrate the following skills:\n",
    "\n",
    "1. Work with someone else to accomplish a task.\n",
    "2. Find a source of data that might be of interest and which you can use for emperical modeling.\n",
    "3. Determine an emperical model for a set of data and find the best-fit parameters."
   ]
  },
  {
   "cell_type": "markdown",
   "metadata": {},
   "source": [
    "## Part 1\n",
    "\n",
    "Give the names of the people working on this problem (your name and your partner's name)."
   ]
  },
  {
   "cell_type": "code",
   "execution_count": null,
   "metadata": {},
   "outputs": [],
   "source": []
  },
  {
   "cell_type": "markdown",
   "metadata": {},
   "source": [
    "## Part 2\n",
    "\n",
    "Find a set of data that shows a *non-linear* relationship between variables. Do not choose data that include categorical variables.\n",
    "\n",
    "Here are a few sites that might have data of interest, but you can find your own.\n",
    "\n",
    "- [Quantitative Environmental Learning Project](https://seattlecentral.edu/qelp/Data.html)\n",
    "- [The Physics Hypertextbook](https://physics.info/curve-fitting/resources.shtml)\n",
    "- [UCI Machine Learning Function Finding Dataset](https://archive.ics.uci.edu/ml/datasets/Function+Finding): This site has data from historical experiments in chemistry and physics like expoeriments by Boyle (Boyle's Law) and Ohm (Ohm's Law), for example.\n",
    "\n",
    "You are welcomed to use data you've collected from a science class or research experience. You are also welcomed to ask professors or other students for datasets. You can obtain data from any source. The main thing is to understand what the data means and to cite the source for the data.\n",
    "\n",
    "Describe your data and cite the source."
   ]
  },
  {
   "cell_type": "code",
   "execution_count": null,
   "metadata": {},
   "outputs": [],
   "source": []
  },
  {
   "cell_type": "markdown",
   "metadata": {},
   "source": [
    "## Part 3\n",
    "\n",
    "1. Describe the model and write it mathematically in Markdown. (For help with LaTeX see equations I've written in past notebooks. Also, you can use the LaTeX and Markdown help on our course web site.)\n",
    "\n",
    "2. Determine an emperical model for the data and find the best-fit parameters. "
   ]
  },
  {
   "cell_type": "code",
   "execution_count": null,
   "metadata": {},
   "outputs": [],
   "source": []
  }
 ],
 "metadata": {
  "kernelspec": {
   "display_name": "Python 3",
   "language": "python",
   "name": "python3"
  },
  "language_info": {
   "codemirror_mode": {
    "name": "ipython",
    "version": 3
   },
   "file_extension": ".py",
   "mimetype": "text/x-python",
   "name": "python",
   "nbconvert_exporter": "python",
   "pygments_lexer": "ipython3",
   "version": "3.8.3"
  }
 },
 "nbformat": 4,
 "nbformat_minor": 4
}
