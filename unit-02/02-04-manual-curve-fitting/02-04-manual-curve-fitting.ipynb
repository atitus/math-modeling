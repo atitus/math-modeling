{
 "cells": [
  {
   "cell_type": "markdown",
   "metadata": {},
   "source": [
    "# Manual Curve Fitting"
   ]
  },
  {
   "cell_type": "markdown",
   "metadata": {},
   "source": [
    "Data may be described by a *mathematical function*. Finding the best-fit function and *parameters* for a set of data is called *curve fitting*. In general, using a function generated from curve fitting in order to describe some process, whether it is physical, biological, social, economical, etc., is called *emperical modeling.* The mathematical function found for the best-fit curve is often called the **mathematical model** or **emperical model**.\n",
    "\n",
    "Shiflet and Shiflet, in *Introduction to Computational Science*, say, \"An emperical model is based only on data and is used to predict, not explain a system. An emperical model consists of a function that captures the trend of the data.\" (Boldfaced font is included in the quote.)"
   ]
  },
  {
   "cell_type": "markdown",
   "metadata": {},
   "source": [
    "Before we start, import the necessary packages."
   ]
  },
  {
   "cell_type": "code",
   "execution_count": 1,
   "metadata": {},
   "outputs": [],
   "source": [
    "import numpy as np #used for arrays and numerical functions\n",
    "import pandas as pd #used for reading a data file\n",
    "import matplotlib.pyplot as plt #used for graphing\n",
    "from io import StringIO #used to convert string to a dataframe"
   ]
  },
  {
   "cell_type": "markdown",
   "metadata": {},
   "source": [
    "# Fitting data manually\n",
    "\n",
    "## Linear Curve Fit"
   ]
  },
  {
   "cell_type": "markdown",
   "metadata": {},
   "source": [
    "The most common function to fit to a set of data is a straight line. This is called a *linear* function or a *linear curve fit*. Since your first algebra class, you have probably written this mathematical function in the form:\n",
    "\n",
    "$y = mx + b$\n",
    "\n",
    "where $m$ is the slope and $b$ is the intercept. I will call this our *emperical model* or just *model* for short.\n",
    "\n",
    "## Example: Beer's Law\n",
    "\n",
    "Chemists use Beer's Law to measure concentration of a solution based on its absorbance of light. (Read [this brief tutorial](http://www.chem.ucla.edu/~harding/IGOC/B/beers_law.html) that includes photos as a demonstration of the principle.) \n",
    "\n",
    "In the cell below, there is data from an introductory chemistry lab at HPU. In this lab, students dissolve grape Kool-Aid in water with varying amounts (concentrations) of grape-flavored powder. Then, they use their plot to find the concentration of an unknown mixture of Kool-Air. (The data was provided by Dr. Pam Knippenburg, HPU Department of Chemistry. Students in the introductory chemistry lab mix different concentrations of grape Kool-Aid and measure the absorbance of light by the Kool-Aid.)\n",
    "\n",
    "Although not from this experiment, here is a picture that shows what the solutions might look like for red Kool-Aid. ([Image source](https://www.sciencebuddies.org/science-fair-projects/project-ideas/Chem_p106/chemistry/kool-aid-dye-adsorption#procedure))\n",
    "\n",
    "![](https://github.com/atitus/math-modeling/raw/master/unit-02/02-04-manual-curve-fitting/red-kool-aid.jpg)\n",
    "\n",
    "In the cell below we:\n",
    "\n",
    "1. define the data (I copied and pasted from a spreadsheet).\n",
    "1. define arrays for the independent variable and dependent variable called `xdata` and `ydata`, respectively.\n",
    "1. define the fit parameters `m` and `b` and define an array of x files for our best-fit line, called `xmodel`.\n",
    "1. calculate the corresponding `ymodel` values using our emperical model (i.e. the math function).\n",
    "1. plot the absorbance (in arbitrary units) vs. concentration in grams per liter.\n",
    "1. on the same graph, plot the points from our emperical model."
   ]
  },
  {
   "cell_type": "code",
   "execution_count": 9,
   "metadata": {},
   "outputs": [
    {
     "name": "stdout",
     "output_type": "stream",
     "text": [
      "        x      y\n",
      "0  0.2077  0.079\n",
      "1  0.4154  0.164\n",
      "2  1.0385  0.418\n",
      "3  2.0770  0.827\n",
      "4  4.1540  1.403\n"
     ]
    },
    {
     "data": {
      "image/png": "[encoded data removed]",
      "text/plain": [
       "<Figure size 576x432 with 1 Axes>"
      ]
     },
     "metadata": {
      "needs_background": "light"
     },
     "output_type": "display_data"
    }
   ],
   "source": [
    "# define data\n",
    "#The columns are: concentration (g/L)\tabsorbance (arb)\n",
    "data = StringIO(\"\"\"x\ty\n",
    "0.2077\t0.079\n",
    "0.4154\t0.164\n",
    "1.0385\t0.418\n",
    "2.077\t0.827\n",
    "4.154\t1.403\n",
    "\"\"\") \n",
    "\n",
    "# convert data to dataframe\n",
    "df = pd.read_csv(data, sep =\"\\t\")\n",
    "print(df.head())\n",
    "\n",
    "# define arrays for the data\n",
    "xdata = df['x']\n",
    "ydata = df['y']\n",
    "\n",
    "# define fit parameters, create x points for the model, and calculate y points for the model\n",
    "m = 1\n",
    "b = 1\n",
    "xmodel = np.linspace(0,5,100) # independent variable used for drawing a best-fit curve\n",
    "ymodel = m*xmodel + b # dependent variable used for drawing a best-fit curve\n",
    "\n",
    "# plot data and the best-fit function on the same graph\n",
    "fig = plt.figure(figsize=(8,6))\n",
    "plt.title(\"absorbance vs concentration\")\n",
    "plt.xlabel('concentration (g/L)')\n",
    "plt.ylabel('absorbance (arb)')\n",
    "plt.grid(which='both', axis='both')\n",
    "plt.plot(xdata, ydata, 'bo') #plot data\n",
    "plt.plot(xmodel, ymodel, 'r-') #plot emperical model\n",
    "plt.show()\n"
   ]
  },
  {
   "cell_type": "markdown",
   "metadata": {},
   "source": [
    "### Exercise - Adjusting Parameters Manually\n",
    "\n",
    "In the program above, look for the variables `m` and `b`. Adjust the values of these variables until the line fits the data as closely as possible. What did you find for the best-fit values of the slope and intercept?"
   ]
  },
  {
   "cell_type": "markdown",
   "metadata": {},
   "source": [
    "### Exercise - Adjusting the Range for the Emperical Model\n",
    "\n",
    "The `x` values in `xmodel` are from 0 to 5. Adjust the limits of the `linspace()` function so `xmodel` has a similar range as the data itself."
   ]
  },
  {
   "cell_type": "markdown",
   "metadata": {},
   "source": [
    "## Exercise - Position vs. Time\n",
    "\n",
    "In this experiment, a ball rolls on a track with constant velocity.\n",
    "\n",
    "![](https://github.com/atitus/math-modeling/raw/master/unit-02/02-04-manual-curve-fitting/uniform-motion-ball-fast-main.gif)\n",
    "\n",
    "The x-position of the ball is measured at the times indicated by red markers in the animated gif. The data for x-position and time are below. Add additional code to plot both the data and a linear model. Find the coefficients for the best-fit."
   ]
  },
  {
   "cell_type": "code",
   "execution_count": null,
   "metadata": {},
   "outputs": [],
   "source": [
    "# define data\n",
    "#The columns are: time (s)\tx-position (m)\n",
    "data = StringIO(\"\"\"x\ty\n",
    "0\t-0.803\n",
    "0.334\t-0.629\n",
    "0.667\t-0.454\n",
    "1.001\t-0.273\n",
    "1.335\t-0.102\n",
    "1.668\t0.072\n",
    "2.002\t0.25\n",
    "2.336\t0.432\n",
    "2.669\t0.603\n",
    "3.003\t0.77\n",
    "3.337\t0.941\n",
    "\"\"\")\n"
   ]
  },
  {
   "cell_type": "markdown",
   "metadata": {},
   "source": [
    "## Exercise - Brain Weight vs. Body Weight\n",
    "\n",
    "Here is data for brain weight (in pounds) vs. body weight (in pounds) for mammals. Find the best-fit parameters for a linear emperical model. Why is this more challenging than for the previous exercises?"
   ]
  },
  {
   "cell_type": "code",
   "execution_count": null,
   "metadata": {},
   "outputs": [],
   "source": [
    "# define data\n",
    "#The columns are: Body Mass (kg)\tBrain Mass (g)\n",
    "data = StringIO(\"\"\"x\ty\n",
    "3.385\t44.5\n",
    "0.48\t15.5\n",
    "1.35\t8.1\n",
    "465\t423\n",
    "36.33\t119.5\n",
    "27.66\t115\n",
    "14.83\t98.2\n",
    "1.04\t5.5\n",
    "4.19\t58\n",
    "0.425\t6.4\n",
    "0.101\t4\n",
    "0.92\t5.7\n",
    "1\t6.6\n",
    "0.005\t0.14\n",
    "0.06\t1\n",
    "3.5\t10.8\n",
    "2\t12.3\n",
    "1.7\t6.3\n",
    "2547\t4603\n",
    "0.023\t0.3\n",
    "187.1\t419\n",
    "521\t655\n",
    "0.785\t3.5\n",
    "10\t115\n",
    "3.3\t25.6\n",
    "0.2\t5\n",
    "1.41\t17.5\n",
    "529\t680\n",
    "207\t406\n",
    "85\t325\n",
    "0.75\t12.3\n",
    "62\t1320\n",
    "6654\t5712\n",
    "3.5\t3.9\n",
    "6.8\t179\n",
    "35\t56\n",
    "4.05\t17\n",
    "0.12\t1\n",
    "0.023\t0.4\n",
    "0.01\t0.25\n",
    "1.4\t12.5\n",
    "250\t490\n",
    "2.5\t12.1\n",
    "55.5\t175\n",
    "100\t157\n",
    "52.16\t440\n",
    "10.55\t179.5\n",
    "0.55\t2.4\n",
    "60\t81\n",
    "3.6\t21\n",
    "4.288\t39.2\n",
    "0.28\t1.9\n",
    "0.075\t1.2\n",
    "0.122\t3\n",
    "0.048\t0.33\n",
    "192\t180\n",
    "3\t25\n",
    "160\t169\n",
    "0.9\t2.6\n",
    "1.62\t11.4\n",
    "0.104\t2.5\n",
    "4.235\t50.4\n",
    "\"\"\")\n"
   ]
  },
  {
   "cell_type": "markdown",
   "metadata": {},
   "source": [
    "## Finding the best value of fit parameters\n",
    "\n",
    "The difference between the *predicted* y value of the model and the *actual* y value of the measured data is called the *residual*. For the best values of the fit parameters, the data will be closest to the best-fit curve and the absolute value of the *residuals* will be a minimum. For theoretical reasons, it is the squares of the *residuals* that is minimized.\n",
    "\n",
    "The program below plots the brain mass vs. body mass of mammals. The last part:\n",
    "\n",
    "```python\n",
    "# calculate sum of residuals\n",
    "ypredicted = m*xdata + b\n",
    "residuals = ypredicted - ydata\n",
    "sum_of_residuals_squared = sum(residuals**2)\n",
    "print(\"The sum of the squares of the residuals is {:4e}.\".format(sum_of_residuals_squared))\n",
    "```\n",
    "calculates and prints the sum of the squares of the residuals."
   ]
  },
  {
   "cell_type": "code",
   "execution_count": 10,
   "metadata": {},
   "outputs": [
    {
     "name": "stdout",
     "output_type": "stream",
     "text": [
      "       x        y\n",
      "0   44.5    3.385\n",
      "1   15.5    0.480\n",
      "2    8.1    1.350\n",
      "3  423.0  465.000\n",
      "4  119.5   36.330\n"
     ]
    },
    {
     "data": {
      "image/png": "[encoded data removed]",
      "text/plain": [
       "<Figure size 576x432 with 1 Axes>"
      ]
     },
     "metadata": {
      "needs_background": "light"
     },
     "output_type": "display_data"
    },
    {
     "name": "stdout",
     "output_type": "stream",
     "text": [
      "The sum of the squares of the residuals is 4.211430e+07.\n"
     ]
    }
   ],
   "source": [
    "# define data\n",
    "#The columns are: Body Mass (kg)\tBrain Mass (g)\n",
    "data = StringIO(\"\"\"x\ty\n",
    "3.385\t44.5\n",
    "0.48\t15.5\n",
    "1.35\t8.1\n",
    "465\t423\n",
    "36.33\t119.5\n",
    "27.66\t115\n",
    "14.83\t98.2\n",
    "1.04\t5.5\n",
    "4.19\t58\n",
    "0.425\t6.4\n",
    "0.101\t4\n",
    "0.92\t5.7\n",
    "1\t6.6\n",
    "0.005\t0.14\n",
    "0.06\t1\n",
    "3.5\t10.8\n",
    "2\t12.3\n",
    "1.7\t6.3\n",
    "2547\t4603\n",
    "0.023\t0.3\n",
    "187.1\t419\n",
    "521\t655\n",
    "0.785\t3.5\n",
    "10\t115\n",
    "3.3\t25.6\n",
    "0.2\t5\n",
    "1.41\t17.5\n",
    "529\t680\n",
    "207\t406\n",
    "85\t325\n",
    "0.75\t12.3\n",
    "62\t1320\n",
    "6654\t5712\n",
    "3.5\t3.9\n",
    "6.8\t179\n",
    "35\t56\n",
    "4.05\t17\n",
    "0.12\t1\n",
    "0.023\t0.4\n",
    "0.01\t0.25\n",
    "1.4\t12.5\n",
    "250\t490\n",
    "2.5\t12.1\n",
    "55.5\t175\n",
    "100\t157\n",
    "52.16\t440\n",
    "10.55\t179.5\n",
    "0.55\t2.4\n",
    "60\t81\n",
    "3.6\t21\n",
    "4.288\t39.2\n",
    "0.28\t1.9\n",
    "0.075\t1.2\n",
    "0.122\t3\n",
    "0.048\t0.33\n",
    "192\t180\n",
    "3\t25\n",
    "160\t169\n",
    "0.9\t2.6\n",
    "1.62\t11.4\n",
    "0.104\t2.5\n",
    "4.235\t50.4\n",
    "\"\"\")\n",
    "\n",
    "# convert data to dataframe\n",
    "df = pd.read_csv(data, sep =\"\\t\")\n",
    "print(df.head())\n",
    "\n",
    "# define arrays for the data\n",
    "xdata = df['x']\n",
    "ydata = df['y']\n",
    "\n",
    "# define constants and create points for a linear function\n",
    "# m and b are initial guesses\n",
    "m = 0.1\n",
    "b = 0\n",
    "xmodel = np.linspace(0,6000,10000) # independent variable used for drawing a best-fit curve\n",
    "ymodel = m*xmodel + b # dependent variable used for drawing a best-fit curve\n",
    "\n",
    "# plot data and the best-fit function on the same graph\n",
    "fig = plt.figure(figsize=(8,6))\n",
    "plt.title(\"y vs. x\")\n",
    "plt.xlabel('x')\n",
    "plt.ylabel('y')\n",
    "plt.grid(which='both', axis='both')\n",
    "plt.plot(xdata, ydata, 'b.') #plot data\n",
    "plt.plot(xmodel, ymodel, 'r-') #plot emperical model\n",
    "plt.show()\n",
    "\n",
    "# calculate sum of residuals\n",
    "ypredicted = m*xdata + b #use model to calculate predicted values of y\n",
    "residuals = ypredicted - ydata\n",
    "sum_of_residuals_squared = sum(residuals**2)\n",
    "print(\"The sum of the squares of the residuals is {:4e}.\".format(sum_of_residuals_squared))"
   ]
  },
  {
   "cell_type": "markdown",
   "metadata": {},
   "source": [
    "### Exercise\n",
    "\n",
    "In the program above, change the value of `m` and continue changing it until you *minimize* the sum of the squares of the residuals. Find the best-fit value of `m` to three decimal places."
   ]
  },
  {
   "cell_type": "markdown",
   "metadata": {},
   "source": [
    "## Exponential Curve Fit\n",
    "\n",
    "Another common emperical model is an exponential: \n",
    "\n",
    "$$y = Ae^{rx}$$\n",
    "\n",
    "where $x$ is the independent variable and $y$ is the dependent variable. The fit parameters are $A$ and $r$ where $A$ is the value of $y$ at $x=0$ and $r$ is the rate of growth (if positive) or rate of decay (if negative).\n",
    "\n",
    "Let's begin by playing with the parameters to see how they affect the function."
   ]
  },
  {
   "cell_type": "code",
   "execution_count": null,
   "metadata": {},
   "outputs": [],
   "source": [
    "# define constants and create points for a linear function\n",
    "# m and b are initial guesses\n",
    "A = 1\n",
    "r = 0.1\n",
    "xmodel = np.linspace(0,40,1000) # independent variable used for drawing a best-fit curve\n",
    "ymodel = A*np.exp(r*xmodel) # dependent variable used for drawing a best-fit curve\n",
    "\n",
    "# plot data and the best-fit function on the same graph\n",
    "fig = plt.figure(figsize=(8,6))\n",
    "plt.title(\"y vs. x\")\n",
    "plt.xlabel('x')\n",
    "plt.ylabel('y')\n",
    "plt.grid(which='both', axis='both')\n",
    "plt.plot(xmodel, ymodel, 'r-') #plot emperical model\n",
    "plt.show()"
   ]
  },
  {
   "cell_type": "markdown",
   "metadata": {},
   "source": [
    "### Exercise - Adjust parameters\n",
    "\n",
    "1. If `A=0` in the previous program, how does this affect the function?\n",
    "2. Set `A` back to 1, and change `r`. Try increasing `r` to 0.5. Try changing it to a negative value (-0.1 and -0.5). How does the absolute value of `r` and its sign affect the exponential curve?"
   ]
  },
  {
   "cell_type": "markdown",
   "metadata": {},
   "source": [
    "### Example - Discharging Capacitor\n",
    "\n",
    "Here's an example of a circuit with a discharging capacitor. \n",
    "\n",
    "https://youtu.be/Gg9yTs9tzmk\n",
    "\n",
    "In the cell below, the voltage across the capacitor is plotted as a function of time.\n"
   ]
  },
  {
   "cell_type": "code",
   "execution_count": 80,
   "metadata": {},
   "outputs": [
    {
     "data": {
      "image/png": "[encoded data removed]",
      "text/plain": [
       "<Figure size 576x432 with 1 Axes>"
      ]
     },
     "metadata": {
      "needs_background": "light"
     },
     "output_type": "display_data"
    }
   ],
   "source": [
    "# define data\n",
    "#The columns are: t (min)\tV (volt)\n",
    "data = StringIO(\"\"\"x\ty\n",
    "0\t2.99\n",
    "0.17\t2.32\n",
    "0.33\t1.86\n",
    "0.50\t1.64\n",
    "0.67\t1.23\n",
    "0.83\t1.11\n",
    "1.00\t0.86\n",
    "1.17\t0.75\n",
    "1.33\t0.61\n",
    "1.50\t0.49\n",
    "1.67\t0.39\n",
    "1.83\t0.31\n",
    "2.00\t0.29\n",
    "2.17\t0.23\n",
    "2.33\t0.19\n",
    "\"\"\")\n",
    "\n",
    "# convert data to dataframe\n",
    "df = pd.read_csv(data, sep =\"\\t\")\n",
    "#print(df.head())\n",
    "\n",
    "# define arrays for the data\n",
    "xdata = df['x']\n",
    "ydata = df['y']\n",
    "\n",
    "# plot data and the best-fit function on the same graph\n",
    "fig = plt.figure(figsize=(8,6))\n",
    "plt.title(\"y vs. x\")\n",
    "plt.xlabel('x')\n",
    "plt.ylabel('y')\n",
    "plt.grid(which='both', axis='both')\n",
    "plt.plot(xdata, ydata, 'b.') #plot data\n",
    "plt.show()"
   ]
  },
  {
   "cell_type": "markdown",
   "metadata": {},
   "source": [
    "### Exercise - Fit an exponential model to the data for the discharging capacitor\n",
    "\n",
    "Add or edit the code in the program above to:\n",
    "\n",
    "1. propertly title and label the graph.\n",
    "2. calculate x and y values for the model.\n",
    "3. plot the x and y values for the model.\n",
    "4. calculate the print the residuals.\n",
    "5. adjust the parameters `A` and `r` in the model and find the best-fit values for the parameters.\n",
    "\n"
   ]
  },
  {
   "cell_type": "markdown",
   "metadata": {},
   "source": [
    "### Exercise - COVID cases at HPU\n",
    "\n",
    "Here is data for the total number of COVID cases reported on each day since Aug. 21. We will define Aug. 21 as day 0.\n",
    "\n",
    "Fit and plot an exponential model to the data. Use your model to answer the following questions:\n",
    "\n",
    "1. What are the best-fit parameters?\n",
    "2. What does your model predict for the number of COVID cases at HPU on Friday (5 days from the last data point)?\n",
    "3. How many days from now (and on what date) will the number of cases be 20% of the student population? (The population is approximately 5,000 students.)"
   ]
  },
  {
   "cell_type": "code",
   "execution_count": null,
   "metadata": {},
   "outputs": [],
   "source": [
    "\n",
    "#define data\n",
    "#The columns are: Day\tTotal Cases\n",
    "data = StringIO(\"\"\"x\ty\n",
    "0\t4\n",
    "1\t4\n",
    "2\t4\n",
    "3\t5\n",
    "4\t7\n",
    "5\t9\n",
    "6\t11\n",
    "7\t13\n",
    "8\t13\n",
    "9\t13\n",
    "10\t21\n",
    "11\t35\n",
    "12\t40\n",
    "13\t56\n",
    "14\t89\n",
    "15\t89\n",
    "16\t130\n",
    "17\t145\n",
    "18\t153\n",
    "\"\"\")"
   ]
  },
  {
   "cell_type": "markdown",
   "metadata": {},
   "source": [
    "## Power Law\n",
    "\n",
    "A general power law is\n",
    "\n",
    "$$y=Ax^n$$\n",
    "\n",
    "where $A$ and $n$ are fit parameters. Often $n$ is an integer (like 1, 2, 3, ...) or 1 over an integer (like 1/2, 1/3, etc.). The exponent $n$ can also be negative (like -1, -2,... or -1/2, -1/3, ...). The [Physics Hypertextbook](https://physics.info/curve-fitting/) has a nice overview of curve fitting."
   ]
  },
  {
   "cell_type": "markdown",
   "metadata": {},
   "source": [
    "### Exercise - NIST data\n",
    "\n",
    "The [NIST DanWood data set](http://www.itl.nist.gov/div898/strd/nls/data/daniel_wood.shtml) is for the energy radiated by a carbon filament per square centimeter per second as a function of temperature in kelvins. Fit a power law function and find the best-fit parameters $A$ and $n$."
   ]
  },
  {
   "cell_type": "code",
   "execution_count": 75,
   "metadata": {},
   "outputs": [],
   "source": [
    "\n",
    "#define data\n",
    "#The columns are: Day\tTotal Cases\n",
    "data = StringIO(\"\"\"Temperature (K)\tEnergy radiated from carbon lamp (J/cm^2/s)\n",
    "1.309\t2.138\n",
    "1.471\t3.421\n",
    "1.49\t3.597\n",
    "1.565\t4.34\n",
    "1.611\t4.882\n",
    "1.68\t5.66\n",
    "\"\"\")"
   ]
  },
  {
   "cell_type": "markdown",
   "metadata": {},
   "source": [
    "## Exercise - Gaussian\n",
    "\n",
    "### Problem\n",
    "\n",
    "Manufacturing processes often introduce variation in the product being manufactured. In this case, 79 double-stuffed oreo cookies were pulled apart, and the mass of the creme in the middle was measured. The number of cookies with a mass of creme in a range $m \\pm 0.065$ g of a certain mass $m$ was counted. Data for mass $m$ in grams and $N$ are given in the file [double-stuff-oreos.txt](https://github.com/atitus/math-modeling/raw/master/unit-02/02-04-manual-curve-fitting/double-stuff-oreos.txt). (This type of graph is called a histogram.)\n",
    "\n",
    "Data like this are often fit with a Gaussian function of the form\n",
    "\n",
    "$$f(x)=ae^{\\left(-\\frac{1}{2}\\left(\\frac{x-b}{c}\\right)^2\\right)}$$\n",
    "\n",
    "In this case, the independent variable is $m$ and the dependent variable is $N$. So the function for this data is written\n",
    "\n",
    "$$N=ae^{\\left(-\\frac{1}{2}\\left(\\frac{m-b}{c}\\right)^2\\right)}$$\n",
    "\n",
    "1. Read the data file and plot the data with proper title and labels.\n",
    "\n",
    "2. Plot the Gaussian function and manually adjust the fit parameters, $a$, $b$, and $c$ to find the constants that approximately fit the data.\n"
   ]
  },
  {
   "cell_type": "markdown",
   "metadata": {},
   "source": [
    "## Homework\n",
    "\n",
    "Select two problems given at:\n",
    "\n",
    "https://physics.info/curve-fitting/problems.shtml\n",
    "\n",
    "For each problem, do a curve fit and find the best-fit parameters.\n"
   ]
  },
  {
   "cell_type": "code",
   "execution_count": null,
   "metadata": {},
   "outputs": [],
   "source": []
  }
 ],
 "metadata": {
  "kernelspec": {
   "display_name": "Python 3",
   "language": "python",
   "name": "python3"
  },
  "language_info": {
   "codemirror_mode": {
    "name": "ipython",
    "version": 3
   },
   "file_extension": ".py",
   "mimetype": "text/x-python",
   "name": "python",
   "nbconvert_exporter": "python",
   "pygments_lexer": "ipython3",
   "version": "3.8.3"
  }
 },
 "nbformat": 4,
 "nbformat_minor": 4
}
