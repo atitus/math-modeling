{
 "cells": [
  {
   "cell_type": "markdown",
   "metadata": {},
   "source": [
    "# Emperical Modeling - Practice Test\n",
    "\n",
    "The goal of this assignment is to find an emperical model for a given data set and use this model to make predictions and form conclusions. You may use any of the notebooks from our class, but you may not use any other sources.\n",
    "\n",
    "Interpreting a graph is often used when answering a question. In this case, it is acceptable to approximate values you read from a graph."
   ]
  },
  {
   "cell_type": "markdown",
   "metadata": {},
   "source": [
    "\n",
    "## The Problem\n",
    "\n",
    "In 2011, physics students Tiffany Byerly and Amelia Morgan did a project to measure their walking gait before and after running on a treadmill. They wanted if running on a treadmill for 5 minutes affects how a person walks immediately after running on the treadmill. Using video analysis software, they measured and plotted the approximate $(x,y)$ coordinate of Tiffany's center of mass in meters as a function of time in seconds. A screen capture of the video of one of their trials, after running on a treadmill, is shown below.\n",
    "\n",
    "![](gait.png)\n",
    "\n",
    "The origin of the x,y coordinate system is at the intersection of the purple lines in the bottom left corner of the image. The origin is $(x=0,y=0)$, and the horizontal purple line represents the x-axis in space and the vertical purple line represents the y axis in space. The image below shows how her x-position indicates how far she is horizontally from the origin. Her y-position indicates how far she is vertically from the origin.\n",
    "\n",
    "![](gait-coord-system.png)\n",
    "\n",
    "If $t$ is time, when she walks, we can graph $x$ vs. $t$ to figure out how she moves horizontally when walking. And we can graph $y$ vs. $t$ to figure out how she moves vertically when walking.\n"
   ]
  },
  {
   "cell_type": "markdown",
   "metadata": {},
   "source": [
    "## Data Set\n",
    "\n",
    "Tiffany's data is in the file [gait-data.txt](gait-data.txt).\n"
   ]
  },
  {
   "cell_type": "markdown",
   "metadata": {},
   "source": [
    "\n",
    "## Exercise 1\n",
    "\n",
    "1. Plot a graph of $x$ position (in meters) as a function of time for Tiffany's motion. Fit a linear model to the data of the form:\n",
    "\n",
    "  $$y = mx + b$$\n",
    "\n",
    "  where $y$ represents the dependent variable and $x$ represents the independent variable. **Note: the x-position $x$ is not the same as the independent variable x in our model equation**. The variable $x$ means different things in different contexts. This can be confusing. I suggest using the label \"x position\" instead of \"x\" for your axis label when you plot your data.\n",
    "\n",
    "2. Print the best-fit parameters.\n"
   ]
  },
  {
   "cell_type": "code",
   "execution_count": null,
   "metadata": {},
   "outputs": [],
   "source": []
  },
  {
   "cell_type": "markdown",
   "metadata": {},
   "source": [
    "3. Tiffany's x-velocity is the slope. The absolute value is her speed, and the negative sign indicates that she is walking to the left. According to your model, what will Tiffany's x-position be at $t=5$ s?  What was her position at $t=0.2$ s?\n",
    "4. What do you think the fit parameter $b$ tells you? (Don't just say \"y intercept.\" Rather tell me what it means in the context of Tiffany's walking."
   ]
  },
  {
   "cell_type": "markdown",
   "metadata": {},
   "source": [
    "## Exercise 2\n",
    "\n",
    "1. Plot data for Tiffany's y-position as a function of time. *Manually* fit an emperical model of the form:\n",
    "\n",
    "  $$y = Acos(Bx + C) + D$$\n",
    "\n",
    "  by adjusting the fit parameters A, B, C, and D until, as closely as possible, the function model the data. You should print the sum of the squares of the residuals and use this to find the best values of the parameters. Note that in our model $x$ is the independent variable which is time $t$ in our data set."
   ]
  },
  {
   "cell_type": "code",
   "execution_count": null,
   "metadata": {},
   "outputs": [],
   "source": []
  },
  {
   "cell_type": "markdown",
   "metadata": {},
   "source": [
    "2. How does changing $A$ affect the curve?\n",
    "3. How does changing $B$ affect the curve?\n",
    "4. How does changing $C$ affect the curve?\n",
    "5. How does changing $D$ affect the curve?"
   ]
  },
  {
   "cell_type": "markdown",
   "metadata": {},
   "source": [
    "## Exercise 3\n",
    "\n",
    "1. Plot data for Tiffany's y-position as a function of time and use an automatic fit to find the best-fit parameters for the model:\n",
    "\n",
    "  $$y = Acos(Bx + C) + D$$\n"
   ]
  },
  {
   "cell_type": "code",
   "execution_count": null,
   "metadata": {
    "nbgrader": {
     "grade": true,
     "grade_id": "A_ans",
     "locked": false,
     "points": 10,
     "schema_version": 3,
     "solution": true,
     "task": false
    }
   },
   "outputs": [],
   "source": []
  },
  {
   "cell_type": "markdown",
   "metadata": {},
   "source": [
    "Use the values of your curve fit parameters to answer the following questions:\n",
    "\n",
    "2. What is approximately the average $y$ value as she is walking?\n",
    "3. How far does she travel up and down (from lowest point to highest point) while walking? Don't use data to answer your question. Rather, use the best-fit function and/or curve fit parameters.\n",
    "4. Think about yourself walking and how the height of your center of mass varies as you walk. When the heel of your front foot and toes of your back foot are both touching the ground at the same time (feet spread a maximum distance apart), is the y-position of your body at a maximum or a minimum on the graph?\n",
    "5. How many steps per second does she take?"
   ]
  }
 ],
 "metadata": {
  "celltoolbar": "Create Assignment",
  "kernelspec": {
   "display_name": "Python 3",
   "language": "python",
   "name": "python3"
  },
  "language_info": {
   "codemirror_mode": {
    "name": "ipython",
    "version": 3
   },
   "file_extension": ".py",
   "mimetype": "text/x-python",
   "name": "python",
   "nbconvert_exporter": "python",
   "pygments_lexer": "ipython3",
   "version": "3.8.3"
  }
 },
 "nbformat": 4,
 "nbformat_minor": 4
}
