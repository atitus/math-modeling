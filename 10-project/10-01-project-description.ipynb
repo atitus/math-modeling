{
 "cells": [
  {
   "cell_type": "markdown",
   "metadata": {},
   "source": [
    "# Project Description\n",
    "\n",
    "The project is worth 30% of your course grade and is a demonstration of what you have learned in the class.\n",
    "\n",
    "It is worth remembering our learning outcomes.\n",
    "\n",
    "## Honors Program Learning Outcomes\n",
    "\n",
    "- **Synthesis**: Synthesize information and resources to solve complex problems that have personal significance and public relevance.\n",
    "- **Communication**: Communicate effectively, often publicly -- in writing, speech, and visual media -- employing careful analyses of rhetorical purposes, audiences, messages, and modes of delivery.\n",
    "- **Collaboration**: Collaborate productively in diverse groups to complete multifaceted projects that affect real communities.\n",
    "\n",
    "## Course Learning Outcomes\n",
    "\n",
    "1. I can study a problem (i.e. question) in physics, biology, economics, or social sciences; apply simplifying assumptions;  develop a mathematical model (equations) to describe the system.\n",
    "1.  I can apply the appropriate mathematical technique to solve the equations. (This includes selected topics in calculus, vector algebra, linear algebra, numerical methods and statistics.)\n",
    "1.  I can graph model data, interpret the graph, and use the graph to make predictions.\n",
    "1.  I can compare measured data to model data and can judge the accuracy of the model.\n",
    "1.  I can refine a model based on a comparison with measured data or unreasonable predictions.\n",
    "1.  When necessary, I can write a computer program in Python to graph data or perform calculations.\n",
    "1.  I can use graphs, equations, and prose to write or present a data- and code-driven narrative to explain a model, predictions, and validation.\n",
    "1.  I can work in a group on a project to solve a problem using mathematical modeling and can demonstrate all aspects of modeling including construction, analysis, predictions, and refinement.\n",
    "1.  I can describe ethical implications of decisions made in the modeling process and how they affect conclusions and predictions made with the model.\n"
   ]
  },
  {
   "cell_type": "markdown",
   "metadata": {},
   "source": [
    "## Description\n",
    "\n",
    "In the development and presentation of the project, you will demonstrate many of our course learning outcomes and Honors Program learning outcomes. I have organized the project description by these outcomes.\n",
    "\n",
    "### Synthesis\n",
    "\n",
    "1. Select a problem in which you will apply a mathematical model numerically (i.e. with code).\n",
    "  1. Clearly explain the problem, including relevant background and mathematics.\n",
    "  2. Include images, graphs, and equations in your narrative.\n",
    "  3. Solve the problem numerically using code.\n",
    "2. Cite your sources and use multiple sources.\n",
    "3. Explain the significance of the problem.\n",
    "4. Describe ethical implications of decisions made in the modeling process and how they affect conclutions and predictions made with the model.\n",
    "5. Use test cases or comparisons to theoretical predictions in order to test your model and judge its accuracy. Describe what gives you confidence in your model.\n",
    "\n",
    "### Communication\n",
    "\n",
    "1. Use Jupyter notebook to integrate code with narrative in a coherent way to tell the story of your problem and solution.\n",
    "2. Give a 10 minute presentation using Jupyter notebook.\n",
    "\n",
    "### Collaboration\n",
    "\n",
    "If you are working in a group:\n",
    "\n",
    "1. Practice giving a team presentation. \n",
    "2. Divide the work on the project, and clearly describe your unique role and contributions to the project.\n",
    "\n",
    "If you are working as an individual:\n",
    "\n",
    "1. Ask someone from class to review your notebook, run the code, and ask you questions.\n",
    "2. Practice your presentation and receive contructive, yet critical, feedback from someone in our class.\n",
    "\n",
    "## Due Date\n",
    "\n",
    "Notebooks are due Wed, December 2, at 12:00 PM. Presentations will be given Wed, December 2, noon - 3 PM. We will deliver presentations via [WebEx](https://hpu.webex.com/meet/atitus)."
   ]
  },
  {
   "cell_type": "code",
   "execution_count": null,
   "metadata": {
    "collapsed": true
   },
   "outputs": [],
   "source": []
  }
 ],
 "metadata": {
  "kernelspec": {
   "display_name": "Python 3",
   "language": "python",
   "name": "python3"
  },
  "language_info": {
   "codemirror_mode": {
    "name": "ipython",
    "version": 3
   },
   "file_extension": ".py",
   "mimetype": "text/x-python",
   "name": "python",
   "nbconvert_exporter": "python",
   "pygments_lexer": "ipython3",
   "version": "3.8.3"
  }
 },
 "nbformat": 4,
 "nbformat_minor": 2
}
