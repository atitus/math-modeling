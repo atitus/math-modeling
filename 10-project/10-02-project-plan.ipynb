{
 "cells": [
  {
   "cell_type": "markdown",
   "metadata": {},
   "source": [
    "# Project Planning Guide"
   ]
  },
  {
   "cell_type": "markdown",
   "metadata": {},
   "source": [
    "The purpose of this notebook is to help you plan your project. You should answer each question below."
   ]
  },
  {
   "cell_type": "markdown",
   "metadata": {},
   "source": [
    "## Work in a group of two or as an individual."
   ]
  },
  {
   "cell_type": "markdown",
   "metadata": {},
   "source": [
    "Will you work alone or in a group?\n",
    "\n",
    "You may work alone or in a group of two. Choose which you will do. If you choose to work in a group of two, select a partner (who also agrees to work with you). If you work as a group, then you should complete the rest of this notebook in consultation with your partner."
   ]
  },
  {
   "cell_type": "markdown",
   "metadata": {},
   "source": [
    "## Topic"
   ]
  },
  {
   "cell_type": "markdown",
   "metadata": {},
   "source": [
    "What is a topic in which you are interested? Examples include but are not limited to:\n",
    "  - finance\n",
    "  - biology\n",
    "  - physics\n",
    "  - sociology\n",
    "  - medicine\n",
    "  - economics\n",
    "  - climate\n",
    "  \n",
    "Our book has many applications in physics and biology. To find project ideas in other areas, you will have to investigate."
   ]
  },
  {
   "cell_type": "markdown",
   "metadata": {},
   "source": [
    "## Sources"
   ]
  },
  {
   "cell_type": "markdown",
   "metadata": {},
   "source": [
    "What are some books and other sources that describe mathematical/computational models in this discipline? What are modules in our textbook that interest you?\n",
    "\n",
    "One such book is our textbook. You should certainly look for project ideas in our textbook. However, also look in other books or in blog posts if you are interested in other topics.\n",
    "\n",
    "In our textbook, there are dynamic models described in Chapters 2, 3, 4, and 7. Each module in these chapters is a source for a project. At the end of each module, there are additional *projects* listed that are an application of that module. You can get ideas for projects from the end of the module for modules we've studied in our class. Or, you can choose a module we did not already study in our class.\n",
    "\n",
    "Monte Carlo models are described in Chapters 9 and 10."
   ]
  },
  {
   "cell_type": "markdown",
   "metadata": {},
   "source": [
    "## Define the problem/model"
   ]
  },
  {
   "cell_type": "markdown",
   "metadata": {},
   "source": [
    "What problem or phenomenon will you model?\n",
    "\n",
    "Once you've reviewed sources, choose a problem that you will investigate (i.e. model) through a simulation."
   ]
  },
  {
   "cell_type": "markdown",
   "metadata": {},
   "source": [
    "## Evaluate the problem"
   ]
  },
  {
   "cell_type": "markdown",
   "metadata": {},
   "source": [
    "Look into the details of the problem. Ask and answer the following questions:\n",
    "\n",
    "1. What are the relevance and significance of the problem? (i.e. Why is it interesting?)\n",
    "2. What are the applications of the problem?\n",
    "3. Is there a mathematical model for the problem?\n",
    "4. Is there enough source material to help you understand the problem?\n",
    "5. Will solving the problem be challenging?\n",
    "6. Can the problem be solved by writing code?\n",
    "7. Will you need new understanding in order to solve the problem?\n",
    "8. Is there a way to check your solution?\n",
    "\n",
    "After you consider these questions, you may need to go back to your sources, find a new problem, and go through the evaluation process again.\n",
    "\n",
    "It's very important that your problem is:\n",
    "\n",
    "1. interesting \n",
    "\n",
    " AND\n",
    " \n",
    "\n",
    "2. doable"
   ]
  },
  {
   "cell_type": "markdown",
   "metadata": {},
   "source": [
    "## Plan your project"
   ]
  },
  {
   "cell_type": "markdown",
   "metadata": {},
   "source": [
    "After thinking about each problem through the lens of the above questions, do the following:\n",
    "\n",
    "1. Describe the problem in a few sentences.\n",
    "1. If working in a group, describe the leadership role of each member of the group. What role will each person be responsible for? In what way will each member lead?\n",
    "1. Describe the mathematical relationships or ideas that are needed for the project.\n",
    "1. Describe the output of your project. What kinds of calculations or images or graphs will be produced?\n",
    "1. Write a draft of an outline (notebook headings) for your final product."
   ]
  }
 ],
 "metadata": {
  "celltoolbar": "Create Assignment",
  "kernelspec": {
   "display_name": "Python 3",
   "language": "python",
   "name": "python3"
  },
  "language_info": {
   "codemirror_mode": {
    "name": "ipython",
    "version": 3
   },
   "file_extension": ".py",
   "mimetype": "text/x-python",
   "name": "python",
   "nbconvert_exporter": "python",
   "pygments_lexer": "ipython3",
   "version": "3.8.3"
  }
 },
 "nbformat": 4,
 "nbformat_minor": 2
}
