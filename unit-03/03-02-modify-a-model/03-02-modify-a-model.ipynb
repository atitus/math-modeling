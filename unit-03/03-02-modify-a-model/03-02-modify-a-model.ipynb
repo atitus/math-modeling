{
 "cells": [
  {
   "cell_type": "code",
   "execution_count": 1,
   "metadata": {},
   "outputs": [],
   "source": [
    "# import matplotlib\n",
    "import numpy as np #used for arrays and numerical functions\n",
    "import pandas as pd #used for reading a data file\n",
    "import matplotlib.pyplot as plt #used for graphing\n",
    "from io import StringIO #used to convert string to a dataframe"
   ]
  },
  {
   "cell_type": "markdown",
   "metadata": {},
   "source": [
    "# Modify a Model\n",
    "\n",
    "## Review\n",
    "\n",
    "The fundamental idea behind dynamic models is:\n",
    "\n",
    "$$\\mathrm{future\\ value} = \\mathrm{value\\ now} + \\mathrm{predicted\\ change}$$\n",
    "\n",
    "The model oftens describes the rate of change in a value. In this case, the *predicted change* in a value is its *rate of change* times a time interval.\n",
    "\n",
    "$$\\mathrm{predicted\\ change} = \\mathrm{(rate\\ of\\ change)*(time\\ interval)}$$\n",
    "\n",
    "Putting this together, we have\n",
    "\n",
    "$$\\mathrm{future\\ value} = \\mathrm{value\\ now} + \\mathrm{(rate\\ of\\ change)*(time\\ interval)}$$\n",
    "\n",
    "## The Model\n",
    "\n",
    "The \"model\" for a system is an equation that describes the *rate of change* of a system.\n",
    "\n",
    "## Unconstrained Population Growth\n",
    "\n",
    "The model for unconstrained population growth is\n",
    "\n",
    "$$\\mathrm{rate\\ of\\ change} = \\frac{\\Delta P}{\\Delta t}=rP$$\n",
    "\n",
    "where $r$ is a constant that describes the rate of growth of the system and $P$ is the population.\n"
   ]
  },
  {
   "cell_type": "markdown",
   "metadata": {},
   "source": [
    "\n",
    "## Example\n",
    "\n",
    "This is the example on page 22 of Module 2.2 in *Introduction to Computational Science*. Suppose that we start a clock when we have 100 cells of bacteria. This is called an *initial condition*, and we define this to be the starting time $t=0$.\n",
    "\n",
    "t (h) | P (cells)\n",
    "--- | ---\n",
    "0 | 100\n",
    "\n",
    "Suppose the bacteria grows with a growth rate $r=0.1\\ \\mathrm{h}^{-1}$. In the program below"
   ]
  },
  {
   "cell_type": "code",
   "execution_count": 2,
   "metadata": {},
   "outputs": [
    {
     "data": {
      "image/png": "[encoded data removed]",
      "text/plain": [
       "<Figure size 432x288 with 1 Axes>"
      ]
     },
     "metadata": {
      "needs_background": "light"
     },
     "output_type": "display_data"
    }
   ],
   "source": [
    "\n",
    "## define constants\n",
    "r = 0.1\n",
    "dt = 0.005\n",
    "\n",
    "# define variables and their initial values\n",
    "P = 100\n",
    "t = 0\n",
    "\n",
    "# create empty lists for storing data\n",
    "xmodel = []\n",
    "ymodel = []\n",
    "\n",
    "# append initial values of t and P to our lists\n",
    "xmodel.append(t)\n",
    "ymodel.append(P)\n",
    "\n",
    "# loop\n",
    "while t<20:\n",
    "    rate = r*P\n",
    "    P = P + rate*dt\n",
    "    t = t + dt\n",
    "    \n",
    "    xmodel.append(t)\n",
    "    ymodel.append(P)\n",
    "\n",
    "plt.title('Population (cells) vs. time (h)')\n",
    "plt.xlabel('time (h)')\n",
    "plt.ylabel('population (cells)')\n",
    "plt.plot(xmodel,ymodel,'b-')\n",
    "plt.show()"
   ]
  },
  {
   "cell_type": "markdown",
   "metadata": {},
   "source": [
    "## Constrained Population Growth\n",
    "\n",
    "Populations do not grow unconstrained forever. The population can reach the limit of what the environment can support. Perhaps part of the population starts dying, or perhaps the population competes for resources. As we saw in the video by Grant Sanderson, exponential growth is always the initial phase of growth for any population because in the \"real world\" the population eventually reaches a maximum sustainable level.\n",
    "\n",
    "Here is real data on bacterial growth from Dr. Segarra at High Point University.\n",
    "\n"
   ]
  },
  {
   "cell_type": "code",
   "execution_count": 3,
   "metadata": {},
   "outputs": [
    {
     "data": {
      "image/png": "[encoded data removed]",
      "text/plain": [
       "<Figure size 576x432 with 1 Axes>"
      ]
     },
     "metadata": {
      "needs_background": "light"
     },
     "output_type": "display_data"
    }
   ],
   "source": [
    "# define data\n",
    "# t (min)\tabsorbance (arb)\n",
    "data = StringIO(\"\"\"x\ty\n",
    "0\t0.101\n",
    "30\t0.109\n",
    "60\t0.13\n",
    "90\t0.157\n",
    "120\t0.211\n",
    "150\t0.26\n",
    "180\t0.303\n",
    "210\t0.373\n",
    "240\t0.46\n",
    "270\t0.541\n",
    "300\t0.723\n",
    "330\t0.913\n",
    "360\t1.099\n",
    "390\t1.263\n",
    "420\t1.371\n",
    "450\t1.463\n",
    "480\t1.531\n",
    "510\t1.587\n",
    "540\t1.635\n",
    "570\t1.673\n",
    "600\t1.691\n",
    "630\t1.713\n",
    "660\t1.729\n",
    "690\t1.74\n",
    "720\t1.753\n",
    "750\t1.751\n",
    "780\t1.761\n",
    "810\t1.764\n",
    "840\t1.769\n",
    "870\t1.768\n",
    "900\t1.77\n",
    "\"\"\") \n",
    "\n",
    "# convert data to dataframe\n",
    "df = pd.read_csv(data, sep =\"\\t\")\n",
    "\n",
    "# define arrays for the data\n",
    "xdata = df['x']\n",
    "ydata = df['y']\n",
    "\n",
    "# plot data and the best-fit function on the same graph\n",
    "fig = plt.figure(figsize=(8,6))\n",
    "plt.title(\"Absorbance vs. time for bacterial growth\")\n",
    "plt.xlabel('t (min)')\n",
    "plt.ylabel('absorbance of light (arb)')\n",
    "plt.grid(which='both', axis='both')\n",
    "plt.plot(xdata, ydata, 'bo')\n",
    "plt.show()"
   ]
  },
  {
   "cell_type": "markdown",
   "metadata": {},
   "source": [
    "## Adding a \"Death Rate\" to our model\n",
    "\n",
    "The maximum population at which it levels out is called the *carrying capacity*, $M$. For the data above $M=1.75$.\n",
    "\n",
    "Why does the population reach a maximmum and stay level? \n",
    "\n",
    "When the population is constant (at carrying capacity), the rate of births is equal to the rate of deaths. In other words, for every member added to the population, a member leaves the population. Therefore, we have a death rate that depends on both the population and the carrying capacity. And when $P=M$, the total rate of change should be zero.\n",
    "\n",
    "Our model is:\n",
    "\n",
    "$$\\mathrm{rate\\ of\\ change} = \\mbox{rate of change due to births} + \\mbox{rate of change due to deaths}$$\n",
    "\n",
    "\n",
    "$$\\mathrm{rate\\ of\\ change} = rP + -r \\left(\\frac{P}{M}\\right)P$$\n",
    "\n",
    "Note that if $P$ is small, the birth rate dominates. If $P$ is large, the death rate dominates. And when $P=M$, the death rate is equal to the birth rate, so the total rate of change is zero and the population is constant. This model has all the features we want.\n",
    "\n",
    "## Modifying the model\n",
    "\n",
    "Add the death rate to the model of bacterial growth below. Define and use the following parameters:\n",
    "\n",
    "- a carrying capacity of $M=2000$\n",
    "- a growth rate parameter of $r=0.1$.\n",
    "\n",
    "If you don't see any change in the 20 h of time that your model is being calculated, run your model for a longer time (perhaps to 100 hours, for example).\n"
   ]
  },
  {
   "cell_type": "code",
   "execution_count": 81,
   "metadata": {},
   "outputs": [
    {
     "data": {
      "image/png": "[encoded data removed]",
      "text/plain": [
       "<Figure size 432x288 with 1 Axes>"
      ]
     },
     "metadata": {
      "needs_background": "light"
     },
     "output_type": "display_data"
    }
   ],
   "source": [
    "\n",
    "## define constants\n",
    "r = 0.1\n",
    "dt = 0.005\n",
    "\n",
    "# define variables and their initial values\n",
    "P = 100\n",
    "t = 0\n",
    "\n",
    "# create empty lists for storing data\n",
    "xmodel = []\n",
    "ymodel = []\n",
    "\n",
    "# append initial values of t and P to our lists\n",
    "xmodel.append(t)\n",
    "ymodel.append(P)\n",
    "\n",
    "# loop\n",
    "while t<20:\n",
    "    rate = r*P\n",
    "    P = P + rate*dt\n",
    "    t = t + dt\n",
    "    \n",
    "    xmodel.append(t)\n",
    "    ymodel.append(P)\n",
    "\n",
    "plt.title('Population (cells) vs. time (h)')\n",
    "plt.xlabel('time (h)')\n",
    "plt.ylabel('population (cells)')\n",
    "plt.plot(xmodel,ymodel,'b-')\n",
    "plt.show()"
   ]
  },
  {
   "cell_type": "markdown",
   "metadata": {},
   "source": [
    "### Exercise: Experimenting with $r_d$\n",
    "\n",
    "Try the following growth rate parameter values:\n",
    "\n",
    "- $r=0.02$\n",
    "- $r=0.05$\n",
    "- $r=0.1$\n",
    "- $r=0.2$\n",
    "- $r=0.5$\n",
    "\n",
    "How does the value of $r$ affect the population curve?"
   ]
  },
  {
   "cell_type": "markdown",
   "metadata": {},
   "source": [
    "### Exercise: Experimenting with $M$\n",
    "\n",
    "Try the following carrying capacities with $r=0.1$:\n",
    "\n",
    "- $M=1000$\n",
    "- $M=2000$\n",
    "- $M=5000$\n",
    "- $M=10000$\n",
    "\n",
    "How does the value of $M$ affect the population curve?"
   ]
  },
  {
   "cell_type": "markdown",
   "metadata": {},
   "source": [
    "## Using a dynamic model to find fit parameters for a dataset\n",
    "\n",
    "If we plot data along with our model, we can adjust the model parameters until our model fits the data. This is different than curve fitting because this approach will work *even if there is no mathematical function that fits the data.*"
   ]
  },
  {
   "cell_type": "code",
   "execution_count": 100,
   "metadata": {},
   "outputs": [
    {
     "data": {
      "image/png": "[encoded data removed]",
      "text/plain": [
       "<Figure size 576x432 with 1 Axes>"
      ]
     },
     "metadata": {
      "needs_background": "light"
     },
     "output_type": "display_data"
    }
   ],
   "source": [
    "# define data\n",
    "# t (min)\tabsorbance (arb)\n",
    "data = StringIO(\"\"\"x\ty\n",
    "0\t0.101\n",
    "30\t0.109\n",
    "60\t0.13\n",
    "90\t0.157\n",
    "120\t0.211\n",
    "150\t0.26\n",
    "180\t0.303\n",
    "210\t0.373\n",
    "240\t0.46\n",
    "270\t0.541\n",
    "300\t0.723\n",
    "330\t0.913\n",
    "360\t1.099\n",
    "390\t1.263\n",
    "420\t1.371\n",
    "450\t1.463\n",
    "480\t1.531\n",
    "510\t1.587\n",
    "540\t1.635\n",
    "570\t1.673\n",
    "600\t1.691\n",
    "630\t1.713\n",
    "660\t1.729\n",
    "690\t1.74\n",
    "720\t1.753\n",
    "750\t1.751\n",
    "780\t1.761\n",
    "810\t1.764\n",
    "840\t1.769\n",
    "870\t1.768\n",
    "900\t1.77\n",
    "\"\"\") \n",
    "\n",
    "# convert data to dataframe\n",
    "df = pd.read_csv(data, sep =\"\\t\")\n",
    "\n",
    "# define arrays for the data\n",
    "xdata = df['x']\n",
    "ydata = df['y']\n",
    "\n",
    "## define constants\n",
    "r = 0.01\n",
    "dt = 0.005\n",
    "\n",
    "# define variables and their initial values\n",
    "P = 0.1\n",
    "t = 0\n",
    "\n",
    "# create empty lists for storing data\n",
    "xmodel = []\n",
    "ymodel = []\n",
    "\n",
    "# append initial values of t and P to our lists\n",
    "xmodel.append(t)\n",
    "ymodel.append(P)\n",
    "\n",
    "# loop\n",
    "while t<200:\n",
    "    rate = r*P- r*(P/M)*P\n",
    "    P = P + rate*dt\n",
    "    t = t + dt\n",
    "    \n",
    "    xmodel.append(t)\n",
    "    ymodel.append(P)\n",
    "\n",
    "\n",
    "# plot data and the best-fit function on the same graph\n",
    "fig = plt.figure(figsize=(8,6))\n",
    "plt.title(\"Absorbance vs. time for bacterial growth\")\n",
    "plt.xlabel('t (min)')\n",
    "plt.ylabel('absorbance of light (arb)')\n",
    "plt.grid(which='both', axis='both')\n",
    "plt.plot(xdata, ydata, 'bo')\n",
    "plt.plot(xmodel, ymodel, 'r-')\n",
    "plt.show()"
   ]
  },
  {
   "cell_type": "markdown",
   "metadata": {},
   "source": [
    "# Homework\n"
   ]
  },
  {
   "cell_type": "markdown",
   "metadata": {},
   "source": [
    "## Exercise 1\n",
    "\n",
    "Using an initial population of 20 and a growth rate of 50% (i.e. 0.5), model unconstrained growth for 15 years. Use a time step of one day and plot $P(t)$."
   ]
  },
  {
   "cell_type": "code",
   "execution_count": null,
   "metadata": {},
   "outputs": [],
   "source": []
  },
  {
   "cell_type": "markdown",
   "metadata": {},
   "source": [
    "## Exercise 2\n",
    "\n",
    "If the environment described in Exercise 1 has a carrying capacity of 1000, model the same population growth for the same period of time. Compare your graph of $P(t)$ to Figure 2.3.1 in *Introduction to Computational Science.*"
   ]
  },
  {
   "cell_type": "code",
   "execution_count": null,
   "metadata": {},
   "outputs": [],
   "source": []
  },
  {
   "cell_type": "markdown",
   "metadata": {},
   "source": [
    "## Exercise 3\n",
    "\n",
    "Suppose the initial population in the previous exercise is 1500. Plot $P(t)$."
   ]
  },
  {
   "cell_type": "code",
   "execution_count": null,
   "metadata": {},
   "outputs": [],
   "source": []
  },
  {
   "cell_type": "markdown",
   "metadata": {},
   "source": [
    "## Exercise 4\n",
    "\n",
    "Do Project 5 from *Introduction to Computational Science* (on page 42)on trout population."
   ]
  },
  {
   "cell_type": "code",
   "execution_count": null,
   "metadata": {},
   "outputs": [],
   "source": []
  },
  {
   "cell_type": "markdown",
   "metadata": {},
   "source": [
    "## Exercise 5\n",
    "\n",
    "Do Project 6 on the antarctic fin whale population."
   ]
  },
  {
   "cell_type": "code",
   "execution_count": null,
   "metadata": {},
   "outputs": [],
   "source": []
  }
 ],
 "metadata": {
  "kernelspec": {
   "display_name": "Python 3",
   "language": "python",
   "name": "python3"
  },
  "language_info": {
   "codemirror_mode": {
    "name": "ipython",
    "version": 3
   },
   "file_extension": ".py",
   "mimetype": "text/x-python",
   "name": "python",
   "nbconvert_exporter": "python",
   "pygments_lexer": "ipython3",
   "version": "3.8.3"
  }
 },
 "nbformat": 4,
 "nbformat_minor": 4
}
