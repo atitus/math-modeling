{
 "cells": [
  {
   "cell_type": "code",
   "execution_count": 2,
   "metadata": {},
   "outputs": [],
   "source": [
    "import numpy as np\n",
    "import matplotlib.pyplot as plt"
   ]
  },
  {
   "cell_type": "markdown",
   "metadata": {},
   "source": [
    "# Competition"
   ]
  },
  {
   "cell_type": "markdown",
   "metadata": {},
   "source": [
    "This notebook is based on Module 4.1 in *Introduction to Computational Science* by Angela Shiflet and George Shiflet.\n",
    "\n",
    "For unconstrained growth, the rate of change of a population is proportional to the population.\n",
    "\n",
    "$$rate_b = \\left(\\frac{\\Delta P}{\\Delta t}\\right)_b = r_bP \\quad \\mbox{due to birth}$$\n",
    "\n",
    "In this case $r_b$ is the growth rate constant, or *birth rate*.\n",
    "\n",
    "If the population dies at the rate $r_d$, then death causes a change in the population that is negative.\n",
    "\n",
    "$$rate_d = -r_dP \\quad \\mbox{due to death}$$\n",
    "\n",
    "The total rate of change of the population is the sum: $rate_b + rate_d$. \n",
    "\n",
    "$$rate = \\dot{P}_b + \\dot{P}_d = (r_b-r_d)P$$\n",
    "\n",
    "If the birth rate matches the death rate, then the rate of change in population is zero and the population $P$ is constant."
   ]
  },
  {
   "cell_type": "markdown",
   "metadata": {},
   "source": [
    "## Modeling a Population with a Death Rate"
   ]
  },
  {
   "cell_type": "markdown",
   "metadata": {},
   "source": [
    "Suppose we start with 100 cells of bacteria that grows with a rate $r_b=0.1\\ \\mathrm{h}^{-1}$. However, due to the temperature of the environment, the cells die at a rate $r_d=0.05\\ \\mathrm{h}^{-1}$. Plot the population of bacteria both *with* and *without* considering the death rate.\n",
    "\n",
    "Since we want to plot the population with only birth and also with birth and death, we have to store the population with births only separately from the population with births and deaths."
   ]
  },
  {
   "cell_type": "code",
   "execution_count": 3,
   "metadata": {},
   "outputs": [
    {
     "data": {
      "image/png": "[encoded data removed]",
      "text/plain": [
       "<Figure size 432x288 with 1 Axes>"
      ]
     },
     "metadata": {
      "needs_background": "light"
     },
     "output_type": "display_data"
    }
   ],
   "source": [
    "t = 0\n",
    "dt = 0.005 #h\n",
    "rb = 0.1 #1/h\n",
    "rd = 0.05 #1/h\n",
    "P = 100\n",
    "Pb = P # population with birth only\n",
    "\n",
    "tmodel = []\n",
    "Pbmodel = [] # population with births only\n",
    "Pmodel = [] # population with births and deaths\n",
    "\n",
    "while t < 15:\n",
    "    rateb = rb*P #births only\n",
    "    Pb = Pb + rateb*dt #births only\n",
    "\n",
    "    rated = (rb-rd)*P #birth and deaths\n",
    "    P = P + rated*dt #births and deaths\n",
    "\n",
    "    t = t + dt\n",
    "    \n",
    "    tmodel.append(t)\n",
    "    Pbmodel.append(Pb)\n",
    "    Pmodel.append(P)\n",
    "    \n",
    "fig = plt.figure()\n",
    "plt.title(\"Population Growth\")\n",
    "plt.xlabel(\"Time (h)\")\n",
    "plt.ylabel(\"Population (cells)\")\n",
    "plt.plot(tmodel, Pbmodel, label='Population with birth only')\n",
    "plt.plot(tmodel, Pmodel, label='Population with births and deaths')\n",
    "plt.legend()\n",
    "plt.show()"
   ]
  },
  {
   "cell_type": "markdown",
   "metadata": {},
   "source": [
    "Notice that adding a death rate to our model only decreased the rate of growth of the population. The result is still exponential growth."
   ]
  },
  {
   "cell_type": "markdown",
   "metadata": {},
   "source": [
    "### Exercise 1"
   ]
  },
  {
   "cell_type": "markdown",
   "metadata": {},
   "source": [
    "What if the death rate is equal to the birth rate? Set the death rate equal to the birth rate and run your model."
   ]
  },
  {
   "cell_type": "code",
   "execution_count": null,
   "metadata": {
    "nbgrader": {
     "grade": true,
     "grade_id": "Ex_1_ans",
     "locked": false,
     "points": 1,
     "schema_version": 3,
     "solution": true,
     "task": false
    }
   },
   "outputs": [],
   "source": []
  },
  {
   "cell_type": "markdown",
   "metadata": {},
   "source": [
    "### Exercise 2"
   ]
  },
  {
   "cell_type": "markdown",
   "metadata": {},
   "source": [
    "What if the death rate is greater than the birth rate? Set the death rate to be greater than the birth rate and run your model."
   ]
  },
  {
   "cell_type": "code",
   "execution_count": null,
   "metadata": {
    "nbgrader": {
     "grade": true,
     "grade_id": "Ex_2_ans",
     "locked": false,
     "points": 1,
     "schema_version": 3,
     "solution": true,
     "task": false
    }
   },
   "outputs": [],
   "source": []
  },
  {
   "cell_type": "markdown",
   "metadata": {},
   "source": [
    "## Modeling Competition"
   ]
  },
  {
   "cell_type": "markdown",
   "metadata": {},
   "source": [
    "When an environment contains two species, each species might compete for the same limited resources (e.g. food), so when one species increases in population, the other one decreases because it has fewer resources. Thus, the population of one species has a negative effect on the rate of change of the other species.\n",
    "\n",
    "In this model, we will model the populations of whitetip sharks and blacktip sharks competing for the same food sources. The populations of the two species are:\n",
    "\n",
    "- $P_W$ for the whitetip sharks\n",
    "- $P_B$ for the blacktip sharks\n",
    "\n",
    "In this model, for each species, the rate of change of the population due to death depends on the product of the populations, $P_WP_B$ because an increase in each population will result in an increase in the number of deaths of the speacies. Expressed mathematically with the subscript $d$ for death, $W$ for whitetip shark, and $B$ for blacktip shark:\n",
    "\n",
    "$$rate_{dW} = -r_{dW}P_WP_B \\quad \\mbox{rate of change of population of whitetip sharks due to death}$$\n",
    "$$rate_{dB} = -r_{dB}P_WP_B \\quad \\mbox{rate of change of population of blacktip sharks due to death}$$\n",
    "\n",
    "The actual death rate coefficient for each species, $r_{dW}$ and $r_{dB}, depends on how well the species competes, with a lower coefficient being more competitive and a higher coefficient being less competitive. Thus, maybe with tongue firmly in cheek, we can call it a *coefficient of losing*.\n",
    "\n",
    "Each population will still give birth and will increase in population in proportional to the birth rate coefficient for the species and the population of only that species. With the subscript $b$ meaning *birth*, our model is:\n",
    "\n",
    "$$rate_{bW} = +r_{bW}P_W \\quad \\mbox{rate of change of population of whitetip sharks due to birth}$$\n",
    "$$rate_{bB} = +r_{bB}P_B \\quad \\mbox{rate of change of population of blacktip sharks due to birth}$$\n",
    "\n",
    "I have included the **+** sign in the expression to emphasize that births result in an increase in the population.\n",
    "\n",
    "For each species, the rate of change in the population is the sum of the rate of change due to births and rate of change due to deaths.\n",
    "\n",
    "**Whitetip Sharks**\n",
    "\n",
    "$$\\begin{eqnarray}rate_{W} & = & rate_{bW} + rate_{dW}\\\\  &=& r_{bW}P_W - r_{dW}P_WP_B \\end{eqnarray}$$\n",
    "\n",
    "**Blacktip Sharks**\n",
    "\n",
    "$$\\begin{eqnarray}rate_{B} & = & rate_{bB} + rate_{dB}\\\\  &=& r_{bB}P_B - r_{dB}P_WP_B \\end{eqnarray}$$"
   ]
  },
  {
   "cell_type": "markdown",
   "metadata": {},
   "source": [
    "### Initial Conditions and Constants"
   ]
  },
  {
   "cell_type": "markdown",
   "metadata": {},
   "source": [
    "Here are the initial populations and the birth and death rate coefficients of the whitetip and blacktip shark populations. The unit of time is *month*, and the birth and death rate coefficients are in units of 1/month.\n",
    "\n",
    "Variable | Initial Value\n",
    "--- | ---\n",
    "$P_{B}$ | 15\n",
    "$r_{bB}$ | 1\n",
    "$r_{dB}$ | 0.2\n",
    "--- | --- \n",
    "$P_{W}$ | 20\n",
    "$r_{bW}$ | 1\n",
    "$r_{dW}$ | 0.27\n",
    "\n",
    "A program to model the time evolution of the populations is below."
   ]
  },
  {
   "cell_type": "code",
   "execution_count": 4,
   "metadata": {},
   "outputs": [
    {
     "data": {
      "image/png": "[encoded data removed]",
      "text/plain": [
       "<Figure size 432x288 with 1 Axes>"
      ]
     },
     "metadata": {
      "needs_background": "light"
     },
     "output_type": "display_data"
    }
   ],
   "source": [
    "t = 0 \n",
    "dt = 1/30 # month\n",
    "\n",
    "P_B = 15\n",
    "r_bB = 1\n",
    "r_dB = .2\n",
    "\n",
    "P_W = 20\n",
    "r_bW = 1\n",
    "r_dW = 0.27\n",
    "\n",
    "tmodel = [] #time model\n",
    "P_Wmodel = [] #whitetip shark population model\n",
    "P_Bmodel = [] #blacktip shark population model\n",
    "\n",
    "while t < 5:\n",
    "    \n",
    "    rate_W = r_bW * P_W - r_dW * P_W * P_B # rate of change of whitetip population\n",
    "    rate_B = r_bB * P_B - r_dB * P_W * P_B # rate of change of blacktip population\n",
    "    \n",
    "    P_W = P_W + rate_W*dt\n",
    "    P_B = P_B + rate_B*dt\n",
    "    \n",
    "    t = t + dt\n",
    "\n",
    "    tmodel.append(t)\n",
    "    P_Wmodel.append(P_W)\n",
    "    P_Bmodel.append(P_B)\n",
    "\n",
    "fig = plt.figure()\n",
    "plt.title(\"Population Growth with Competition\")\n",
    "plt.xlabel(\"Time (month)\")\n",
    "plt.ylabel(\"Population (sharks)\")\n",
    "plt.plot(tmodel, P_Wmodel, label='Whitetip Sharks')\n",
    "plt.plot(tmodel, P_Bmodel, label='Blacktip Sharks')\n",
    "plt.legend()\n",
    "plt.show()"
   ]
  },
  {
   "cell_type": "markdown",
   "metadata": {},
   "source": [
    "The whitetip sharks have a higher death rate coefficient (or *coefficient of losing* as I called it). Thus, mathematically, we know they will lose the competition in the long run.\n",
    "\n",
    "Both populations decrease at first, but at approximately 1.5 months, the blacktip sharks start increasing in population. Once the population of whitetip sharks has decreased to zero (or nearly zero), the blacktip sharks increase exponentially since the birth rate dominates the death rate. There is no longer a competitor (or any other constraint) preventing the blacktip shark's growth."
   ]
  },
  {
   "cell_type": "markdown",
   "metadata": {},
   "source": [
    "### Exercise 3"
   ]
  },
  {
   "cell_type": "markdown",
   "metadata": {},
   "source": [
    "Adjust the values of the initial populations and the birth and death rate coefficients such that each population reaches equilibrium (constant population). When you find a set of initial conditions and coefficients that produces a constant population, record the values you used and record the final population of each species. \n",
    "\n",
    "Then, try again to find other sets of initial conditions and coefficients that produces a constant population. In each case, record the final population of each species.\n",
    "\n",
    "Although you found equilibrium solutions, are these solutions possible? Why might these solutions be completely unphysical (meaning the solution is mathematically correct but is impossible in the real world)?"
   ]
  },
  {
   "cell_type": "code",
   "execution_count": null,
   "metadata": {},
   "outputs": [],
   "source": []
  }
 ],
 "metadata": {
  "celltoolbar": "Create Assignment",
  "kernelspec": {
   "display_name": "Python 3",
   "language": "python",
   "name": "python3"
  },
  "language_info": {
   "codemirror_mode": {
    "name": "ipython",
    "version": 3
   },
   "file_extension": ".py",
   "mimetype": "text/x-python",
   "name": "python",
   "nbconvert_exporter": "python",
   "pygments_lexer": "ipython3",
   "version": "3.8.3"
  }
 },
 "nbformat": 4,
 "nbformat_minor": 4
}
