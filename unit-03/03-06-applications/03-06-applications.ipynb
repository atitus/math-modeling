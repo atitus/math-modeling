{
 "cells": [
  {
   "cell_type": "markdown",
   "metadata": {},
   "source": [
    "# Compounding Interest Applications\n",
    "\n",
    "For each question below, write code to solve the problem iteratively.\n"
   ]
  },
  {
   "cell_type": "markdown",
   "metadata": {},
   "source": [
    "## Exercise 1\n",
    "\n",
    "Suppose I purchase a car for $\\$40,000$, make a down payment of $\\$5,000$, and have an annual percentage rate (APR) of 12% on the loan. If my monthly car payment is $\\$500$ per month, how long will it take to pay off the loan and what will be the total amount paid for the car?"
   ]
  },
  {
   "cell_type": "code",
   "execution_count": null,
   "metadata": {
    "nbgrader": {
     "grade": true,
     "grade_id": "Ex_1",
     "locked": false,
     "points": 3,
     "schema_version": 3,
     "solution": true,
     "task": false
    }
   },
   "outputs": [],
   "source": []
  },
  {
   "cell_type": "markdown",
   "metadata": {},
   "source": [
    "## Exercise 2\n",
    "\n",
    "You buy a house and take out a $\\$300,000$ loan to be paid over 30 years with a 5% annual percentage rate.\n",
    "\n",
    "  1. What is your monthly payment?\n",
    "  2. Financial advisors recommend making a 13th payment at the end of each year, all of which is applied to the principal of the loan. If you do this, how long will it take to pay off the loan and how much money will you save?"
   ]
  },
  {
   "cell_type": "code",
   "execution_count": null,
   "metadata": {
    "nbgrader": {
     "grade": true,
     "grade_id": "Ex_2",
     "locked": false,
     "points": 3,
     "schema_version": 3,
     "solution": true,
     "task": false
    }
   },
   "outputs": [],
   "source": []
  },
  {
   "cell_type": "markdown",
   "metadata": {},
   "source": [
    "## Exercise 3\n",
    "\n",
    "This is an open-ended question that requires you to make assumptions, and making assumptions is an integral part of *modeling*.\n",
    "\n",
    "You are evaluating your retirement. At 25 years old, you invest monthly into an IRA (Individual Retirement Account) with an average 7% interest rate per year. After your retirement age, you want to live solely on that investment. What is the minimum age you can retire if you die with exactly zero dollars left in your investment?\n",
    "\n",
    "1. Talk to your classmates and write a list of assumptions you will make. At first, it's best to keep your assumptions simple, yet realistic.\n",
    "\n",
    "2. Describe in words (an outline form is fine) what calculations your code must do. This is called *pseudocode*. You are describing the logic but not writing code.\n",
    "\n",
    "3. After discussion, write code to solve the problem. Keep it simple and check that it works along the way. Define variables needed and use variables in your calculations. This allows you to explore your model by adjusting the values of the variables."
   ]
  },
  {
   "cell_type": "code",
   "execution_count": null,
   "metadata": {},
   "outputs": [],
   "source": []
  },
  {
   "cell_type": "markdown",
   "metadata": {},
   "source": [
    "## Exercise 4\n",
    "\n",
    "How can you make your model in Excercise 3 more realistic? Choose one way to modify the model. Describe the modification to your model, and describe the difference in the predictions before and after you changed the model."
   ]
  },
  {
   "cell_type": "code",
   "execution_count": null,
   "metadata": {
    "nbgrader": {
     "grade": true,
     "grade_id": "Ex_3",
     "locked": false,
     "points": 4,
     "schema_version": 3,
     "solution": true,
     "task": false
    }
   },
   "outputs": [],
   "source": []
  }
 ],
 "metadata": {
  "celltoolbar": "Create Assignment",
  "kernelspec": {
   "display_name": "Python 3",
   "language": "python",
   "name": "python3"
  },
  "language_info": {
   "codemirror_mode": {
    "name": "ipython",
    "version": 3
   },
   "file_extension": ".py",
   "mimetype": "text/x-python",
   "name": "python",
   "nbconvert_exporter": "python",
   "pygments_lexer": "ipython3",
   "version": "3.8.3"
  }
 },
 "nbformat": 4,
 "nbformat_minor": 4
}
