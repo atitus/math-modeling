{
 "cells": [
  {
   "cell_type": "code",
   "execution_count": 2,
   "metadata": {},
   "outputs": [],
   "source": [
    "# import matplotlib\n",
    "import matplotlib.pyplot as plt"
   ]
  },
  {
   "cell_type": "markdown",
   "metadata": {},
   "source": [
    "# Population Growth"
   ]
  },
  {
   "cell_type": "markdown",
   "metadata": {},
   "source": [
    "In this notebook, you will develop a mathematical model for systems that exhibit unconstrained growth. Before reading and running this notebook, read **Module 2.2** from *Introduction to Computational Science* by Shiflet and Shiflet. The exercises in this activity require **Module 2.2**.\n",
    "\n",
    "## Unit 03 Introduction\n",
    "\n",
    "Unit 03 of our course is on *dynamic modeling*. A **dynamic model** is a mathematical description of how a quantity changes in time based on a theory of what factors affect those changes.\n",
    "\n",
    "The fundamental idea behind dynamic models is:\n",
    "\n",
    "$$\\mathrm{future\\ value} = \\mathrm{value\\ now} + \\mathrm{predicted\\ change}$$\n",
    "\n",
    "Often a model includes *approximations* (or constraints). And often a model is used to make predictions which are compared to experimental measurements. When a model predicts experimental measurements, it gives us confidence that we understand the theory behind the model.\n",
    "\n",
    "The model oftens describes the rate of change in a value. In this case, the *predicted change* in a value is its *rate of change* times a time interval.\n",
    "\n",
    "$$\\mathrm{predicted\\ change} = \\mathrm{(rate\\ of\\ change)*(time\\ interval)}$$\n",
    "\n",
    "Putting this together, we have\n",
    "\n",
    "$$\\mathrm{future\\ value} = \\mathrm{value\\ now} + \\mathrm{(rate\\ of\\ change)*(time\\ interval)}$$\n"
   ]
  },
  {
   "cell_type": "markdown",
   "metadata": {},
   "source": [
    "### Example\n",
    "\n",
    "At this instant, you are driving on a straight highway at 75 miles per hour, and your trip meter on your car reads 150 miles since the last gas station where you filled up with gas. What will your trip meter read in 15 minutes?\n",
    "\n",
    "In this question:\n",
    "\n",
    "1. What is the \"value now\"?\n",
    "2. What is the \"rate of change\" in that value?\n",
    "3. What is the \"time interval\"?\n",
    "4. Now, calculate the future value.\n",
    "\n",
    "Using the variables below, do your calculation and print the result."
   ]
  },
  {
   "cell_type": "code",
   "execution_count": 3,
   "metadata": {},
   "outputs": [],
   "source": [
    "d = 150 #miles\n",
    "rate = 75 #miles per hour\n",
    "dt = 15/60 #hours\n",
    "\n"
   ]
  },
  {
   "cell_type": "markdown",
   "metadata": {},
   "source": [
    "\n",
    "## Unconstrained Population Growth\n",
    "\n",
    "In the **Malthusian model** of population growth, also called *unconstrained* population growth, the change in a population in a time interval is proportional to the population. If the population is $P$, the change in population is $\\Delta P$, and the time interval is $\\Delta t$, then\n",
    "\n",
    "$$\\Delta P = rP\\Delta t$$\n",
    "\n",
    "where the **growth rate** is $r$ and has units of $1/{time}$. The growth rate $r$ is a large number for a fast growing population and small number for a slow growing population. \n",
    "\n",
    "The **time rate of change** of the population is defined as\n",
    "\n",
    "$$\\mathrm{rate\\ of\\ change}= \\dot{P} = \\frac{\\Delta P}{\\Delta t}$$\n",
    "\n",
    "*Note: the time rate of change of any quantity is the change in that quantity divided by the change in time. The unit is the unit of the quantity per second (or per minute or per hour, etc.).*\n",
    "\n",
    "In the unconstrained population growth model, the **rate of change** $\\dot{P}$ of the population is proportional to the growth rate $r$ and the population $P$.\n",
    "\n",
    "$$\\dot{P} = \\frac{\\Delta P}{\\Delta t} = rP$$"
   ]
  },
  {
   "cell_type": "markdown",
   "metadata": {},
   "source": [
    "\n",
    "## Example\n",
    "\n",
    "This is the example on page 22 of Module 2.2 in *Introduction to Computational Science*. Suppose that we start a clock when we have 100 cells of bacteria. This is called an *initial condition*, and we define this to be the starting time $t=0$.\n",
    "\n",
    "t (h) | P (cells)\n",
    "--- | ---\n",
    "0 | 100\n",
    "\n",
    "Suppose the bacteria grows with a growth rate $r=0.1\\ \\mathrm{h}^{-1}$. In the program below"
   ]
  },
  {
   "cell_type": "code",
   "execution_count": 4,
   "metadata": {},
   "outputs": [
    {
     "name": "stdout",
     "output_type": "stream",
     "text": [
      "t = 0.000 h, P = 100.000000 cells.\n",
      "t = 0.005 h, rate = 10.000000 cells/h, P = 100.050000 cells.\n",
      "t = 0.010 h, rate = 10.005000 cells/h, P = 100.100025 cells.\n",
      "t = 0.015 h, rate = 10.010003 cells/h, P = 100.150075 cells.\n",
      "t = 0.020 h, rate = 10.015008 cells/h, P = 100.200150 cells.\n",
      "t = 0.025 h, rate = 10.020015 cells/h, P = 100.250250 cells.\n",
      "t = 0.030 h, rate = 10.025025 cells/h, P = 100.300375 cells.\n",
      "t = 0.035 h, rate = 10.030038 cells/h, P = 100.350525 cells.\n",
      "t = 0.040 h, rate = 10.035053 cells/h, P = 100.400701 cells.\n"
     ]
    }
   ],
   "source": [
    "# define constants\n",
    "r = 0.1\n",
    "dt = 0.005\n",
    "\n",
    "# define variables and their initial values\n",
    "P = 100\n",
    "t = 0\n",
    "\n",
    "# print initial t and P\n",
    "print(\"t = {:.3f} h, P = {:.6f} cells.\".format(t, P))\n",
    "\n",
    "# loop\n",
    "while t<0.04:\n",
    "    \n",
    "    rate = r*P\n",
    "    P = P + rate*dt\n",
    "    t = t + dt\n",
    "\n",
    "    print(\"t = {:.3f} h, rate = {:.6f} cells/h, P = {:.6f} cells.\".format(t, rate, P))"
   ]
  },
  {
   "cell_type": "markdown",
   "metadata": {},
   "source": [
    "### Exercise\n",
    "\n",
    "1. How many cells will there be at $t=20$ hours? (Note: I suggest only printing the population at the end of the loop. It's unnecessary to print every interation in the loop.)\n",
    "2. Compare your result to what is shown in the data table on pg. 23 of our textbook."
   ]
  },
  {
   "cell_type": "markdown",
   "metadata": {},
   "source": [
    "### Exercise\n",
    "\n",
    "If you double the growth rate to $0.2\\ \\mathrm{h^{-1}}$, what is the bacterial population at $t=20\\ \\mathrm{h}$?\n",
    "\n",
    "Did doubling the growth rate result in twice the population at 20 h? If not, why not?"
   ]
  },
  {
   "cell_type": "markdown",
   "metadata": {},
   "source": [
    "## Graphing data\n",
    "\n",
    "We want to store data for our variables $t$ and $P$ in lists so we can graph them. To store data in lists:\n",
    "\n",
    "1. Before the loop, create empty lists using:\n",
    "```python\n",
    "tdata = []\n",
    "Pdata = []\n",
    "```\n",
    "\n",
    "2. Inside the loop, *append* (i.e. add to the end) to each list your calculation of $t$ and $P$ inside the loop.\n",
    "```\n",
    "# loop\n",
    "while t<20:\n",
    "    ...\n",
    "    tdata.append(t)\n",
    "    Pdata.append(P)\n",
    "    ...\n",
    "```\n",
    "\n",
    "Here's a program that stores data population and time in lists and then plots the data."
   ]
  },
  {
   "cell_type": "code",
   "execution_count": 5,
   "metadata": {},
   "outputs": [
    {
     "data": {
      "image/png": "[encoded data removed]",
      "text/plain": [
       "<Figure size 432x288 with 1 Axes>"
      ]
     },
     "metadata": {
      "needs_background": "light"
     },
     "output_type": "display_data"
    }
   ],
   "source": [
    "\n",
    "## define constants\n",
    "r = 0.1\n",
    "dt = 0.005\n",
    "\n",
    "# define variables and their initial values\n",
    "P = 100\n",
    "t = 0\n",
    "\n",
    "# create empty lists for storing data\n",
    "xdata = []\n",
    "ydata = []\n",
    "\n",
    "# append initial values of t and P to our lists\n",
    "xdata.append(t)\n",
    "ydata.append(P)\n",
    "\n",
    "# loop\n",
    "while t<20:\n",
    "    rate = r*P\n",
    "    P = P + rate*dt\n",
    "    t = t + dt\n",
    "    \n",
    "    xdata.append(t)\n",
    "    ydata.append(P)\n",
    "\n",
    "plt.title('Population (cells) vs. time (h)')\n",
    "plt.xlabel('time (h)')\n",
    "plt.ylabel('population (cells)')\n",
    "plt.plot(xdata,ydata,'b-')\n",
    "plt.show()"
   ]
  },
  {
   "cell_type": "markdown",
   "metadata": {},
   "source": [
    "## Exercise\n",
    "\n",
    "If the growth rate is $0.15\\ \\mathrm{h^{-1}}$, how many cells will there be after 48 h?"
   ]
  },
  {
   "cell_type": "code",
   "execution_count": null,
   "metadata": {},
   "outputs": [],
   "source": []
  },
  {
   "cell_type": "markdown",
   "metadata": {},
   "source": [
    "## Challenge  - Population Decay\n",
    "\n",
    "Carbon-14 decays with a rate:\n",
    "\n",
    "$$\\dot{Q}= \\frac{\\Delta Q}{\\Delta t} = -1.20968\\times 10^{-4} Q$$\n",
    "\n",
    "where the decay rate constant $r=1.20968\\times 10^{-4}$ is in units of $1/year$. In other words, the continuous decay rate is 0.0120968% per year.\n",
    "\n",
    "Using a loop, as you learned when modeling population growth, compute and graph $Q(t)$ up to 40,000 years, using a time step of 0.5 year and an initial number of 10,000 carbon-14 atoms.\n",
    "\n",
    "How many carbon-14 atoms remain (undecayed) at $t=40,000$ years?"
   ]
  },
  {
   "cell_type": "code",
   "execution_count": null,
   "metadata": {},
   "outputs": [],
   "source": []
  }
 ],
 "metadata": {
  "kernelspec": {
   "display_name": "Python 3",
   "language": "python",
   "name": "python3"
  },
  "language_info": {
   "codemirror_mode": {
    "name": "ipython",
    "version": 3
   },
   "file_extension": ".py",
   "mimetype": "text/x-python",
   "name": "python",
   "nbconvert_exporter": "python",
   "pygments_lexer": "ipython3",
   "version": "3.8.3"
  }
 },
 "nbformat": 4,
 "nbformat_minor": 4
}
