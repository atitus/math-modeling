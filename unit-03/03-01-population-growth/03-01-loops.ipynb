{
 "cells": [
  {
   "cell_type": "markdown",
   "metadata": {},
   "source": [
    "# Loops"
   ]
  },
  {
   "cell_type": "markdown",
   "metadata": {},
   "source": [
    "Read the following program, remembering that when a computer runs a program, it goes through it line by line:\n",
    "\n",
    "```python\n",
    "t = 0\n",
    "print(\"t =\", t)\n",
    "\n",
    "t = t + 2\n",
    "print(\"t =\", t)\n",
    "\n",
    "t = t + 2\n",
    "print(\"t =\", t)\n",
    "```"
   ]
  },
  {
   "cell_type": "markdown",
   "metadata": {},
   "source": [
    "## Exercise\n",
    "\n",
    "1. Predict what will be printed by each print statement. Type your prediction below."
   ]
  },
  {
   "cell_type": "markdown",
   "metadata": {},
   "source": [
    "2. Now, type the code above into the cell below and run it. Compare the result to your prediction."
   ]
  },
  {
   "cell_type": "code",
   "execution_count": null,
   "metadata": {},
   "outputs": [],
   "source": []
  },
  {
   "cell_type": "markdown",
   "metadata": {},
   "source": [
    "What does t = t + 2 mean?\n",
    "\n",
    "The line `t = t + 2` is mathematically meaningless, but the computer understands it perfectly. It means: first calculate whatever is on the right side of the equal sign using the ***old*** value for `t`, then make that result be the ***new*** value of `t`. \n",
    "\n",
    "The code above changes the value of `t` in steps of 2. What if you want to print the values of 0 to 1000 in steps of 2, like this?\n",
    "\n",
    "$0, 2, 4, 6, 8, ... 996, 998, 1000$\n",
    "\n",
    "It would take 500 lines of code, not including the print statements. But in a computer program, when you want to repeat a block of code over and over and over, use a loop."
   ]
  },
  {
   "cell_type": "markdown",
   "metadata": {},
   "source": [
    "## A Visual Representation of a Loop"
   ]
  },
  {
   "cell_type": "markdown",
   "metadata": {},
   "source": [
    "In order to understand how a computer processes variable names and works through a loop, you have to know how the computer stores things in its memory.\n",
    "\n",
    "Click on the link below in order to see exactly how the computer processes variables and loops:\n",
    "    \n",
    " [Explanation of Variables and Loops](http://tinyurl.com/VariablesAndLoops)"
   ]
  },
  {
   "cell_type": "markdown",
   "metadata": {},
   "source": [
    "## Anatomy of a while loop"
   ]
  },
  {
   "cell_type": "markdown",
   "metadata": {},
   "source": [
    "Read the program below and predict what it will do. Then run the program."
   ]
  },
  {
   "cell_type": "code",
   "execution_count": 2,
   "metadata": {},
   "outputs": [
    {
     "name": "stdout",
     "output_type": "stream",
     "text": [
      "t= 0\n",
      "t= 2\n",
      "t= 4\n",
      "t= 6\n",
      "t= 8\n",
      "t= 10\n",
      "The loop is finished\n"
     ]
    }
   ],
   "source": [
    "t = 0\n",
    "dt = 2\n",
    "while t < 11:\n",
    "  print(\"t=\", t)\n",
    "  t = t + dt\n",
    "\n",
    "print(\"The loop is finished\")"
   ]
  },
  {
   "cell_type": "markdown",
   "metadata": {},
   "source": [
    "### Exercise\n",
    "\n",
    "Copy and edit the program above so it counts from 10 to 100 by 5."
   ]
  },
  {
   "cell_type": "code",
   "execution_count": null,
   "metadata": {},
   "outputs": [],
   "source": []
  },
  {
   "cell_type": "markdown",
   "metadata": {},
   "source": [
    "### Exercise\n",
    "\n",
    "Copy and edit the program above so it counts from 100 to 0 by 10."
   ]
  },
  {
   "cell_type": "code",
   "execution_count": null,
   "metadata": {},
   "outputs": [],
   "source": []
  },
  {
   "cell_type": "markdown",
   "metadata": {},
   "source": [
    "A loop, like the ones we will use in our class, has 4 parts.\n",
    "\n",
    "1. Initialization of a variable\n",
    "* A test to see if some condition has been met\n",
    "* Calculations or other operations (like `print`) using the variable \n",
    "* An addition (increment) to the variable\n"
   ]
  },
  {
   "cell_type": "markdown",
   "metadata": {},
   "source": [
    "### Exercise: The final value of t"
   ]
  },
  {
   "cell_type": "markdown",
   "metadata": {},
   "source": [
    "In the program below, what is the final value of t after the loop is finished? \n",
    "\n",
    "Add a print statement to print the value of `t` **after** the loop is finished. Are you surprised by the result?"
   ]
  },
  {
   "cell_type": "code",
   "execution_count": 3,
   "metadata": {
    "nbgrader": {
     "grade": true,
     "grade_id": "Loop3A_ans",
     "locked": false,
     "points": 1,
     "schema_version": 3,
     "solution": true,
     "task": false
    }
   },
   "outputs": [
    {
     "name": "stdout",
     "output_type": "stream",
     "text": [
      "t= 0\n",
      "t= 2\n",
      "t= 4\n",
      "t= 6\n",
      "t= 8\n",
      "t= 10\n",
      "The loop is finished\n"
     ]
    }
   ],
   "source": [
    "t = 0\n",
    "dt = 2\n",
    "while t < 11:\n",
    "  print(\"t=\", t)\n",
    "  t = t + dt\n",
    "\n",
    "print(\"The loop is finished\")"
   ]
  },
  {
   "cell_type": "markdown",
   "metadata": {},
   "source": [
    "## Challenge\n",
    "\n",
    "You are a recent college graduate, and you are offered a new job. It doesn't pay very well at first, but there is opportunity for growth if you do well. On the first day of your job, you will be paid one penny, or 0.01 dollars. But if you do well, your daily wages will double each day. So the second day, you will be paid 0.02. The third day, 0.04, and so forth. (All units are dollars.)\n",
    "\n",
    "1. Use a loop to calculate your daily wages and your total wages for the first 5 days.\n",
    "2. How much will you make on Day 30?\n",
    "3. What is the total amount of money you will make for 30 days?"
   ]
  },
  {
   "cell_type": "code",
   "execution_count": null,
   "metadata": {},
   "outputs": [],
   "source": []
  }
 ],
 "metadata": {
  "celltoolbar": "Create Assignment",
  "kernelspec": {
   "display_name": "Python 3",
   "language": "python",
   "name": "python3"
  },
  "language_info": {
   "codemirror_mode": {
    "name": "ipython",
    "version": 3
   },
   "file_extension": ".py",
   "mimetype": "text/x-python",
   "name": "python",
   "nbconvert_exporter": "python",
   "pygments_lexer": "ipython3",
   "version": "3.8.3"
  }
 },
 "nbformat": 4,
 "nbformat_minor": 2
}
