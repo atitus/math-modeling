{
 "cells": [
  {
   "cell_type": "code",
   "execution_count": null,
   "metadata": {},
   "outputs": [],
   "source": [
    "import numpy as np\n",
    "import matplotlib.pyplot as plt"
   ]
  },
  {
   "cell_type": "markdown",
   "metadata": {},
   "source": [
    "# Compounding Interest"
   ]
  },
  {
   "cell_type": "markdown",
   "metadata": {},
   "source": [
    "The interest on an investment or a debt is proportional to the amount of money invested or owed and the interest rate. Mathematically, this is similar to population growth. In this notebook, you will calculate the value of an investement with compounded interest and the principal paid on a debt with compounded interest."
   ]
  },
  {
   "cell_type": "markdown",
   "metadata": {},
   "source": [
    "## Investment"
   ]
  },
  {
   "cell_type": "markdown",
   "metadata": {},
   "source": [
    "Suppose you invest $1,000 that earns 7% interest per year, compounded (i.e. computed) daily.\n",
    "\n",
    "1. How much interest do you earn after the one day?\n",
    "2. How much (total) money do you have in this investment after one day?\n",
    "\n",
    "Do your calculation below."
   ]
  },
  {
   "cell_type": "markdown",
   "metadata": {},
   "source": [
    "How much is your investment (in the previous question) worth after one year? Describe *how* you have to solve the problem below."
   ]
  },
  {
   "cell_type": "markdown",
   "metadata": {},
   "source": [
    "### Background"
   ]
  },
  {
   "cell_type": "markdown",
   "metadata": {},
   "source": [
    "Let's use the variable $P$ for the value of your investment and $r$ for the interest rate. At $t=0$, you invest $P=1000$ dollars. The change in the value of your investment in a time interval $\\Delta t$ is:\n",
    "\n",
    "$$\\Delta P = rP\\Delta t$$\n",
    "\n",
    "The quantity $rP$ is the money you earn from interest per day (or per unit of time being used). After a time interval $\\Delta t$, the value of your investment is\n",
    "\n",
    "$$P=P+\\Delta P$$\n",
    "\n",
    "This is called *compound interest* because the money earned from interest becomes part of the investment. So, as $P$ increases, the amount of money you earn from interest $\\Delta P$ also increases because it is proportional to $P$.\n",
    "\n",
    "We can write these equations in terms of the rate of change in your investment, $rate=\\dfrac{\\Delta P}{\\Delta t}$, which is\n",
    "\n",
    "$$rate = rP$$\n",
    "\n",
    "Thus, the value of your investment after a time interval $\\Delta t$ is\n",
    "\n",
    "$$P=P+rate\\Delta t$$"
   ]
  },
  {
   "cell_type": "markdown",
   "metadata": {},
   "source": [
    "### Interest Rate"
   ]
  },
  {
   "cell_type": "markdown",
   "metadata": {},
   "source": [
    "The growth rate $r$ is the interest rate and has units of $1/time$. Interest is computed (or *compounded*) after a certain time interval. Perhaps it is daily, monthly, or annually. Or, it can be computed *continuously* which  means that $\\Delta t$ is very, very small. (A second, an hour, or a day might be small enough to be considered *continuous*, depending on the total time you are considering.)\n",
    "\n",
    "Sometimes an interest rate is reported *annually* but the interest is computed *continuously*. In this case, the interest rate must be converted to the unit $1/time$ where $time$ is the unit used by in $\\Delta t$. For example, if $\\Delta t$ is one day, then the interest rate must be converted to a unit of $1/day$."
   ]
  },
  {
   "cell_type": "markdown",
   "metadata": {},
   "source": [
    "### Example"
   ]
  },
  {
   "cell_type": "markdown",
   "metadata": {},
   "source": [
    "Suppose you invest $1,000 that earns 7% interest per year, compounded (i.e. computed) daily.\n",
    "\n",
    "1. How much (total) money do you have in this investment after one year?\n",
    "2. How much total interest did you earn after one year?\n"
   ]
  },
  {
   "cell_type": "code",
   "execution_count": null,
   "metadata": {
    "nbgrader": {
     "grade": true,
     "grade_id": "Ex_1_ans",
     "locked": false,
     "points": 1,
     "schema_version": 3,
     "solution": true,
     "task": false
    }
   },
   "outputs": [],
   "source": [
    "P = 1000\n",
    "r = 0.07/365 #APR on a per day basis\n",
    "dt = 1 #day\n",
    "t = 0\n",
    "Itotal = 0\n",
    "\n",
    "while t < 365:\n",
    "    I = r*P*dt #interest earned in one day\n",
    "    P = P + I #total principal\n",
    "    Itotal = Itotal + I #total interest\n",
    "    t = t + dt\n",
    "\n",
    "print(\"After t = {:.0f} days, P = ${:.2f} and the total interest earned = ${:.2f}.\".format(t, P, Itotal))\n",
    "    "
   ]
  },
  {
   "cell_type": "markdown",
   "metadata": {},
   "source": [
    "The long-term return of the stock market, as measured by the S&P 500 index from 1957-2018 is about 7.96%. For the 20 years ending June 30, 2019 the average annual return of the S&P 500 is 5.90%.\n",
    "\n",
    "In our examples below, I'll generally assume a 7% annual interest rate."
   ]
  },
  {
   "cell_type": "markdown",
   "metadata": {},
   "source": [
    "### Exercise 1"
   ]
  },
  {
   "cell_type": "markdown",
   "metadata": {},
   "source": [
    "College Student A invests $\\$1,000$ on her 20th birthday, and the investment earns 7% for the rest of her life. On her 65th birthday, what is her investment worth? (Assume the investment is compounded daily.)\n",
    "\n",
    "If College Student B invests $\\$1,000$ on her 30th birthday and the investment earns 7% for the rest of her life, what is her investment worth on her 65th birthday? (Assume the investment is compounded daily.)\n",
    "\n",
    "1. What was the average annual return on the investment for each student? (amount earned divided by total number of years)\n",
    "1. Comment on the extra value obtained by investing 10 years earlier?"
   ]
  },
  {
   "cell_type": "code",
   "execution_count": null,
   "metadata": {
    "nbgrader": {
     "grade": true,
     "grade_id": "Ex_2_ans",
     "locked": false,
     "points": 1,
     "schema_version": 3,
     "solution": true,
     "task": false
    }
   },
   "outputs": [],
   "source": []
  },
  {
   "cell_type": "markdown",
   "metadata": {},
   "source": [
    "### Exercise 2"
   ]
  },
  {
   "cell_type": "markdown",
   "metadata": {},
   "source": [
    "For College Student A in the previous question:\n",
    "\n",
    "1. Plot the value of her investment as a function of time on a graph. \n",
    "1. How long did it take to double?\n",
    "1. How long did it take to quadruple?"
   ]
  },
  {
   "cell_type": "code",
   "execution_count": null,
   "metadata": {
    "nbgrader": {
     "grade": true,
     "grade_id": "Ex_3_ans",
     "locked": false,
     "points": 1,
     "schema_version": 3,
     "solution": true,
     "task": false
    }
   },
   "outputs": [],
   "source": []
  },
  {
   "cell_type": "markdown",
   "metadata": {},
   "source": [
    "## Annual Contributions to an Investment"
   ]
  },
  {
   "cell_type": "markdown",
   "metadata": {},
   "source": [
    "An investment goal is typically to add a constant amount to your investment every month or every year. This is the concept behind *saving*, of course. \n",
    "\n",
    "A good example is a **Roth IRA** where you can invest up to $\\$2,000$ per year (*after paying taxes*) and then withdraw the investment, including interest, after retirement and not pay taxes on the interest. The ultimate benefit is obtained if you invest $\\$2,000$ per year.\n",
    "\n",
    "How can we include this in our calculation? In our loop, *after each year*, we have to add a constant 2000 to our investment. This means we will need a *conditional*, `if` statement, in our loop to check whether a year has elapsed.\n",
    "\n",
    "There are many ways to check that a year has elapsed. I'll show you one way using a *loop counter*. \n",
    "\n",
    "Let's assume a college student invests  $\\$2,000$ into a Roth IRA on her 20th birthday, and the investment earns 7% for the rest of her life. On every birthday, she adds another $\\$2,000$ to her investment. What is her investment worth on her 65th birthday?"
   ]
  },
  {
   "cell_type": "code",
   "execution_count": null,
   "metadata": {},
   "outputs": [],
   "source": [
    "P = 2000\n",
    "r = 0.07/365 #APR on a per day basis\n",
    "dt = 1 #day\n",
    "t = 0\n",
    "Itotal = 0\n",
    "years = 65-20\n",
    "\n",
    "tdata = []\n",
    "Pdata = []\n",
    "\n",
    "day = 0\n",
    "\n",
    "while t < years*365:\n",
    "    I = r*P*dt #interest earned in one day\n",
    "    P = P + I #total principal\n",
    "    Itotal = Itotal + I #total interest\n",
    "    t = t + dt\n",
    "    tyears = t /365\n",
    "\n",
    "    day = day + 1\n",
    "    \n",
    "    if(day>365):\n",
    "        day = 0 #reset day to 0\n",
    "        P = P + 2000 #add 2000 to the investment\n",
    "    \n",
    "    tdata.append(tyears)\n",
    "    Pdata.append(P)\n",
    "\n",
    "print(\"After t = {:.0f} years, P = ${:.2f} and the total interest earned = ${:.2f}.\".format(tyears, P, Itotal))\n",
    "\n",
    "fig = plt.figure()\n",
    "plt.title(\"Investment as a function of time\")\n",
    "plt.xlabel('time (y)')\n",
    "plt.ylabel('principal (US dollar)')\n",
    "plt.plot(tdata, Pdata, 'b-')\n",
    "plt.show()"
   ]
  },
  {
   "cell_type": "markdown",
   "metadata": {},
   "source": [
    "### Exercise 3"
   ]
  },
  {
   "cell_type": "markdown",
   "metadata": {},
   "source": [
    "College Student A invests $\\$2,000$ on her 20th birthday and adds $\\$2,000$ on every birthday until she is 65. The investment earns 7% for the rest of her life. On her 65th birthday, what is her investment worth? (Assume the investment is compounded daily.)\n",
    "\n",
    "College Student B invests $\\$2,000$ on her 30th birthday and adds $\\$2,000$ on every birthday until she is 65. The investment earns 7% for the rest of her life. On her 65th birthday, what is her investment worth? (Assume the investment is compounded daily.)\n",
    "\n",
    "1. How much more did Student A earn?\n",
    "2. How much more did Student A invest?"
   ]
  },
  {
   "cell_type": "code",
   "execution_count": null,
   "metadata": {
    "nbgrader": {
     "grade": true,
     "grade_id": "Ex_4_ans",
     "locked": false,
     "points": 1,
     "schema_version": 3,
     "solution": true,
     "task": false
    }
   },
   "outputs": [],
   "source": []
  },
  {
   "cell_type": "markdown",
   "metadata": {},
   "source": [
    "## Debt"
   ]
  },
  {
   "cell_type": "markdown",
   "metadata": {},
   "source": [
    "Suppose you take out a loan to purchase a house for $\\$200,000$. The interest rate on the debt is compounded monthly at a rate of 5% per year. You pay $\\$1,000$ per month. How long will it be before you pay off the house?"
   ]
  },
  {
   "cell_type": "markdown",
   "metadata": {},
   "source": [
    "### Background"
   ]
  },
  {
   "cell_type": "markdown",
   "metadata": {},
   "source": [
    "The loan amount is called the principal which we will call $P$. The interest you owe is part of the monthly payment. The interest you owe in a time interval $\\Delta t$ is:\n",
    "\n",
    "$$I = rP\\Delta t$$\n",
    "\n",
    "At the end of each month, you pay principal and interest that sums to your monthly payment, which is \\$1,000 in this example. So the amount of money that goes to principal in a given month is\n",
    "\n",
    "$$\\Delta P = 1000 - I$$\n",
    "\n",
    "And your new principal after this payment is:\n",
    "\n",
    "$$P=P-\\Delta P$$"
   ]
  },
  {
   "cell_type": "markdown",
   "metadata": {},
   "source": [
    "### Example"
   ]
  },
  {
   "cell_type": "markdown",
   "metadata": {},
   "source": [
    "1. You purchase a home for $\\$$200,000 at an annual rate of 5% compounded monthly, and your monthly payment is $\\$$1,000. During the first month, how much do you pay on the principal of the loan, and how much do you pay in interest?\n",
    "2. During the second month, how much do you pay in principal and in interest?"
   ]
  },
  {
   "cell_type": "code",
   "execution_count": null,
   "metadata": {
    "nbgrader": {
     "grade": true,
     "grade_id": "Ex_5_ans",
     "locked": false,
     "points": 1,
     "schema_version": 3,
     "solution": true,
     "task": false
    }
   },
   "outputs": [],
   "source": [
    "### BEGIN SOLUTION\n",
    "P = 200000\n",
    "r = 0.05/12\n",
    "dt = 1\n",
    "t = 0\n",
    "\n",
    "I = r *P*dt #interest paid for one month\n",
    "Ppaid = 1000 - I\n",
    "P  = P - Ppaid\n",
    "t = t + dt\n",
    "print(\"Interest = \", I, \"Ppaid = \", Ppaid, \"Principal = \", P)\n",
    "\n",
    "I = r *P*dt #interest paid for one month\n",
    "Ppaid = 1000 - I\n",
    "P  = P - Ppaid\n",
    "t = t + dt\n",
    "print(\"Interest = \", I, \"Ppaid = \", Ppaid, \"Principal = \", P)\n",
    "\n",
    "\n",
    "### END SOLUTION"
   ]
  },
  {
   "cell_type": "markdown",
   "metadata": {},
   "source": [
    "### Exercise 4"
   ]
  },
  {
   "cell_type": "markdown",
   "metadata": {},
   "source": [
    "For home loan given in the example:\n",
    "\n",
    "1. How long does it take to pay off the loan?\n",
    "2. Plot the interest paid per month as a function of time.\n",
    "3. Plot the principal paid per month as a function of time.\n",
    "4. How much did your pay for the home?\n",
    "5. How do your answers change if the interest is compounded daily?"
   ]
  },
  {
   "cell_type": "code",
   "execution_count": null,
   "metadata": {
    "nbgrader": {
     "grade": true,
     "grade_id": "Ex_6_ans",
     "locked": false,
     "points": 1,
     "schema_version": 3,
     "solution": true,
     "task": false
    }
   },
   "outputs": [],
   "source": []
  },
  {
   "cell_type": "markdown",
   "metadata": {},
   "source": [
    "### Exercise 5"
   ]
  },
  {
   "cell_type": "markdown",
   "metadata": {},
   "source": [
    "Suppose you got the same loan as in the example and made the same payment, but the interest rate is 4%. How much less money will you spend over the life of the loan and how much sooner will you pay off the loan?"
   ]
  },
  {
   "cell_type": "code",
   "execution_count": null,
   "metadata": {
    "nbgrader": {
     "grade": true,
     "grade_id": "Ex_7_ans",
     "locked": false,
     "points": 1,
     "schema_version": 3,
     "solution": true,
     "task": false
    }
   },
   "outputs": [],
   "source": []
  },
  {
   "cell_type": "markdown",
   "metadata": {},
   "source": [
    "### Exercise 6"
   ]
  },
  {
   "cell_type": "markdown",
   "metadata": {},
   "source": [
    "For a $\\$$200,000 loan at an annual rate of 5% compounded monthly:\n",
    "\n",
    "1. What should be the payment in order to pay it off in 30 y?\n",
    "2. What should be the payment in order to pay it off in 15 y?\n",
    "3. How much money do you save by paying off the loan in 15 y?"
   ]
  },
  {
   "cell_type": "code",
   "execution_count": null,
   "metadata": {},
   "outputs": [],
   "source": []
  }
 ],
 "metadata": {
  "celltoolbar": "Create Assignment",
  "kernelspec": {
   "display_name": "Python 3",
   "language": "python",
   "name": "python3"
  },
  "language_info": {
   "codemirror_mode": {
    "name": "ipython",
    "version": 3
   },
   "file_extension": ".py",
   "mimetype": "text/x-python",
   "name": "python",
   "nbconvert_exporter": "python",
   "pygments_lexer": "ipython3",
   "version": "3.8.3"
  }
 },
 "nbformat": 4,
 "nbformat_minor": 4
}
