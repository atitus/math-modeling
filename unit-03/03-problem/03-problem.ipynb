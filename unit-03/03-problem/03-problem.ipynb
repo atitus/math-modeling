{
 "cells": [
  {
   "cell_type": "code",
   "execution_count": 1,
   "metadata": {},
   "outputs": [],
   "source": [
    "import numpy as np\n",
    "import matplotlib.pyplot as plt"
   ]
  },
  {
   "cell_type": "markdown",
   "metadata": {},
   "source": [
    "# Unit 03 Assessment - Individual Part\n",
    "\n",
    "In Unit 03, we modeled systems that evolve in time. These types of models are called *dynamic models*. In this unit, the learning goals are to:\n",
    "\n",
    "- use a dynamic model to make predictions in areas of study like population dynamics, personal finance, and transmission of infectious diseases.\n",
    "- write a dynamic model if given the initial value and rate of change of a variable.\n",
    "- modify a dynamic model to include new or different kinds of interactions or variables.\n",
    "- compare predictions of a dynamic model to measured data.\n",
    "\n",
    "## Grading\n",
    "\n",
    "- Exercise 1 -- 45 points\n",
    "- Exercise 2 -- 10 points\n",
    "- Exercise 3 -- 10 points\n",
    "- Exercise 4 -- 10 points\n",
    "\n",
    "## Instructions\n",
    "\n",
    "- Do the exercises below. \n",
    "- Add additional code cells or markdown cells as necessary. \n",
    "- Provide your answers to questions in narrative form (i.e. complete sentences) below each question. You can edit the markdown cells. \n",
    "- I should be able to find the code you used for all calculations. **You may not use a calculator. All calculations must be done in Python.**\n",
    "- You may use our textbook and your Google Colab notebooks."
   ]
  },
  {
   "cell_type": "markdown",
   "metadata": {},
   "source": [
    "## Exercise 0\n",
    "\n",
    "**YOUR NAME**:  "
   ]
  },
  {
   "cell_type": "markdown",
   "metadata": {},
   "source": [
    "# Exercise 1\n",
    "\n",
    "Strontium-90 atoms decay through emission of electrons. This particular decay process is called beta decay. \n",
    "\n",
    "A single strontium-90 atom decays into a electron, an antineutrino, and a yttrium-90 atom. If $Q$ represents the number of strontium-90 atoms in a sample, the rate of change of $Q$ is\n",
    "\n",
    "$$rate= \\frac{\\Delta Q}{\\Delta t} = -r Q$$\n",
    "\n",
    "where the decay rate constant is $r=0.0241$ in units of $1/year$.\n",
    "\n",
    "Compute and graph $Q$ up to 10 years, using a time step of 0.01 year and an initial number of 1,000 strontium-90 atoms."
   ]
  },
  {
   "cell_type": "code",
   "execution_count": null,
   "metadata": {},
   "outputs": [],
   "source": []
  },
  {
   "cell_type": "markdown",
   "metadata": {},
   "source": [
    "1. What percentage of the initial sample of strontium-90 atoms remain (i.e. have not decayed) at $t=10$ years?\n",
    "\n",
    "2. Scientists often report the decay rate of radioactive isotopes in terms of its *half-life* which is the time required for half of the initial sample to decay. What is the half-life of strontium-90?"
   ]
  },
  {
   "cell_type": "markdown",
   "metadata": {},
   "source": [
    "## Exercise 2\n",
    "\n",
    "Your friend, Julia, is evaluating two different types of student loans and asks you for advice. She needs to borrow $\\$20,000$. Her options are:\n",
    "\n",
    "**Loan A**\n",
    "\n",
    "Pay $\\$150$ per month at a fixed interest rate of 5% compounded monthly.\n",
    "\n",
    "**Loan B**\n",
    "\n",
    "Pay $\\$150$ per month at a fixed interest rate of 3% compounded monthly for four years. After 4 years, pay $\\$150$ per month at a fixed interest rate of 7%.\n",
    "\n",
    "\n",
    "\n",
    "1. Which loan do you recommend if her goal is to save as much money as possible?\n",
    "\n",
    "2. How long will it take to pay off her preferred loan?"
   ]
  },
  {
   "cell_type": "code",
   "execution_count": null,
   "metadata": {},
   "outputs": [],
   "source": []
  },
  {
   "cell_type": "markdown",
   "metadata": {},
   "source": [
    "## Exercise 3\n",
    "\n",
    "Newton's law of cooling describes how a substance (such as hot coffee for example) cools due to conduction with its surroundings. Suppose the temperature of the surroundings is $20^\\circ \\mathrm{C}$ and the temperature $T$ of coffee in a mug changes at a rate\n",
    "\n",
    "$$rate = \\frac{\\Delta T}{\\Delta t} = -k(T-20)$$\n",
    "\n",
    "where $k=0.1$ in units of $1/minute$ and $T$ is in degrees celsius.\n",
    "\n",
    "You have a hot cup of coffee that is initially at $T=80^\\circ \\mathrm{C}$. Using a time step of 1.0 s, calculate and plot the temperature of the coffee as a function of time for one hour. (Use a unit for time in minutes, and convert your time step to minutes, knowing that there are 60 s in one minute.)"
   ]
  },
  {
   "cell_type": "code",
   "execution_count": null,
   "metadata": {},
   "outputs": [],
   "source": []
  },
  {
   "cell_type": "markdown",
   "metadata": {},
   "source": [
    "1. What is the temperature of the coffee at $t=5$ minutes? (Modify your program so you can answer precisely. Do not estimate by reading the graph.)\n",
    "2. How long does it take for the temperature to be at $40^\\circ C$?  (Modify your program so you can answer precisely. Do not estimate by reading the graph.)"
   ]
  },
  {
   "cell_type": "markdown",
   "metadata": {},
   "source": [
    "## Exercise 4\n",
    "\n",
    "Start by copying and pasting your program from the previous exercise. If you did not complete Exercise 3, then skip this one.\n",
    "\n",
    "**In this exercise, you will investigate the effect on the temperature of the system by adding cream to your coffee.**\n",
    "\n",
    "One minute after the coffee has cooled, you pour a mass of $m_{cream}=20$ grams and temperature $T_{cream}=5^\\circ \\mathrm{C}$ into your coffee which has a mass $m_{coffee}=100$ grams. After you pour the milk into the coffee, the coffee will quickly have a new temperature of:\n",
    "\n",
    "$$T_{new} = \\frac{100T_{old} + 20*5}{100+20}$$\n",
    "\n",
    "To change the temperature suddenly at $t=1$ minute to this new value, you will need an `if` statement like this one inside your loop:\n",
    "\n",
    "```\n",
    "if (t > 1 - dt/2) and (t < 1 + dt/2):\n",
    "    T = \n",
    "```\n",
    "\n",
    "where `dt` is the variable used for the time step.\n",
    "\n",
    "1. What is the temperature of the coffee (with cream) at $t=5$ minutes?"
   ]
  },
  {
   "cell_type": "code",
   "execution_count": null,
   "metadata": {},
   "outputs": [],
   "source": []
  },
  {
   "cell_type": "markdown",
   "metadata": {},
   "source": [
    "2. Now, you repeat the experiment but this time you wait until $t=4$ minutes to add the cream to your coffee. What is the temperature of the coffee (with cream) at $t=5$ minutes?"
   ]
  },
  {
   "cell_type": "code",
   "execution_count": null,
   "metadata": {},
   "outputs": [],
   "source": []
  },
  {
   "cell_type": "markdown",
   "metadata": {},
   "source": [
    "3. If your goal is to drink your coffee as hot as possible at $t=5$ minutes, after adding the cream, should you add the cream earlier then the coffee is hot or later when the coffee has cooled?"
   ]
  },
  {
   "cell_type": "code",
   "execution_count": null,
   "metadata": {},
   "outputs": [],
   "source": []
  }
 ],
 "metadata": {
  "kernelspec": {
   "display_name": "Python 3",
   "language": "python",
   "name": "python3"
  },
  "language_info": {
   "codemirror_mode": {
    "name": "ipython",
    "version": 3
   },
   "file_extension": ".py",
   "mimetype": "text/x-python",
   "name": "python",
   "nbconvert_exporter": "python",
   "pygments_lexer": "ipython3",
   "version": "3.8.3"
  }
 },
 "nbformat": 4,
 "nbformat_minor": 4
}
