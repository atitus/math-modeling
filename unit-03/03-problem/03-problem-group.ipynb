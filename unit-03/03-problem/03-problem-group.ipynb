{
 "cells": [
  {
   "cell_type": "markdown",
   "metadata": {},
   "source": [
    "# Unit 03 Assessment - Group Part\n",
    "\n",
    "For the group assignment, the goal is to tackle a **harder** (and perhaps more interesting) problem than you solved on the individual part. By working together, you can solve harder problems. In addition, we want to prepare for the end-of-semester project.\n",
    "\n",
    "## Instructions\n",
    "\n",
    "- This part is worth 25 points (out of 100).\n",
    "- Exercise 1A should be answered by one group partner and Exercise 1B should be answered by the other group partner.\n",
    "- You will need to use *Introduction to Computational Science* by Shiflet and Shiflet.\n",
    "- You may ask me clarifying questions."
   ]
  },
  {
   "cell_type": "markdown",
   "metadata": {},
   "source": [
    "## Exercise 0\n",
    "\n",
    "Please write the names of the people in the group."
   ]
  },
  {
   "cell_type": "markdown",
   "metadata": {},
   "source": [
    "## Exercise 1A\n",
    "\n",
    "Review the projects listed at the end of each module in Modules 2.1 - 2.3 and Modules 4.1 - 4.3. Some of these projects you already answered in notebooks associated with our class. Describe a **new** project that seems potentially interesting."
   ]
  },
  {
   "cell_type": "markdown",
   "metadata": {},
   "source": [
    "## Exercise 1B\n",
    "\n",
    "Skim Module 2.5, Modules 3.1 - 3.4, Modules 4.3-4.5, and Modules 7.1-7.15. Describe one module that seems interesting to you."
   ]
  },
  {
   "cell_type": "markdown",
   "metadata": {},
   "source": [
    "## Exercise 2\n",
    "\n",
    "Choose from one of the following. You only have to do one of these.\n",
    "\n",
    "1. Choose a project from Modules 2.1 - 2.3 and Modules 4.1 - 4.3 and do the project. In narrative form, fully describe the problem you are solving. Write code to solve the problem. Then, in narrative form, describe your results or conclusions.\n",
    "2. Choose a model from Unit 03 and modify the model in an interesting way. Fully describe the model, the modification you made, and the result(s) of changing the model.\n",
    "\n",
    "To achieve full credit (25 points), you should choose a project or modify a model that is moderately or significantly challenging."
   ]
  },
  {
   "cell_type": "code",
   "execution_count": null,
   "metadata": {},
   "outputs": [],
   "source": []
  }
 ],
 "metadata": {
  "kernelspec": {
   "display_name": "Python 3",
   "language": "python",
   "name": "python3"
  },
  "language_info": {
   "codemirror_mode": {
    "name": "ipython",
    "version": 3
   },
   "file_extension": ".py",
   "mimetype": "text/x-python",
   "name": "python",
   "nbconvert_exporter": "python",
   "pygments_lexer": "ipython3",
   "version": "3.8.3"
  }
 },
 "nbformat": 4,
 "nbformat_minor": 4
}
